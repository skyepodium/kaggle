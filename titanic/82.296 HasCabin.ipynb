{
 "cells": [
  {
   "cell_type": "code",
   "execution_count": 1091,
   "metadata": {},
   "outputs": [],
   "source": [
    "import pandas as pd\n",
    "import numpy as np\n",
    "import matplotlib.pyplot as plt\n",
    "import seaborn as sns\n",
    "from sklearn.preprocessing import MinMaxScaler, StandardScaler\n",
    "from sklearn.model_selection import train_test_split\n",
    "from sklearn.metrics import classification_report,confusion_matrix\n",
    "from sklearn.linear_model import LogisticRegression\n",
    "sns.set() #make the graphs prettier"
   ]
  },
  {
   "cell_type": "code",
   "execution_count": 1092,
   "metadata": {},
   "outputs": [],
   "source": [
    "test = pd.read_csv(\"./input/test.csv\")\n",
    "train = pd.read_csv(\"./input/train.csv\")\n",
    "\n",
    "data_cleaner = [train, test]"
   ]
  },
  {
   "cell_type": "code",
   "execution_count": 1093,
   "metadata": {},
   "outputs": [
    {
     "data": {
      "text/html": [
       "<div>\n",
       "<style scoped>\n",
       "    .dataframe tbody tr th:only-of-type {\n",
       "        vertical-align: middle;\n",
       "    }\n",
       "\n",
       "    .dataframe tbody tr th {\n",
       "        vertical-align: top;\n",
       "    }\n",
       "\n",
       "    .dataframe thead th {\n",
       "        text-align: right;\n",
       "    }\n",
       "</style>\n",
       "<table border=\"1\" class=\"dataframe\">\n",
       "  <thead>\n",
       "    <tr style=\"text-align: right;\">\n",
       "      <th></th>\n",
       "      <th>3</th>\n",
       "      <th>1</th>\n",
       "      <th>2</th>\n",
       "    </tr>\n",
       "  </thead>\n",
       "  <tbody>\n",
       "    <tr>\n",
       "      <td>Age</td>\n",
       "      <td>25.14062</td>\n",
       "      <td>38.233441</td>\n",
       "      <td>29.87763</td>\n",
       "    </tr>\n",
       "  </tbody>\n",
       "</table>\n",
       "</div>"
      ],
      "text/plain": [
       "            3          1         2\n",
       "Age  25.14062  38.233441  29.87763"
      ]
     },
     "execution_count": 1093,
     "metadata": {},
     "output_type": "execute_result"
    }
   ],
   "source": [
    "age_ref = pd.DataFrame(data=[train.groupby('Pclass')['Age'].mean()],columns=train['Pclass'].unique())\n",
    "age_ref"
   ]
  },
  {
   "cell_type": "code",
   "execution_count": 1094,
   "metadata": {},
   "outputs": [],
   "source": [
    "def fill_age(pclass,age):\n",
    "    if pd.isnull(age):\n",
    "        return float(age_ref[pclass])\n",
    "    else:\n",
    "        return age\n",
    "\n",
    "for data in data_cleaner:\n",
    "    data['Age'] = train.apply(lambda x: fill_age(x['Pclass'],x['Age']), axis=1)"
   ]
  },
  {
   "cell_type": "code",
   "execution_count": 1095,
   "metadata": {},
   "outputs": [],
   "source": [
    "def fill_fare(fare):\n",
    "    if pd.isnull(fare):\n",
    "        return train['Fare'].mean()\n",
    "    else:\n",
    "        return fare\n",
    "    \n",
    "def fill_embark(embark):\n",
    "    if pd.isnull(embark):\n",
    "        return train['Embarked'].mode().iloc[0]\n",
    "    else:\n",
    "        return embark\n",
    "    \n",
    "for data in data_cleaner:\n",
    "    data['Fare'] = train.apply(lambda x: fill_fare(x['Fare']), axis=1)\n",
    "    data['Embarked'] = train.apply(lambda x: fill_embark(x['Embarked']), axis=1)"
   ]
  },
  {
   "cell_type": "code",
   "execution_count": 1096,
   "metadata": {},
   "outputs": [],
   "source": [
    "def setCabin(val):\n",
    "    result = 0\n",
    "    if pd.isna(val): result = 0\n",
    "    else: result = 1\n",
    "    return result\n",
    "\n",
    "train[\"HasCabin\"] = train[\"Cabin\"].apply(setCabin)\n",
    "test[\"HasCabin\"] = test[\"Cabin\"].apply(setCabin)"
   ]
  },
  {
   "cell_type": "code",
   "execution_count": 1097,
   "metadata": {},
   "outputs": [],
   "source": [
    "for data in data_cleaner:\n",
    "    data.drop(['Cabin'],axis=1,inplace=True)"
   ]
  },
  {
   "cell_type": "code",
   "execution_count": 1098,
   "metadata": {},
   "outputs": [],
   "source": [
    "title_list = list()\n",
    "for data in data_cleaner:\n",
    "    for title in data['Name']:\n",
    "        title = title.split('.')[0].split(',')[1]\n",
    "        title_list.append(title)\n",
    "    \n",
    "    data['Title'] = title_list\n",
    "    title_list = list()"
   ]
  },
  {
   "cell_type": "code",
   "execution_count": 1099,
   "metadata": {},
   "outputs": [
    {
     "data": {
      "text/plain": [
       " Mr        517\n",
       " Miss      182\n",
       " Mrs       125\n",
       " Master     40\n",
       "Others      27\n",
       "Name: Title, dtype: int64"
      ]
     },
     "execution_count": 1099,
     "metadata": {},
     "output_type": "execute_result"
    }
   ],
   "source": [
    "train['Title'] = train['Title'].replace([ ' Don', ' Rev', ' Dr', ' Mme',' Ms', ' Major', ' Lady', ' Sir', ' Mlle', ' Col', ' Capt',\n",
    "       ' the Countess', ' Jonkheer'], 'Others')\n",
    "train['Title'].value_counts()"
   ]
  },
  {
   "cell_type": "code",
   "execution_count": 1100,
   "metadata": {},
   "outputs": [
    {
     "data": {
      "text/plain": [
       " Mr        240\n",
       " Miss       78\n",
       " Mrs        72\n",
       " Master     21\n",
       "Others       7\n",
       "Name: Title, dtype: int64"
      ]
     },
     "execution_count": 1100,
     "metadata": {},
     "output_type": "execute_result"
    }
   ],
   "source": [
    "test['Title'] = test['Title'].replace([ ' Don', ' Rev', ' Dr', ' Mme',' Ms', ' Major', ' Lady', ' Sir', ' Mlle', ' Col', ' Capt',\n",
    "       ' the Countess', ' Jonkheer',' Dona'], 'Others')\n",
    "test['Title'].value_counts()"
   ]
  },
  {
   "cell_type": "code",
   "execution_count": 1101,
   "metadata": {},
   "outputs": [
    {
     "name": "stderr",
     "output_type": "stream",
     "text": [
      "/Users/skyepodium/opt/anaconda3/lib/python3.7/site-packages/pandas/core/indexing.py:205: SettingWithCopyWarning: \n",
      "A value is trying to be set on a copy of a slice from a DataFrame\n",
      "\n",
      "See the caveats in the documentation: http://pandas.pydata.org/pandas-docs/stable/user_guide/indexing.html#returning-a-view-versus-a-copy\n",
      "  self._setitem_with_indexer(indexer, value)\n"
     ]
    }
   ],
   "source": [
    "def get_size(df):\n",
    "    if df['SibSp'] + df['Parch'] + 1 == 1:\n",
    "        return 'Single'\n",
    "    if df['SibSp'] + df['Parch'] + 1 > 1:\n",
    "        return 'Small'\n",
    "    if df['SibSp'] + df['Parch'] + 1 > 4:\n",
    "        return 'Big'\n",
    "    \n",
    "for data in data_cleaner:\n",
    "    data['FamilySize'] = data.apply(get_size,axis=1)\n",
    "\n",
    "for data in data_cleaner:\n",
    "    data['IsAlone'] = 1 \n",
    "    data['IsAlone'].loc[data['FamilySize'] != 'Single'] = 0"
   ]
  },
  {
   "cell_type": "code",
   "execution_count": 1102,
   "metadata": {},
   "outputs": [],
   "source": [
    "# train_age_yes = train[train[\"Age\"].notna()]\n",
    "# train_age_no = train[train[\"Age\"].isna()]"
   ]
  },
  {
   "cell_type": "code",
   "execution_count": 1103,
   "metadata": {},
   "outputs": [],
   "source": [
    "# train_age_yes.corr()"
   ]
  },
  {
   "cell_type": "code",
   "execution_count": 1104,
   "metadata": {},
   "outputs": [],
   "source": [
    "# x = train_age_yes[[\"Pclass\", \"IsAlone\"]]\n",
    "# y = train_age_yes[\"Age\"]"
   ]
  },
  {
   "cell_type": "code",
   "execution_count": 1105,
   "metadata": {},
   "outputs": [],
   "source": [
    "# from sklearn.linear_model import LinearRegression\n",
    "# from sklearn.model_selection import KFold, cross_val_score\n",
    "# from sklearn.metrics import mean_squared_error, make_scorer\n",
    "# score = make_scorer(mean_squared_error)\n",
    "# k_fold = KFold(n_splits=20, shuffle=True, random_state=42)"
   ]
  },
  {
   "cell_type": "code",
   "execution_count": 1106,
   "metadata": {},
   "outputs": [],
   "source": [
    "# lr = LinearRegression()\n",
    "# lr.fit(x, y)\n",
    "# scoring = \"mean_squared_error\"\n",
    "# score = cross_val_score(lr, x, y, cv=k_fold, n_jobs=1, scoring=score)\n",
    "# print(\"LinearRegression: {0: .4f}\".format(round(np.mean(np.sqrt(score)))))"
   ]
  },
  {
   "cell_type": "code",
   "execution_count": 1107,
   "metadata": {},
   "outputs": [],
   "source": [
    "# y_predict = lr.predict(train_age_no[[\"Pclass\", \"IsAlone\"]])\n",
    "# train_age_no[\"Age\"] = y_predict\n",
    "# train = pd.concat([train_age_yes, train_age_no])"
   ]
  },
  {
   "cell_type": "code",
   "execution_count": 1108,
   "metadata": {},
   "outputs": [],
   "source": [
    "# test_age_yes = test[test[\"Age\"].notna()]\n",
    "# test_age_no = test[test[\"Age\"].isna()]"
   ]
  },
  {
   "cell_type": "code",
   "execution_count": 1109,
   "metadata": {},
   "outputs": [],
   "source": [
    "# x_test = test_age_no[[\"Pclass\", \"IsAlone\"]]\n",
    "# y_predict = lr.predict(x_test)\n",
    "# test_age_no[\"Age\"] = y_predict\n",
    "# test = pd.concat([test_age_yes, test_age_no])"
   ]
  },
  {
   "cell_type": "code",
   "execution_count": null,
   "metadata": {},
   "outputs": [],
   "source": []
  },
  {
   "cell_type": "code",
   "execution_count": 1110,
   "metadata": {},
   "outputs": [
    {
     "data": {
      "text/html": [
       "<div>\n",
       "<style scoped>\n",
       "    .dataframe tbody tr th:only-of-type {\n",
       "        vertical-align: middle;\n",
       "    }\n",
       "\n",
       "    .dataframe tbody tr th {\n",
       "        vertical-align: top;\n",
       "    }\n",
       "\n",
       "    .dataframe thead th {\n",
       "        text-align: right;\n",
       "    }\n",
       "</style>\n",
       "<table border=\"1\" class=\"dataframe\">\n",
       "  <thead>\n",
       "    <tr style=\"text-align: right;\">\n",
       "      <th></th>\n",
       "      <th>AgeBand</th>\n",
       "      <th>Survived</th>\n",
       "    </tr>\n",
       "  </thead>\n",
       "  <tbody>\n",
       "    <tr>\n",
       "      <td>0</td>\n",
       "      <td>(0.34, 20.315]</td>\n",
       "      <td>0.458101</td>\n",
       "    </tr>\n",
       "    <tr>\n",
       "      <td>1</td>\n",
       "      <td>(20.315, 40.21]</td>\n",
       "      <td>0.364769</td>\n",
       "    </tr>\n",
       "    <tr>\n",
       "      <td>2</td>\n",
       "      <td>(40.21, 60.105]</td>\n",
       "      <td>0.390625</td>\n",
       "    </tr>\n",
       "    <tr>\n",
       "      <td>3</td>\n",
       "      <td>(60.105, 80.0]</td>\n",
       "      <td>0.227273</td>\n",
       "    </tr>\n",
       "  </tbody>\n",
       "</table>\n",
       "</div>"
      ],
      "text/plain": [
       "           AgeBand  Survived\n",
       "0   (0.34, 20.315]  0.458101\n",
       "1  (20.315, 40.21]  0.364769\n",
       "2  (40.21, 60.105]  0.390625\n",
       "3   (60.105, 80.0]  0.227273"
      ]
     },
     "execution_count": 1110,
     "metadata": {},
     "output_type": "execute_result"
    }
   ],
   "source": [
    "train[\"AgeBand\"] = pd.cut(train[\"Age\"], 4)\n",
    "train[[\"AgeBand\", \"Survived\"]].groupby(['AgeBand'], as_index=False).mean().sort_values(by='AgeBand', ascending=True)"
   ]
  },
  {
   "cell_type": "code",
   "execution_count": 1111,
   "metadata": {},
   "outputs": [],
   "source": [
    "# def setAge(val):\n",
    "#     if val < 13.823: result = 3\n",
    "#     elif val < 35.882: result = 2\n",
    "#     elif val < 57.941: result = 1\n",
    "#     else: result = 0\n",
    "#     return result\n",
    "\n",
    "# train[\"Age\"] = train[\"Age\"].apply(setAge)\n",
    "# test[\"Age\"] = test[\"Age\"].apply(setAge)\n",
    "# train = train.drop(columns=[\"AgeBand\"], axis=1)"
   ]
  },
  {
   "cell_type": "code",
   "execution_count": 1112,
   "metadata": {},
   "outputs": [],
   "source": [
    "def setAge(val):\n",
    "    if val < 20.315: result = 3\n",
    "    elif val < 40.21: result = 2\n",
    "    elif val < 60.105: result = 1\n",
    "    else: result = 0\n",
    "    return result\n",
    "\n",
    "train[\"Age\"] = train[\"Age\"].apply(setAge)\n",
    "test[\"Age\"] = test[\"Age\"].apply(setAge)\n",
    "train = train.drop(columns=[\"AgeBand\"], axis=1)"
   ]
  },
  {
   "cell_type": "code",
   "execution_count": 1113,
   "metadata": {},
   "outputs": [
    {
     "data": {
      "text/html": [
       "<div>\n",
       "<style scoped>\n",
       "    .dataframe tbody tr th:only-of-type {\n",
       "        vertical-align: middle;\n",
       "    }\n",
       "\n",
       "    .dataframe tbody tr th {\n",
       "        vertical-align: top;\n",
       "    }\n",
       "\n",
       "    .dataframe thead th {\n",
       "        text-align: right;\n",
       "    }\n",
       "</style>\n",
       "<table border=\"1\" class=\"dataframe\">\n",
       "  <thead>\n",
       "    <tr style=\"text-align: right;\">\n",
       "      <th></th>\n",
       "      <th>FareBand</th>\n",
       "      <th>Survived</th>\n",
       "    </tr>\n",
       "  </thead>\n",
       "  <tbody>\n",
       "    <tr>\n",
       "      <td>0</td>\n",
       "      <td>(-0.512, 128.082]</td>\n",
       "      <td>0.368113</td>\n",
       "    </tr>\n",
       "    <tr>\n",
       "      <td>1</td>\n",
       "      <td>(128.082, 256.165]</td>\n",
       "      <td>0.724138</td>\n",
       "    </tr>\n",
       "    <tr>\n",
       "      <td>2</td>\n",
       "      <td>(256.165, 384.247]</td>\n",
       "      <td>0.666667</td>\n",
       "    </tr>\n",
       "    <tr>\n",
       "      <td>3</td>\n",
       "      <td>(384.247, 512.329]</td>\n",
       "      <td>1.000000</td>\n",
       "    </tr>\n",
       "  </tbody>\n",
       "</table>\n",
       "</div>"
      ],
      "text/plain": [
       "             FareBand  Survived\n",
       "0   (-0.512, 128.082]  0.368113\n",
       "1  (128.082, 256.165]  0.724138\n",
       "2  (256.165, 384.247]  0.666667\n",
       "3  (384.247, 512.329]  1.000000"
      ]
     },
     "execution_count": 1113,
     "metadata": {},
     "output_type": "execute_result"
    }
   ],
   "source": [
    "train[\"FareBand\"] = pd.cut(train[\"Fare\"], 4)\n",
    "train[[\"FareBand\", \"Survived\"]].groupby(['FareBand'], as_index=False).mean().sort_values(by='FareBand', ascending=True)"
   ]
  },
  {
   "cell_type": "code",
   "execution_count": 1114,
   "metadata": {},
   "outputs": [],
   "source": [
    "# def setFare(val):\n",
    "#     result = 0\n",
    "#     if val < 170.776: result = 0\n",
    "#     elif val < 341.553: result = 1\n",
    "#     else: result = 2\n",
    "#     return result\n",
    "\n",
    "# train[\"Fare\"] = train[\"Fare\"].apply(setFare)\n",
    "# test[\"Fare\"] = test[\"Fare\"].apply(setFare)\n",
    "\n",
    "# train = train.drop(columns=[\"FareBand\"], axis=1)"
   ]
  },
  {
   "cell_type": "code",
   "execution_count": 1115,
   "metadata": {},
   "outputs": [],
   "source": [
    "def setFare(val):\n",
    "    result = 0\n",
    "    if val < 128.082: result = 0\n",
    "    elif val < 256.165: result = 1\n",
    "    elif val < 384.247: result = 2\n",
    "    else: result = 3\n",
    "    return result\n",
    "\n",
    "train[\"Fare\"] = train[\"Fare\"].apply(setFare)\n",
    "test[\"Fare\"] = test[\"Fare\"].apply(setFare)\n",
    "\n",
    "train = train.drop(columns=[\"FareBand\"], axis=1)"
   ]
  },
  {
   "cell_type": "code",
   "execution_count": 1116,
   "metadata": {},
   "outputs": [],
   "source": [
    "sex = pd.get_dummies(train['Sex'],drop_first=True)\n",
    "embark = pd.get_dummies(train['Embarked'],drop_first=True)\n",
    "title = pd.get_dummies(train['Title'],drop_first=True)\n",
    "Pclass = pd.get_dummies(train['Pclass'],drop_first=True)\n",
    "FamilySize = pd.get_dummies(train['FamilySize'],drop_first=True)\n",
    "\n",
    "sex2 = pd.get_dummies(test['Sex'],drop_first=True)\n",
    "embark2 = pd.get_dummies(test['Embarked'],drop_first=True)\n",
    "title2 = pd.get_dummies(test['Title'],drop_first=True)\n",
    "Pclass2 = pd.get_dummies(test['Pclass'],drop_first=True)\n",
    "FamilySize2 = pd.get_dummies(test['FamilySize'],drop_first=True)\n",
    "\n",
    "train.drop(['Sex','Embarked','Name','Ticket','PassengerId','Title','FamilySize'],axis=1,inplace=True)\n",
    "test.drop(['Sex','Embarked','Name','Ticket','PassengerId','Title','FamilySize'],axis=1,inplace=True)\n",
    "# train.drop(['Sex','Embarked','Name','Ticket','PassengerId','Title','FamilySize', 'SibSp', \"Parch\"],axis=1,inplace=True)\n",
    "# test.drop(['Sex','Embarked','Name','Ticket','PassengerId','Title','FamilySize', 'SibSp', \"Parch\"],axis=1,inplace=True)\n",
    "\n",
    "\n",
    "train = pd.concat([sex,embark,train,title,FamilySize],axis=1)\n",
    "test = pd.concat([sex2,embark2,test,title2,FamilySize2],axis=1)"
   ]
  },
  {
   "cell_type": "code",
   "execution_count": 1117,
   "metadata": {},
   "outputs": [
    {
     "data": {
      "text/html": [
       "<div>\n",
       "<style scoped>\n",
       "    .dataframe tbody tr th:only-of-type {\n",
       "        vertical-align: middle;\n",
       "    }\n",
       "\n",
       "    .dataframe tbody tr th {\n",
       "        vertical-align: top;\n",
       "    }\n",
       "\n",
       "    .dataframe thead th {\n",
       "        text-align: right;\n",
       "    }\n",
       "</style>\n",
       "<table border=\"1\" class=\"dataframe\">\n",
       "  <thead>\n",
       "    <tr style=\"text-align: right;\">\n",
       "      <th></th>\n",
       "      <th>male</th>\n",
       "      <th>Q</th>\n",
       "      <th>S</th>\n",
       "      <th>Survived</th>\n",
       "      <th>Pclass</th>\n",
       "      <th>Age</th>\n",
       "      <th>SibSp</th>\n",
       "      <th>Parch</th>\n",
       "      <th>Fare</th>\n",
       "      <th>HasCabin</th>\n",
       "      <th>IsAlone</th>\n",
       "      <th>Miss</th>\n",
       "      <th>Mr</th>\n",
       "      <th>Mrs</th>\n",
       "      <th>Others</th>\n",
       "      <th>Small</th>\n",
       "    </tr>\n",
       "  </thead>\n",
       "  <tbody>\n",
       "    <tr>\n",
       "      <td>male</td>\n",
       "      <td>1.000000</td>\n",
       "      <td>-0.074115</td>\n",
       "      <td>0.119224</td>\n",
       "      <td>-0.543351</td>\n",
       "      <td>0.131900</td>\n",
       "      <td>-0.083042</td>\n",
       "      <td>-0.114631</td>\n",
       "      <td>-0.245489</td>\n",
       "      <td>-0.114771</td>\n",
       "      <td>-0.140391</td>\n",
       "      <td>0.303646</td>\n",
       "      <td>-0.686808</td>\n",
       "      <td>0.867334</td>\n",
       "      <td>-0.547600</td>\n",
       "      <td>0.034471</td>\n",
       "      <td>-0.303646</td>\n",
       "    </tr>\n",
       "    <tr>\n",
       "      <td>Q</td>\n",
       "      <td>-0.074115</td>\n",
       "      <td>1.000000</td>\n",
       "      <td>-0.499421</td>\n",
       "      <td>0.003650</td>\n",
       "      <td>0.221009</td>\n",
       "      <td>0.014369</td>\n",
       "      <td>-0.026354</td>\n",
       "      <td>-0.081228</td>\n",
       "      <td>-0.058637</td>\n",
       "      <td>-0.129572</td>\n",
       "      <td>0.086464</td>\n",
       "      <td>0.171117</td>\n",
       "      <td>-0.078338</td>\n",
       "      <td>-0.089739</td>\n",
       "      <td>-0.007767</td>\n",
       "      <td>-0.086464</td>\n",
       "    </tr>\n",
       "    <tr>\n",
       "      <td>S</td>\n",
       "      <td>0.119224</td>\n",
       "      <td>-0.499421</td>\n",
       "      <td>1.000000</td>\n",
       "      <td>-0.149683</td>\n",
       "      <td>0.074053</td>\n",
       "      <td>0.003492</td>\n",
       "      <td>0.068734</td>\n",
       "      <td>0.060814</td>\n",
       "      <td>-0.104624</td>\n",
       "      <td>-0.101139</td>\n",
       "      <td>0.029074</td>\n",
       "      <td>-0.130650</td>\n",
       "      <td>0.112870</td>\n",
       "      <td>0.002689</td>\n",
       "      <td>-0.052433</td>\n",
       "      <td>-0.029074</td>\n",
       "    </tr>\n",
       "    <tr>\n",
       "      <td>Survived</td>\n",
       "      <td>-0.543351</td>\n",
       "      <td>0.003650</td>\n",
       "      <td>-0.149683</td>\n",
       "      <td>1.000000</td>\n",
       "      <td>-0.338481</td>\n",
       "      <td>0.066946</td>\n",
       "      <td>-0.035322</td>\n",
       "      <td>0.081629</td>\n",
       "      <td>0.147466</td>\n",
       "      <td>0.316912</td>\n",
       "      <td>-0.203367</td>\n",
       "      <td>0.327093</td>\n",
       "      <td>-0.549199</td>\n",
       "      <td>0.339040</td>\n",
       "      <td>0.022030</td>\n",
       "      <td>0.203367</td>\n",
       "    </tr>\n",
       "    <tr>\n",
       "      <td>Pclass</td>\n",
       "      <td>0.131900</td>\n",
       "      <td>0.221009</td>\n",
       "      <td>0.074053</td>\n",
       "      <td>-0.338481</td>\n",
       "      <td>1.000000</td>\n",
       "      <td>0.292200</td>\n",
       "      <td>0.083081</td>\n",
       "      <td>0.018443</td>\n",
       "      <td>-0.298580</td>\n",
       "      <td>-0.725541</td>\n",
       "      <td>0.135207</td>\n",
       "      <td>-0.000576</td>\n",
       "      <td>0.142698</td>\n",
       "      <td>-0.149209</td>\n",
       "      <td>-0.206333</td>\n",
       "      <td>-0.135207</td>\n",
       "    </tr>\n",
       "    <tr>\n",
       "      <td>Age</td>\n",
       "      <td>-0.083042</td>\n",
       "      <td>0.014369</td>\n",
       "      <td>0.003492</td>\n",
       "      <td>0.066946</td>\n",
       "      <td>0.292200</td>\n",
       "      <td>1.000000</td>\n",
       "      <td>0.200889</td>\n",
       "      <td>0.149257</td>\n",
       "      <td>-0.025158</td>\n",
       "      <td>-0.199013</td>\n",
       "      <td>-0.155776</td>\n",
       "      <td>0.232356</td>\n",
       "      <td>-0.153921</td>\n",
       "      <td>-0.145533</td>\n",
       "      <td>-0.159431</td>\n",
       "      <td>0.155776</td>\n",
       "    </tr>\n",
       "    <tr>\n",
       "      <td>SibSp</td>\n",
       "      <td>-0.114631</td>\n",
       "      <td>-0.026354</td>\n",
       "      <td>0.068734</td>\n",
       "      <td>-0.035322</td>\n",
       "      <td>0.083081</td>\n",
       "      <td>0.200889</td>\n",
       "      <td>1.000000</td>\n",
       "      <td>0.414838</td>\n",
       "      <td>0.040996</td>\n",
       "      <td>-0.040460</td>\n",
       "      <td>-0.584471</td>\n",
       "      <td>0.087932</td>\n",
       "      <td>-0.250489</td>\n",
       "      <td>0.063407</td>\n",
       "      <td>-0.036364</td>\n",
       "      <td>0.584471</td>\n",
       "    </tr>\n",
       "    <tr>\n",
       "      <td>Parch</td>\n",
       "      <td>-0.245489</td>\n",
       "      <td>-0.081228</td>\n",
       "      <td>0.060814</td>\n",
       "      <td>0.081629</td>\n",
       "      <td>0.018443</td>\n",
       "      <td>0.149257</td>\n",
       "      <td>0.414838</td>\n",
       "      <td>1.000000</td>\n",
       "      <td>0.141616</td>\n",
       "      <td>0.036987</td>\n",
       "      <td>-0.583398</td>\n",
       "      <td>0.105567</td>\n",
       "      <td>-0.333905</td>\n",
       "      <td>0.225852</td>\n",
       "      <td>-0.067480</td>\n",
       "      <td>0.583398</td>\n",
       "    </tr>\n",
       "    <tr>\n",
       "      <td>Fare</td>\n",
       "      <td>-0.114771</td>\n",
       "      <td>-0.058637</td>\n",
       "      <td>-0.104624</td>\n",
       "      <td>0.147466</td>\n",
       "      <td>-0.298580</td>\n",
       "      <td>-0.025158</td>\n",
       "      <td>0.040996</td>\n",
       "      <td>0.141616</td>\n",
       "      <td>1.000000</td>\n",
       "      <td>0.259115</td>\n",
       "      <td>-0.094555</td>\n",
       "      <td>0.120934</td>\n",
       "      <td>-0.100536</td>\n",
       "      <td>0.021799</td>\n",
       "      <td>-0.011459</td>\n",
       "      <td>0.094555</td>\n",
       "    </tr>\n",
       "    <tr>\n",
       "      <td>HasCabin</td>\n",
       "      <td>-0.140391</td>\n",
       "      <td>-0.129572</td>\n",
       "      <td>-0.101139</td>\n",
       "      <td>0.316912</td>\n",
       "      <td>-0.725541</td>\n",
       "      <td>-0.199013</td>\n",
       "      <td>-0.040460</td>\n",
       "      <td>0.036987</td>\n",
       "      <td>0.259115</td>\n",
       "      <td>1.000000</td>\n",
       "      <td>-0.158029</td>\n",
       "      <td>0.035314</td>\n",
       "      <td>-0.137319</td>\n",
       "      <td>0.118300</td>\n",
       "      <td>0.106246</td>\n",
       "      <td>0.158029</td>\n",
       "    </tr>\n",
       "    <tr>\n",
       "      <td>IsAlone</td>\n",
       "      <td>0.303646</td>\n",
       "      <td>0.086464</td>\n",
       "      <td>0.029074</td>\n",
       "      <td>-0.203367</td>\n",
       "      <td>0.135207</td>\n",
       "      <td>-0.155776</td>\n",
       "      <td>-0.584471</td>\n",
       "      <td>-0.583398</td>\n",
       "      <td>-0.094555</td>\n",
       "      <td>-0.158029</td>\n",
       "      <td>1.000000</td>\n",
       "      <td>-0.055127</td>\n",
       "      <td>0.396920</td>\n",
       "      <td>-0.365454</td>\n",
       "      <td>0.049870</td>\n",
       "      <td>-1.000000</td>\n",
       "    </tr>\n",
       "    <tr>\n",
       "      <td>Miss</td>\n",
       "      <td>-0.686808</td>\n",
       "      <td>0.171117</td>\n",
       "      <td>-0.130650</td>\n",
       "      <td>0.327093</td>\n",
       "      <td>-0.000576</td>\n",
       "      <td>0.232356</td>\n",
       "      <td>0.087932</td>\n",
       "      <td>0.105567</td>\n",
       "      <td>0.120934</td>\n",
       "      <td>0.035314</td>\n",
       "      <td>-0.055127</td>\n",
       "      <td>1.000000</td>\n",
       "      <td>-0.595692</td>\n",
       "      <td>-0.204670</td>\n",
       "      <td>-0.089565</td>\n",
       "      <td>0.055127</td>\n",
       "    </tr>\n",
       "    <tr>\n",
       "      <td>Mr</td>\n",
       "      <td>0.867334</td>\n",
       "      <td>-0.078338</td>\n",
       "      <td>0.112870</td>\n",
       "      <td>-0.549199</td>\n",
       "      <td>0.142698</td>\n",
       "      <td>-0.153921</td>\n",
       "      <td>-0.250489</td>\n",
       "      <td>-0.333905</td>\n",
       "      <td>-0.100536</td>\n",
       "      <td>-0.137319</td>\n",
       "      <td>0.396920</td>\n",
       "      <td>-0.595692</td>\n",
       "      <td>1.000000</td>\n",
       "      <td>-0.474952</td>\n",
       "      <td>-0.207843</td>\n",
       "      <td>-0.396920</td>\n",
       "    </tr>\n",
       "    <tr>\n",
       "      <td>Mrs</td>\n",
       "      <td>-0.547600</td>\n",
       "      <td>-0.089739</td>\n",
       "      <td>0.002689</td>\n",
       "      <td>0.339040</td>\n",
       "      <td>-0.149209</td>\n",
       "      <td>-0.145533</td>\n",
       "      <td>0.063407</td>\n",
       "      <td>0.225852</td>\n",
       "      <td>0.021799</td>\n",
       "      <td>0.118300</td>\n",
       "      <td>-0.365454</td>\n",
       "      <td>-0.204670</td>\n",
       "      <td>-0.474952</td>\n",
       "      <td>1.000000</td>\n",
       "      <td>-0.071411</td>\n",
       "      <td>0.365454</td>\n",
       "    </tr>\n",
       "    <tr>\n",
       "      <td>Others</td>\n",
       "      <td>0.034471</td>\n",
       "      <td>-0.007767</td>\n",
       "      <td>-0.052433</td>\n",
       "      <td>0.022030</td>\n",
       "      <td>-0.206333</td>\n",
       "      <td>-0.159431</td>\n",
       "      <td>-0.036364</td>\n",
       "      <td>-0.067480</td>\n",
       "      <td>-0.011459</td>\n",
       "      <td>0.106246</td>\n",
       "      <td>0.049870</td>\n",
       "      <td>-0.089565</td>\n",
       "      <td>-0.207843</td>\n",
       "      <td>-0.071411</td>\n",
       "      <td>1.000000</td>\n",
       "      <td>-0.049870</td>\n",
       "    </tr>\n",
       "    <tr>\n",
       "      <td>Small</td>\n",
       "      <td>-0.303646</td>\n",
       "      <td>-0.086464</td>\n",
       "      <td>-0.029074</td>\n",
       "      <td>0.203367</td>\n",
       "      <td>-0.135207</td>\n",
       "      <td>0.155776</td>\n",
       "      <td>0.584471</td>\n",
       "      <td>0.583398</td>\n",
       "      <td>0.094555</td>\n",
       "      <td>0.158029</td>\n",
       "      <td>-1.000000</td>\n",
       "      <td>0.055127</td>\n",
       "      <td>-0.396920</td>\n",
       "      <td>0.365454</td>\n",
       "      <td>-0.049870</td>\n",
       "      <td>1.000000</td>\n",
       "    </tr>\n",
       "  </tbody>\n",
       "</table>\n",
       "</div>"
      ],
      "text/plain": [
       "              male         Q         S  Survived    Pclass       Age  \\\n",
       "male      1.000000 -0.074115  0.119224 -0.543351  0.131900 -0.083042   \n",
       "Q        -0.074115  1.000000 -0.499421  0.003650  0.221009  0.014369   \n",
       "S         0.119224 -0.499421  1.000000 -0.149683  0.074053  0.003492   \n",
       "Survived -0.543351  0.003650 -0.149683  1.000000 -0.338481  0.066946   \n",
       "Pclass    0.131900  0.221009  0.074053 -0.338481  1.000000  0.292200   \n",
       "Age      -0.083042  0.014369  0.003492  0.066946  0.292200  1.000000   \n",
       "SibSp    -0.114631 -0.026354  0.068734 -0.035322  0.083081  0.200889   \n",
       "Parch    -0.245489 -0.081228  0.060814  0.081629  0.018443  0.149257   \n",
       "Fare     -0.114771 -0.058637 -0.104624  0.147466 -0.298580 -0.025158   \n",
       "HasCabin -0.140391 -0.129572 -0.101139  0.316912 -0.725541 -0.199013   \n",
       "IsAlone   0.303646  0.086464  0.029074 -0.203367  0.135207 -0.155776   \n",
       " Miss    -0.686808  0.171117 -0.130650  0.327093 -0.000576  0.232356   \n",
       " Mr       0.867334 -0.078338  0.112870 -0.549199  0.142698 -0.153921   \n",
       " Mrs     -0.547600 -0.089739  0.002689  0.339040 -0.149209 -0.145533   \n",
       "Others    0.034471 -0.007767 -0.052433  0.022030 -0.206333 -0.159431   \n",
       "Small    -0.303646 -0.086464 -0.029074  0.203367 -0.135207  0.155776   \n",
       "\n",
       "             SibSp     Parch      Fare  HasCabin   IsAlone      Miss  \\\n",
       "male     -0.114631 -0.245489 -0.114771 -0.140391  0.303646 -0.686808   \n",
       "Q        -0.026354 -0.081228 -0.058637 -0.129572  0.086464  0.171117   \n",
       "S         0.068734  0.060814 -0.104624 -0.101139  0.029074 -0.130650   \n",
       "Survived -0.035322  0.081629  0.147466  0.316912 -0.203367  0.327093   \n",
       "Pclass    0.083081  0.018443 -0.298580 -0.725541  0.135207 -0.000576   \n",
       "Age       0.200889  0.149257 -0.025158 -0.199013 -0.155776  0.232356   \n",
       "SibSp     1.000000  0.414838  0.040996 -0.040460 -0.584471  0.087932   \n",
       "Parch     0.414838  1.000000  0.141616  0.036987 -0.583398  0.105567   \n",
       "Fare      0.040996  0.141616  1.000000  0.259115 -0.094555  0.120934   \n",
       "HasCabin -0.040460  0.036987  0.259115  1.000000 -0.158029  0.035314   \n",
       "IsAlone  -0.584471 -0.583398 -0.094555 -0.158029  1.000000 -0.055127   \n",
       " Miss     0.087932  0.105567  0.120934  0.035314 -0.055127  1.000000   \n",
       " Mr      -0.250489 -0.333905 -0.100536 -0.137319  0.396920 -0.595692   \n",
       " Mrs      0.063407  0.225852  0.021799  0.118300 -0.365454 -0.204670   \n",
       "Others   -0.036364 -0.067480 -0.011459  0.106246  0.049870 -0.089565   \n",
       "Small     0.584471  0.583398  0.094555  0.158029 -1.000000  0.055127   \n",
       "\n",
       "                Mr       Mrs    Others     Small  \n",
       "male      0.867334 -0.547600  0.034471 -0.303646  \n",
       "Q        -0.078338 -0.089739 -0.007767 -0.086464  \n",
       "S         0.112870  0.002689 -0.052433 -0.029074  \n",
       "Survived -0.549199  0.339040  0.022030  0.203367  \n",
       "Pclass    0.142698 -0.149209 -0.206333 -0.135207  \n",
       "Age      -0.153921 -0.145533 -0.159431  0.155776  \n",
       "SibSp    -0.250489  0.063407 -0.036364  0.584471  \n",
       "Parch    -0.333905  0.225852 -0.067480  0.583398  \n",
       "Fare     -0.100536  0.021799 -0.011459  0.094555  \n",
       "HasCabin -0.137319  0.118300  0.106246  0.158029  \n",
       "IsAlone   0.396920 -0.365454  0.049870 -1.000000  \n",
       " Miss    -0.595692 -0.204670 -0.089565  0.055127  \n",
       " Mr       1.000000 -0.474952 -0.207843 -0.396920  \n",
       " Mrs     -0.474952  1.000000 -0.071411  0.365454  \n",
       "Others   -0.207843 -0.071411  1.000000 -0.049870  \n",
       "Small    -0.396920  0.365454 -0.049870  1.000000  "
      ]
     },
     "execution_count": 1117,
     "metadata": {},
     "output_type": "execute_result"
    }
   ],
   "source": [
    "train.corr()"
   ]
  },
  {
   "cell_type": "code",
   "execution_count": 1118,
   "metadata": {},
   "outputs": [],
   "source": [
    "X = train.drop('Survived',axis=1)\n",
    "y = train['Survived']\n",
    "X_train, X_test, y_train, y_test = train_test_split(X, y, test_size=0.2, random_state=101)"
   ]
  },
  {
   "cell_type": "code",
   "execution_count": 1119,
   "metadata": {},
   "outputs": [
    {
     "data": {
      "text/plain": [
       "array([[1., 0., 1., ..., 0., 0., 0.],\n",
       "       [0., 0., 0., ..., 1., 0., 1.],\n",
       "       [1., 0., 1., ..., 0., 0., 0.],\n",
       "       ...,\n",
       "       [1., 0., 1., ..., 0., 0., 0.],\n",
       "       [1., 0., 1., ..., 0., 0., 0.],\n",
       "       [1., 0., 1., ..., 0., 0., 1.]])"
      ]
     },
     "execution_count": 1119,
     "metadata": {},
     "output_type": "execute_result"
    }
   ],
   "source": [
    "scaler = MinMaxScaler()\n",
    "\n",
    "scaler.fit(X_train)\n",
    "\n",
    "scaler.transform(X_train)\n",
    "scaler.transform(X_test)\n",
    "scaler.transform(test)"
   ]
  },
  {
   "cell_type": "code",
   "execution_count": 1120,
   "metadata": {},
   "outputs": [
    {
     "name": "stderr",
     "output_type": "stream",
     "text": [
      "/Users/skyepodium/opt/anaconda3/lib/python3.7/site-packages/sklearn/linear_model/logistic.py:432: FutureWarning: Default solver will be changed to 'lbfgs' in 0.22. Specify a solver to silence this warning.\n",
      "  FutureWarning)\n"
     ]
    }
   ],
   "source": [
    "logistic_model = LogisticRegression()\n",
    "\n",
    "logistic_model.fit(X_train, y_train)\n",
    "\n",
    "y_pred = logistic_model.predict(X_test)"
   ]
  },
  {
   "cell_type": "code",
   "execution_count": 1121,
   "metadata": {},
   "outputs": [],
   "source": [
    "from sklearn.ensemble import RandomForestClassifier\n",
    "from sklearn.linear_model import LogisticRegression\n",
    "from sklearn.svm import SVC, LinearSVC\n",
    "from sklearn.neighbors import KNeighborsClassifier\n",
    "from sklearn.naive_bayes import GaussianNB\n",
    "from sklearn.linear_model import Perceptron\n",
    "from sklearn.linear_model import SGDClassifier\n",
    "from sklearn.tree import DecisionTreeClassifier\n",
    "import xgboost as xgb\n",
    "import lightgbm as lgb"
   ]
  },
  {
   "cell_type": "code",
   "execution_count": 1122,
   "metadata": {},
   "outputs": [],
   "source": [
    "from sklearn.model_selection import KFold,  cross_val_score\n",
    "k_fold = KFold(n_splits=20, shuffle=True, random_state=42)"
   ]
  },
  {
   "cell_type": "code",
   "execution_count": 1123,
   "metadata": {},
   "outputs": [
    {
     "name": "stdout",
     "output_type": "stream",
     "text": [
      "0.8215404040404041\n"
     ]
    },
    {
     "name": "stderr",
     "output_type": "stream",
     "text": [
      "/Users/skyepodium/opt/anaconda3/lib/python3.7/site-packages/sklearn/linear_model/logistic.py:432: FutureWarning: Default solver will be changed to 'lbfgs' in 0.22. Specify a solver to silence this warning.\n",
      "  FutureWarning)\n",
      "/Users/skyepodium/opt/anaconda3/lib/python3.7/site-packages/sklearn/linear_model/logistic.py:432: FutureWarning: Default solver will be changed to 'lbfgs' in 0.22. Specify a solver to silence this warning.\n",
      "  FutureWarning)\n",
      "/Users/skyepodium/opt/anaconda3/lib/python3.7/site-packages/sklearn/linear_model/logistic.py:432: FutureWarning: Default solver will be changed to 'lbfgs' in 0.22. Specify a solver to silence this warning.\n",
      "  FutureWarning)\n",
      "/Users/skyepodium/opt/anaconda3/lib/python3.7/site-packages/sklearn/linear_model/logistic.py:432: FutureWarning: Default solver will be changed to 'lbfgs' in 0.22. Specify a solver to silence this warning.\n",
      "  FutureWarning)\n",
      "/Users/skyepodium/opt/anaconda3/lib/python3.7/site-packages/sklearn/linear_model/logistic.py:432: FutureWarning: Default solver will be changed to 'lbfgs' in 0.22. Specify a solver to silence this warning.\n",
      "  FutureWarning)\n",
      "/Users/skyepodium/opt/anaconda3/lib/python3.7/site-packages/sklearn/linear_model/logistic.py:432: FutureWarning: Default solver will be changed to 'lbfgs' in 0.22. Specify a solver to silence this warning.\n",
      "  FutureWarning)\n",
      "/Users/skyepodium/opt/anaconda3/lib/python3.7/site-packages/sklearn/linear_model/logistic.py:432: FutureWarning: Default solver will be changed to 'lbfgs' in 0.22. Specify a solver to silence this warning.\n",
      "  FutureWarning)\n",
      "/Users/skyepodium/opt/anaconda3/lib/python3.7/site-packages/sklearn/linear_model/logistic.py:432: FutureWarning: Default solver will be changed to 'lbfgs' in 0.22. Specify a solver to silence this warning.\n",
      "  FutureWarning)\n",
      "/Users/skyepodium/opt/anaconda3/lib/python3.7/site-packages/sklearn/linear_model/logistic.py:432: FutureWarning: Default solver will be changed to 'lbfgs' in 0.22. Specify a solver to silence this warning.\n",
      "  FutureWarning)\n",
      "/Users/skyepodium/opt/anaconda3/lib/python3.7/site-packages/sklearn/linear_model/logistic.py:432: FutureWarning: Default solver will be changed to 'lbfgs' in 0.22. Specify a solver to silence this warning.\n",
      "  FutureWarning)\n",
      "/Users/skyepodium/opt/anaconda3/lib/python3.7/site-packages/sklearn/linear_model/logistic.py:432: FutureWarning: Default solver will be changed to 'lbfgs' in 0.22. Specify a solver to silence this warning.\n",
      "  FutureWarning)\n",
      "/Users/skyepodium/opt/anaconda3/lib/python3.7/site-packages/sklearn/linear_model/logistic.py:432: FutureWarning: Default solver will be changed to 'lbfgs' in 0.22. Specify a solver to silence this warning.\n",
      "  FutureWarning)\n",
      "/Users/skyepodium/opt/anaconda3/lib/python3.7/site-packages/sklearn/linear_model/logistic.py:432: FutureWarning: Default solver will be changed to 'lbfgs' in 0.22. Specify a solver to silence this warning.\n",
      "  FutureWarning)\n",
      "/Users/skyepodium/opt/anaconda3/lib/python3.7/site-packages/sklearn/linear_model/logistic.py:432: FutureWarning: Default solver will be changed to 'lbfgs' in 0.22. Specify a solver to silence this warning.\n",
      "  FutureWarning)\n",
      "/Users/skyepodium/opt/anaconda3/lib/python3.7/site-packages/sklearn/linear_model/logistic.py:432: FutureWarning: Default solver will be changed to 'lbfgs' in 0.22. Specify a solver to silence this warning.\n",
      "  FutureWarning)\n",
      "/Users/skyepodium/opt/anaconda3/lib/python3.7/site-packages/sklearn/linear_model/logistic.py:432: FutureWarning: Default solver will be changed to 'lbfgs' in 0.22. Specify a solver to silence this warning.\n",
      "  FutureWarning)\n",
      "/Users/skyepodium/opt/anaconda3/lib/python3.7/site-packages/sklearn/linear_model/logistic.py:432: FutureWarning: Default solver will be changed to 'lbfgs' in 0.22. Specify a solver to silence this warning.\n",
      "  FutureWarning)\n",
      "/Users/skyepodium/opt/anaconda3/lib/python3.7/site-packages/sklearn/linear_model/logistic.py:432: FutureWarning: Default solver will be changed to 'lbfgs' in 0.22. Specify a solver to silence this warning.\n",
      "  FutureWarning)\n",
      "/Users/skyepodium/opt/anaconda3/lib/python3.7/site-packages/sklearn/linear_model/logistic.py:432: FutureWarning: Default solver will be changed to 'lbfgs' in 0.22. Specify a solver to silence this warning.\n",
      "  FutureWarning)\n",
      "/Users/skyepodium/opt/anaconda3/lib/python3.7/site-packages/sklearn/linear_model/logistic.py:432: FutureWarning: Default solver will be changed to 'lbfgs' in 0.22. Specify a solver to silence this warning.\n",
      "  FutureWarning)\n"
     ]
    }
   ],
   "source": [
    "scoring = 'accuracy'\n",
    "score = cross_val_score(logistic_model, X, y, cv=k_fold, scoring=scoring)\n",
    "print(score.mean())"
   ]
  },
  {
   "cell_type": "code",
   "execution_count": 1124,
   "metadata": {},
   "outputs": [
    {
     "name": "stdout",
     "output_type": "stream",
     "text": [
      "              precision    recall  f1-score   support\n",
      "\n",
      "           0       0.82      0.90      0.86        99\n",
      "           1       0.86      0.75      0.80        80\n",
      "\n",
      "    accuracy                           0.83       179\n",
      "   macro avg       0.84      0.82      0.83       179\n",
      "weighted avg       0.83      0.83      0.83       179\n",
      "\n",
      "\n",
      "\n",
      "[[89 10]\n",
      " [20 60]]\n"
     ]
    }
   ],
   "source": [
    "print(classification_report(y_test,y_pred))\n",
    "print('\\n')\n",
    "print(confusion_matrix(y_test,y_pred))"
   ]
  },
  {
   "cell_type": "code",
   "execution_count": 1125,
   "metadata": {},
   "outputs": [],
   "source": [
    "predictions = logistic_model.predict(test)\n",
    "pred_list = [int(x) for x in predictions]\n",
    "\n",
    "test2 = pd.read_csv(\"./input/test.csv\")\n",
    "output = pd.DataFrame({'PassengerId': test2['PassengerId'], 'Survived': pred_list})\n",
    "# output.to_csv('XGB 0.83 HasCabin 03.29.csv', index=False)"
   ]
  },
  {
   "cell_type": "code",
   "execution_count": null,
   "metadata": {},
   "outputs": [],
   "source": []
  },
  {
   "cell_type": "code",
   "execution_count": null,
   "metadata": {},
   "outputs": [],
   "source": []
  },
  {
   "cell_type": "code",
   "execution_count": null,
   "metadata": {},
   "outputs": [],
   "source": []
  }
 ],
 "metadata": {
  "kernelspec": {
   "display_name": "Python 3",
   "language": "python",
   "name": "python3"
  },
  "language_info": {
   "codemirror_mode": {
    "name": "ipython",
    "version": 3
   },
   "file_extension": ".py",
   "mimetype": "text/x-python",
   "name": "python",
   "nbconvert_exporter": "python",
   "pygments_lexer": "ipython3",
   "version": "3.7.4"
  }
 },
 "nbformat": 4,
 "nbformat_minor": 2
}
