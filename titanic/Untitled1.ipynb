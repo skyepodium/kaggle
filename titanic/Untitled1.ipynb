{
 "cells": [
  {
   "cell_type": "code",
   "execution_count": 735,
   "metadata": {},
   "outputs": [],
   "source": [
    "import pandas as pd"
   ]
  },
  {
   "cell_type": "code",
   "execution_count": 736,
   "metadata": {},
   "outputs": [],
   "source": [
    "train = pd.read_csv(\"./input/train.csv\")\n",
    "test = pd.read_csv(\"./input/test.csv\")"
   ]
  },
  {
   "cell_type": "code",
   "execution_count": 737,
   "metadata": {},
   "outputs": [
    {
     "data": {
      "text/plain": [
       "(891, 12)"
      ]
     },
     "execution_count": 737,
     "metadata": {},
     "output_type": "execute_result"
    }
   ],
   "source": [
    "train.shape"
   ]
  },
  {
   "cell_type": "code",
   "execution_count": 738,
   "metadata": {},
   "outputs": [],
   "source": [
    "train_for_age = train[train[\"Age\"].notnull()]"
   ]
  },
  {
   "cell_type": "code",
   "execution_count": 739,
   "metadata": {},
   "outputs": [
    {
     "data": {
      "text/plain": [
       "(714, 12)"
      ]
     },
     "execution_count": 739,
     "metadata": {},
     "output_type": "execute_result"
    }
   ],
   "source": [
    "train_for_age.shape"
   ]
  },
  {
   "cell_type": "code",
   "execution_count": 740,
   "metadata": {},
   "outputs": [
    {
     "data": {
      "text/plain": [
       "(418, 11)"
      ]
     },
     "execution_count": 740,
     "metadata": {},
     "output_type": "execute_result"
    }
   ],
   "source": [
    "test.shape"
   ]
  },
  {
   "cell_type": "code",
   "execution_count": 741,
   "metadata": {},
   "outputs": [],
   "source": [
    "test_for_age = test[test[\"Age\"].notnull()]"
   ]
  },
  {
   "cell_type": "code",
   "execution_count": 742,
   "metadata": {},
   "outputs": [
    {
     "data": {
      "text/plain": [
       "(332, 11)"
      ]
     },
     "execution_count": 742,
     "metadata": {},
     "output_type": "execute_result"
    }
   ],
   "source": [
    "test_for_age.shape"
   ]
  },
  {
   "cell_type": "code",
   "execution_count": 743,
   "metadata": {},
   "outputs": [],
   "source": [
    "data_for_age = pd.concat([train_for_age.drop([\"Survived\"], axis=1), test_for_age])"
   ]
  },
  {
   "cell_type": "code",
   "execution_count": 744,
   "metadata": {},
   "outputs": [
    {
     "data": {
      "text/plain": [
       "(1046, 11)"
      ]
     },
     "execution_count": 744,
     "metadata": {},
     "output_type": "execute_result"
    }
   ],
   "source": [
    "data_for_age.shape"
   ]
  },
  {
   "cell_type": "code",
   "execution_count": 745,
   "metadata": {},
   "outputs": [
    {
     "data": {
      "text/plain": [
       "S    782\n",
       "C    212\n",
       "Q     50\n",
       "Name: Embarked, dtype: int64"
      ]
     },
     "execution_count": 745,
     "metadata": {},
     "output_type": "execute_result"
    }
   ],
   "source": [
    "data_for_age[\"Embarked\"].value_counts()"
   ]
  },
  {
   "cell_type": "code",
   "execution_count": 746,
   "metadata": {},
   "outputs": [],
   "source": [
    "data_for_age[\"Embarked\"].fillna(\"S\", inplace=True)"
   ]
  },
  {
   "cell_type": "code",
   "execution_count": 747,
   "metadata": {},
   "outputs": [],
   "source": [
    "data_for_age = pd.get_dummies(data_for_age, columns=[\"Sex\", \"Embarked\"])"
   ]
  },
  {
   "cell_type": "code",
   "execution_count": 748,
   "metadata": {},
   "outputs": [
    {
     "data": {
      "text/html": [
       "<div>\n",
       "<style scoped>\n",
       "    .dataframe tbody tr th:only-of-type {\n",
       "        vertical-align: middle;\n",
       "    }\n",
       "\n",
       "    .dataframe tbody tr th {\n",
       "        vertical-align: top;\n",
       "    }\n",
       "\n",
       "    .dataframe thead th {\n",
       "        text-align: right;\n",
       "    }\n",
       "</style>\n",
       "<table border=\"1\" class=\"dataframe\">\n",
       "  <thead>\n",
       "    <tr style=\"text-align: right;\">\n",
       "      <th></th>\n",
       "      <th>PassengerId</th>\n",
       "      <th>Pclass</th>\n",
       "      <th>Age</th>\n",
       "      <th>SibSp</th>\n",
       "      <th>Parch</th>\n",
       "      <th>Fare</th>\n",
       "      <th>Sex_female</th>\n",
       "      <th>Sex_male</th>\n",
       "      <th>Embarked_C</th>\n",
       "      <th>Embarked_Q</th>\n",
       "      <th>Embarked_S</th>\n",
       "    </tr>\n",
       "  </thead>\n",
       "  <tbody>\n",
       "    <tr>\n",
       "      <td>PassengerId</td>\n",
       "      <td>1.000000</td>\n",
       "      <td>-0.064097</td>\n",
       "      <td>0.028814</td>\n",
       "      <td>-0.050700</td>\n",
       "      <td>-0.021096</td>\n",
       "      <td>0.047938</td>\n",
       "      <td>-0.000601</td>\n",
       "      <td>0.000601</td>\n",
       "      <td>0.058706</td>\n",
       "      <td>0.028537</td>\n",
       "      <td>-0.068517</td>\n",
       "    </tr>\n",
       "    <tr>\n",
       "      <td>Pclass</td>\n",
       "      <td>-0.064097</td>\n",
       "      <td>1.000000</td>\n",
       "      <td>-0.408106</td>\n",
       "      <td>0.047221</td>\n",
       "      <td>0.017224</td>\n",
       "      <td>-0.565255</td>\n",
       "      <td>-0.144695</td>\n",
       "      <td>0.144695</td>\n",
       "      <td>-0.316627</td>\n",
       "      <td>0.152517</td>\n",
       "      <td>0.218661</td>\n",
       "    </tr>\n",
       "    <tr>\n",
       "      <td>Age</td>\n",
       "      <td>0.028814</td>\n",
       "      <td>-0.408106</td>\n",
       "      <td>1.000000</td>\n",
       "      <td>-0.243699</td>\n",
       "      <td>-0.150917</td>\n",
       "      <td>0.178740</td>\n",
       "      <td>-0.063645</td>\n",
       "      <td>0.063645</td>\n",
       "      <td>0.085777</td>\n",
       "      <td>-0.019458</td>\n",
       "      <td>-0.070001</td>\n",
       "    </tr>\n",
       "    <tr>\n",
       "      <td>SibSp</td>\n",
       "      <td>-0.050700</td>\n",
       "      <td>0.047221</td>\n",
       "      <td>-0.243699</td>\n",
       "      <td>1.000000</td>\n",
       "      <td>0.374456</td>\n",
       "      <td>0.141184</td>\n",
       "      <td>0.095267</td>\n",
       "      <td>-0.095267</td>\n",
       "      <td>-0.045930</td>\n",
       "      <td>0.004210</td>\n",
       "      <td>0.040539</td>\n",
       "    </tr>\n",
       "    <tr>\n",
       "      <td>Parch</td>\n",
       "      <td>-0.021096</td>\n",
       "      <td>0.017224</td>\n",
       "      <td>-0.150917</td>\n",
       "      <td>0.374456</td>\n",
       "      <td>1.000000</td>\n",
       "      <td>0.216723</td>\n",
       "      <td>0.221144</td>\n",
       "      <td>-0.221144</td>\n",
       "      <td>0.002330</td>\n",
       "      <td>-0.048223</td>\n",
       "      <td>0.021583</td>\n",
       "    </tr>\n",
       "    <tr>\n",
       "      <td>Fare</td>\n",
       "      <td>0.047938</td>\n",
       "      <td>-0.565255</td>\n",
       "      <td>0.178740</td>\n",
       "      <td>0.141184</td>\n",
       "      <td>0.216723</td>\n",
       "      <td>1.000000</td>\n",
       "      <td>0.187930</td>\n",
       "      <td>-0.187930</td>\n",
       "      <td>0.324103</td>\n",
       "      <td>-0.083622</td>\n",
       "      <td>-0.259526</td>\n",
       "    </tr>\n",
       "    <tr>\n",
       "      <td>Sex_female</td>\n",
       "      <td>-0.000601</td>\n",
       "      <td>-0.144695</td>\n",
       "      <td>-0.063645</td>\n",
       "      <td>0.095267</td>\n",
       "      <td>0.221144</td>\n",
       "      <td>0.187930</td>\n",
       "      <td>1.000000</td>\n",
       "      <td>-1.000000</td>\n",
       "      <td>0.095321</td>\n",
       "      <td>0.050587</td>\n",
       "      <td>-0.113344</td>\n",
       "    </tr>\n",
       "    <tr>\n",
       "      <td>Sex_male</td>\n",
       "      <td>0.000601</td>\n",
       "      <td>0.144695</td>\n",
       "      <td>0.063645</td>\n",
       "      <td>-0.095267</td>\n",
       "      <td>-0.221144</td>\n",
       "      <td>-0.187930</td>\n",
       "      <td>-1.000000</td>\n",
       "      <td>1.000000</td>\n",
       "      <td>-0.095321</td>\n",
       "      <td>-0.050587</td>\n",
       "      <td>0.113344</td>\n",
       "    </tr>\n",
       "    <tr>\n",
       "      <td>Embarked_C</td>\n",
       "      <td>0.058706</td>\n",
       "      <td>-0.316627</td>\n",
       "      <td>0.085777</td>\n",
       "      <td>-0.045930</td>\n",
       "      <td>0.002330</td>\n",
       "      <td>0.324103</td>\n",
       "      <td>0.095321</td>\n",
       "      <td>-0.095321</td>\n",
       "      <td>1.000000</td>\n",
       "      <td>-0.112964</td>\n",
       "      <td>-0.872152</td>\n",
       "    </tr>\n",
       "    <tr>\n",
       "      <td>Embarked_Q</td>\n",
       "      <td>0.028537</td>\n",
       "      <td>0.152517</td>\n",
       "      <td>-0.019458</td>\n",
       "      <td>0.004210</td>\n",
       "      <td>-0.048223</td>\n",
       "      <td>-0.083622</td>\n",
       "      <td>0.050587</td>\n",
       "      <td>-0.050587</td>\n",
       "      <td>-0.112964</td>\n",
       "      <td>1.000000</td>\n",
       "      <td>-0.387581</td>\n",
       "    </tr>\n",
       "    <tr>\n",
       "      <td>Embarked_S</td>\n",
       "      <td>-0.068517</td>\n",
       "      <td>0.218661</td>\n",
       "      <td>-0.070001</td>\n",
       "      <td>0.040539</td>\n",
       "      <td>0.021583</td>\n",
       "      <td>-0.259526</td>\n",
       "      <td>-0.113344</td>\n",
       "      <td>0.113344</td>\n",
       "      <td>-0.872152</td>\n",
       "      <td>-0.387581</td>\n",
       "      <td>1.000000</td>\n",
       "    </tr>\n",
       "  </tbody>\n",
       "</table>\n",
       "</div>"
      ],
      "text/plain": [
       "             PassengerId    Pclass       Age     SibSp     Parch      Fare  \\\n",
       "PassengerId     1.000000 -0.064097  0.028814 -0.050700 -0.021096  0.047938   \n",
       "Pclass         -0.064097  1.000000 -0.408106  0.047221  0.017224 -0.565255   \n",
       "Age             0.028814 -0.408106  1.000000 -0.243699 -0.150917  0.178740   \n",
       "SibSp          -0.050700  0.047221 -0.243699  1.000000  0.374456  0.141184   \n",
       "Parch          -0.021096  0.017224 -0.150917  0.374456  1.000000  0.216723   \n",
       "Fare            0.047938 -0.565255  0.178740  0.141184  0.216723  1.000000   \n",
       "Sex_female     -0.000601 -0.144695 -0.063645  0.095267  0.221144  0.187930   \n",
       "Sex_male        0.000601  0.144695  0.063645 -0.095267 -0.221144 -0.187930   \n",
       "Embarked_C      0.058706 -0.316627  0.085777 -0.045930  0.002330  0.324103   \n",
       "Embarked_Q      0.028537  0.152517 -0.019458  0.004210 -0.048223 -0.083622   \n",
       "Embarked_S     -0.068517  0.218661 -0.070001  0.040539  0.021583 -0.259526   \n",
       "\n",
       "             Sex_female  Sex_male  Embarked_C  Embarked_Q  Embarked_S  \n",
       "PassengerId   -0.000601  0.000601    0.058706    0.028537   -0.068517  \n",
       "Pclass        -0.144695  0.144695   -0.316627    0.152517    0.218661  \n",
       "Age           -0.063645  0.063645    0.085777   -0.019458   -0.070001  \n",
       "SibSp          0.095267 -0.095267   -0.045930    0.004210    0.040539  \n",
       "Parch          0.221144 -0.221144    0.002330   -0.048223    0.021583  \n",
       "Fare           0.187930 -0.187930    0.324103   -0.083622   -0.259526  \n",
       "Sex_female     1.000000 -1.000000    0.095321    0.050587   -0.113344  \n",
       "Sex_male      -1.000000  1.000000   -0.095321   -0.050587    0.113344  \n",
       "Embarked_C     0.095321 -0.095321    1.000000   -0.112964   -0.872152  \n",
       "Embarked_Q     0.050587 -0.050587   -0.112964    1.000000   -0.387581  \n",
       "Embarked_S    -0.113344  0.113344   -0.872152   -0.387581    1.000000  "
      ]
     },
     "execution_count": 748,
     "metadata": {},
     "output_type": "execute_result"
    }
   ],
   "source": [
    "data_for_age.corr()"
   ]
  },
  {
   "cell_type": "code",
   "execution_count": 749,
   "metadata": {},
   "outputs": [],
   "source": [
    "data_for_age[\"Fare\"].fillna(13, inplace=True)"
   ]
  },
  {
   "cell_type": "code",
   "execution_count": 750,
   "metadata": {},
   "outputs": [],
   "source": [
    "from sklearn.linear_model import LinearRegression"
   ]
  },
  {
   "cell_type": "code",
   "execution_count": 751,
   "metadata": {},
   "outputs": [],
   "source": [
    "lr = LinearRegression()"
   ]
  },
  {
   "cell_type": "code",
   "execution_count": 752,
   "metadata": {},
   "outputs": [],
   "source": [
    "x_age = data_for_age[[\"Pclass\", \"Fare\", \"Embarked_C\", \"Embarked_S\"]]\n",
    "y_age = data_for_age[\"Age\"]"
   ]
  },
  {
   "cell_type": "code",
   "execution_count": 753,
   "metadata": {},
   "outputs": [
    {
     "data": {
      "text/plain": [
       "LinearRegression(copy_X=True, fit_intercept=True, n_jobs=None, normalize=False)"
      ]
     },
     "execution_count": 753,
     "metadata": {},
     "output_type": "execute_result"
    }
   ],
   "source": [
    "lr.fit(x_age, y_age)"
   ]
  },
  {
   "cell_type": "code",
   "execution_count": 754,
   "metadata": {},
   "outputs": [
    {
     "data": {
      "text/plain": [
       "(177, 12)"
      ]
     },
     "execution_count": 754,
     "metadata": {},
     "output_type": "execute_result"
    }
   ],
   "source": [
    "x_age_test = train[train[\"Age\"].isnull()]\n",
    "x_age_test.shape"
   ]
  },
  {
   "cell_type": "code",
   "execution_count": 755,
   "metadata": {},
   "outputs": [],
   "source": [
    "x_age_test = pd.get_dummies(x_age_test, columns=[\"Sex\", \"Embarked\"])"
   ]
  },
  {
   "cell_type": "code",
   "execution_count": 756,
   "metadata": {},
   "outputs": [],
   "source": [
    "age_predict = lr.predict(x_age_test[[\"Pclass\", \"Fare\", \"Embarked_C\", \"Embarked_S\"]])"
   ]
  },
  {
   "cell_type": "code",
   "execution_count": 757,
   "metadata": {},
   "outputs": [
    {
     "data": {
      "text/plain": [
       "array([27., 32., 23., 23., 27., 24., 36., 27., 23., 23., 24., 27., 27.,\n",
       "       23., 40., 39., 23., 24., 24., 27., 24., 24., 24., 24., 27., 24.,\n",
       "       27., 23., 23., 24., 24., 23., 39., 40., 24., 23., 31., 39., 27.,\n",
       "       27., 27., 23., 27., 24., 24., 24., 23., 27., 24., 38., 27., 27.,\n",
       "       40., 27., 32., 40., 39., 40., 27., 27., 35., 24., 37., 23., 27.,\n",
       "       38., 24., 24., 40., 23., 27., 27., 27., 23., 27., 38., 24., 27.,\n",
       "       24., 24., 27., 32., 24., 23., 24., 27., 24., 24., 24., 24., 39.,\n",
       "       27., 24., 32., 27., 24., 39., 32., 24., 24., 23., 24., 27., 40.,\n",
       "       24., 27., 23., 23., 36., 23., 23., 24., 31., 27., 35., 27., 24.,\n",
       "       24., 23., 27., 23., 23., 24., 27., 32., 23., 24., 40., 24., 27.,\n",
       "       27., 27., 40., 24., 23., 24., 24., 27., 24., 24., 39., 32., 27.,\n",
       "       23., 27., 23., 40., 27., 27., 32., 24., 24., 40., 24., 38., 27.,\n",
       "       23., 27., 27., 24., 27., 23., 39., 40., 27., 23., 27., 23., 24.,\n",
       "       39., 23., 37., 23., 23., 24., 24., 24.])"
      ]
     },
     "execution_count": 757,
     "metadata": {},
     "output_type": "execute_result"
    }
   ],
   "source": [
    "age_predict\n",
    "len(age_predict)\n",
    "age_predict.round()"
   ]
  },
  {
   "cell_type": "code",
   "execution_count": 758,
   "metadata": {},
   "outputs": [],
   "source": [
    "train_age_no = train[train[\"Age\"].isnull()]\n",
    "train_age_yes = train[train[\"Age\"].notnull()]"
   ]
  },
  {
   "cell_type": "code",
   "execution_count": 759,
   "metadata": {},
   "outputs": [],
   "source": [
    "train_age_no = train_age_no.drop([\"Age\"], axis=1)"
   ]
  },
  {
   "cell_type": "code",
   "execution_count": 760,
   "metadata": {},
   "outputs": [],
   "source": [
    "train_age_no[\"Age\"] = age_predict.round()"
   ]
  },
  {
   "cell_type": "code",
   "execution_count": 761,
   "metadata": {},
   "outputs": [
    {
     "name": "stderr",
     "output_type": "stream",
     "text": [
      "/Users/skyepodium/opt/anaconda3/lib/python3.7/site-packages/ipykernel_launcher.py:1: FutureWarning: Sorting because non-concatenation axis is not aligned. A future version\n",
      "of pandas will change to not sort by default.\n",
      "\n",
      "To accept the future behavior, pass 'sort=False'.\n",
      "\n",
      "To retain the current behavior and silence the warning, pass 'sort=True'.\n",
      "\n",
      "  \"\"\"Entry point for launching an IPython kernel.\n"
     ]
    }
   ],
   "source": [
    "train = pd.concat([train_age_yes, train_age_no])"
   ]
  },
  {
   "cell_type": "code",
   "execution_count": 762,
   "metadata": {},
   "outputs": [
    {
     "data": {
      "text/html": [
       "<div>\n",
       "<style scoped>\n",
       "    .dataframe tbody tr th:only-of-type {\n",
       "        vertical-align: middle;\n",
       "    }\n",
       "\n",
       "    .dataframe tbody tr th {\n",
       "        vertical-align: top;\n",
       "    }\n",
       "\n",
       "    .dataframe thead th {\n",
       "        text-align: right;\n",
       "    }\n",
       "</style>\n",
       "<table border=\"1\" class=\"dataframe\">\n",
       "  <thead>\n",
       "    <tr style=\"text-align: right;\">\n",
       "      <th></th>\n",
       "      <th>Age</th>\n",
       "      <th>Fare</th>\n",
       "      <th>Parch</th>\n",
       "      <th>PassengerId</th>\n",
       "      <th>Pclass</th>\n",
       "      <th>SibSp</th>\n",
       "      <th>Survived</th>\n",
       "    </tr>\n",
       "  </thead>\n",
       "  <tbody>\n",
       "    <tr>\n",
       "      <td>Age</td>\n",
       "      <td>1.000000</td>\n",
       "      <td>0.116251</td>\n",
       "      <td>-0.180120</td>\n",
       "      <td>0.034475</td>\n",
       "      <td>-0.408499</td>\n",
       "      <td>-0.252788</td>\n",
       "      <td>-0.044684</td>\n",
       "    </tr>\n",
       "    <tr>\n",
       "      <td>Fare</td>\n",
       "      <td>0.116251</td>\n",
       "      <td>1.000000</td>\n",
       "      <td>0.216225</td>\n",
       "      <td>0.012658</td>\n",
       "      <td>-0.549500</td>\n",
       "      <td>0.159651</td>\n",
       "      <td>0.257307</td>\n",
       "    </tr>\n",
       "    <tr>\n",
       "      <td>Parch</td>\n",
       "      <td>-0.180120</td>\n",
       "      <td>0.216225</td>\n",
       "      <td>1.000000</td>\n",
       "      <td>-0.001652</td>\n",
       "      <td>0.018443</td>\n",
       "      <td>0.414838</td>\n",
       "      <td>0.081629</td>\n",
       "    </tr>\n",
       "    <tr>\n",
       "      <td>PassengerId</td>\n",
       "      <td>0.034475</td>\n",
       "      <td>0.012658</td>\n",
       "      <td>-0.001652</td>\n",
       "      <td>1.000000</td>\n",
       "      <td>-0.035144</td>\n",
       "      <td>-0.057527</td>\n",
       "      <td>-0.005007</td>\n",
       "    </tr>\n",
       "    <tr>\n",
       "      <td>Pclass</td>\n",
       "      <td>-0.408499</td>\n",
       "      <td>-0.549500</td>\n",
       "      <td>0.018443</td>\n",
       "      <td>-0.035144</td>\n",
       "      <td>1.000000</td>\n",
       "      <td>0.083081</td>\n",
       "      <td>-0.338481</td>\n",
       "    </tr>\n",
       "    <tr>\n",
       "      <td>SibSp</td>\n",
       "      <td>-0.252788</td>\n",
       "      <td>0.159651</td>\n",
       "      <td>0.414838</td>\n",
       "      <td>-0.057527</td>\n",
       "      <td>0.083081</td>\n",
       "      <td>1.000000</td>\n",
       "      <td>-0.035322</td>\n",
       "    </tr>\n",
       "    <tr>\n",
       "      <td>Survived</td>\n",
       "      <td>-0.044684</td>\n",
       "      <td>0.257307</td>\n",
       "      <td>0.081629</td>\n",
       "      <td>-0.005007</td>\n",
       "      <td>-0.338481</td>\n",
       "      <td>-0.035322</td>\n",
       "      <td>1.000000</td>\n",
       "    </tr>\n",
       "  </tbody>\n",
       "</table>\n",
       "</div>"
      ],
      "text/plain": [
       "                  Age      Fare     Parch  PassengerId    Pclass     SibSp  \\\n",
       "Age          1.000000  0.116251 -0.180120     0.034475 -0.408499 -0.252788   \n",
       "Fare         0.116251  1.000000  0.216225     0.012658 -0.549500  0.159651   \n",
       "Parch       -0.180120  0.216225  1.000000    -0.001652  0.018443  0.414838   \n",
       "PassengerId  0.034475  0.012658 -0.001652     1.000000 -0.035144 -0.057527   \n",
       "Pclass      -0.408499 -0.549500  0.018443    -0.035144  1.000000  0.083081   \n",
       "SibSp       -0.252788  0.159651  0.414838    -0.057527  0.083081  1.000000   \n",
       "Survived    -0.044684  0.257307  0.081629    -0.005007 -0.338481 -0.035322   \n",
       "\n",
       "             Survived  \n",
       "Age         -0.044684  \n",
       "Fare         0.257307  \n",
       "Parch        0.081629  \n",
       "PassengerId -0.005007  \n",
       "Pclass      -0.338481  \n",
       "SibSp       -0.035322  \n",
       "Survived     1.000000  "
      ]
     },
     "execution_count": 762,
     "metadata": {},
     "output_type": "execute_result"
    }
   ],
   "source": [
    "train.corr()"
   ]
  },
  {
   "cell_type": "code",
   "execution_count": 763,
   "metadata": {},
   "outputs": [],
   "source": [
    "train = pd.get_dummies(train, columns=[\"Embarked\", \"Sex\"])"
   ]
  },
  {
   "cell_type": "code",
   "execution_count": 764,
   "metadata": {},
   "outputs": [
    {
     "data": {
      "text/html": [
       "<div>\n",
       "<style scoped>\n",
       "    .dataframe tbody tr th:only-of-type {\n",
       "        vertical-align: middle;\n",
       "    }\n",
       "\n",
       "    .dataframe tbody tr th {\n",
       "        vertical-align: top;\n",
       "    }\n",
       "\n",
       "    .dataframe thead th {\n",
       "        text-align: right;\n",
       "    }\n",
       "</style>\n",
       "<table border=\"1\" class=\"dataframe\">\n",
       "  <thead>\n",
       "    <tr style=\"text-align: right;\">\n",
       "      <th></th>\n",
       "      <th>Age</th>\n",
       "      <th>Fare</th>\n",
       "      <th>Parch</th>\n",
       "      <th>PassengerId</th>\n",
       "      <th>Pclass</th>\n",
       "      <th>SibSp</th>\n",
       "      <th>Survived</th>\n",
       "      <th>Embarked_C</th>\n",
       "      <th>Embarked_Q</th>\n",
       "      <th>Embarked_S</th>\n",
       "      <th>Sex_female</th>\n",
       "      <th>Sex_male</th>\n",
       "    </tr>\n",
       "  </thead>\n",
       "  <tbody>\n",
       "    <tr>\n",
       "      <td>Age</td>\n",
       "      <td>1.000000</td>\n",
       "      <td>0.116251</td>\n",
       "      <td>-0.180120</td>\n",
       "      <td>0.034475</td>\n",
       "      <td>-0.408499</td>\n",
       "      <td>-0.252788</td>\n",
       "      <td>-0.044684</td>\n",
       "      <td>0.029788</td>\n",
       "      <td>-0.041474</td>\n",
       "      <td>-0.007832</td>\n",
       "      <td>-0.077145</td>\n",
       "      <td>0.077145</td>\n",
       "    </tr>\n",
       "    <tr>\n",
       "      <td>Fare</td>\n",
       "      <td>0.116251</td>\n",
       "      <td>1.000000</td>\n",
       "      <td>0.216225</td>\n",
       "      <td>0.012658</td>\n",
       "      <td>-0.549500</td>\n",
       "      <td>0.159651</td>\n",
       "      <td>0.257307</td>\n",
       "      <td>0.269335</td>\n",
       "      <td>-0.117216</td>\n",
       "      <td>-0.166603</td>\n",
       "      <td>0.182333</td>\n",
       "      <td>-0.182333</td>\n",
       "    </tr>\n",
       "    <tr>\n",
       "      <td>Parch</td>\n",
       "      <td>-0.180120</td>\n",
       "      <td>0.216225</td>\n",
       "      <td>1.000000</td>\n",
       "      <td>-0.001652</td>\n",
       "      <td>0.018443</td>\n",
       "      <td>0.414838</td>\n",
       "      <td>0.081629</td>\n",
       "      <td>-0.011069</td>\n",
       "      <td>-0.081228</td>\n",
       "      <td>0.063036</td>\n",
       "      <td>0.245489</td>\n",
       "      <td>-0.245489</td>\n",
       "    </tr>\n",
       "    <tr>\n",
       "      <td>PassengerId</td>\n",
       "      <td>0.034475</td>\n",
       "      <td>0.012658</td>\n",
       "      <td>-0.001652</td>\n",
       "      <td>1.000000</td>\n",
       "      <td>-0.035144</td>\n",
       "      <td>-0.057527</td>\n",
       "      <td>-0.005007</td>\n",
       "      <td>-0.001205</td>\n",
       "      <td>-0.033606</td>\n",
       "      <td>0.022148</td>\n",
       "      <td>-0.042939</td>\n",
       "      <td>0.042939</td>\n",
       "    </tr>\n",
       "    <tr>\n",
       "      <td>Pclass</td>\n",
       "      <td>-0.408499</td>\n",
       "      <td>-0.549500</td>\n",
       "      <td>0.018443</td>\n",
       "      <td>-0.035144</td>\n",
       "      <td>1.000000</td>\n",
       "      <td>0.083081</td>\n",
       "      <td>-0.338481</td>\n",
       "      <td>-0.243292</td>\n",
       "      <td>0.221009</td>\n",
       "      <td>0.081720</td>\n",
       "      <td>-0.131900</td>\n",
       "      <td>0.131900</td>\n",
       "    </tr>\n",
       "    <tr>\n",
       "      <td>SibSp</td>\n",
       "      <td>-0.252788</td>\n",
       "      <td>0.159651</td>\n",
       "      <td>0.414838</td>\n",
       "      <td>-0.057527</td>\n",
       "      <td>0.083081</td>\n",
       "      <td>1.000000</td>\n",
       "      <td>-0.035322</td>\n",
       "      <td>-0.059528</td>\n",
       "      <td>-0.026354</td>\n",
       "      <td>0.070941</td>\n",
       "      <td>0.114631</td>\n",
       "      <td>-0.114631</td>\n",
       "    </tr>\n",
       "    <tr>\n",
       "      <td>Survived</td>\n",
       "      <td>-0.044684</td>\n",
       "      <td>0.257307</td>\n",
       "      <td>0.081629</td>\n",
       "      <td>-0.005007</td>\n",
       "      <td>-0.338481</td>\n",
       "      <td>-0.035322</td>\n",
       "      <td>1.000000</td>\n",
       "      <td>0.168240</td>\n",
       "      <td>0.003650</td>\n",
       "      <td>-0.155660</td>\n",
       "      <td>0.543351</td>\n",
       "      <td>-0.543351</td>\n",
       "    </tr>\n",
       "    <tr>\n",
       "      <td>Embarked_C</td>\n",
       "      <td>0.029788</td>\n",
       "      <td>0.269335</td>\n",
       "      <td>-0.011069</td>\n",
       "      <td>-0.001205</td>\n",
       "      <td>-0.243292</td>\n",
       "      <td>-0.059528</td>\n",
       "      <td>0.168240</td>\n",
       "      <td>1.000000</td>\n",
       "      <td>-0.148258</td>\n",
       "      <td>-0.778359</td>\n",
       "      <td>0.082853</td>\n",
       "      <td>-0.082853</td>\n",
       "    </tr>\n",
       "    <tr>\n",
       "      <td>Embarked_Q</td>\n",
       "      <td>-0.041474</td>\n",
       "      <td>-0.117216</td>\n",
       "      <td>-0.081228</td>\n",
       "      <td>-0.033606</td>\n",
       "      <td>0.221009</td>\n",
       "      <td>-0.026354</td>\n",
       "      <td>0.003650</td>\n",
       "      <td>-0.148258</td>\n",
       "      <td>1.000000</td>\n",
       "      <td>-0.496624</td>\n",
       "      <td>0.074115</td>\n",
       "      <td>-0.074115</td>\n",
       "    </tr>\n",
       "    <tr>\n",
       "      <td>Embarked_S</td>\n",
       "      <td>-0.007832</td>\n",
       "      <td>-0.166603</td>\n",
       "      <td>0.063036</td>\n",
       "      <td>0.022148</td>\n",
       "      <td>0.081720</td>\n",
       "      <td>0.070941</td>\n",
       "      <td>-0.155660</td>\n",
       "      <td>-0.778359</td>\n",
       "      <td>-0.496624</td>\n",
       "      <td>1.000000</td>\n",
       "      <td>-0.125722</td>\n",
       "      <td>0.125722</td>\n",
       "    </tr>\n",
       "    <tr>\n",
       "      <td>Sex_female</td>\n",
       "      <td>-0.077145</td>\n",
       "      <td>0.182333</td>\n",
       "      <td>0.245489</td>\n",
       "      <td>-0.042939</td>\n",
       "      <td>-0.131900</td>\n",
       "      <td>0.114631</td>\n",
       "      <td>0.543351</td>\n",
       "      <td>0.082853</td>\n",
       "      <td>0.074115</td>\n",
       "      <td>-0.125722</td>\n",
       "      <td>1.000000</td>\n",
       "      <td>-1.000000</td>\n",
       "    </tr>\n",
       "    <tr>\n",
       "      <td>Sex_male</td>\n",
       "      <td>0.077145</td>\n",
       "      <td>-0.182333</td>\n",
       "      <td>-0.245489</td>\n",
       "      <td>0.042939</td>\n",
       "      <td>0.131900</td>\n",
       "      <td>-0.114631</td>\n",
       "      <td>-0.543351</td>\n",
       "      <td>-0.082853</td>\n",
       "      <td>-0.074115</td>\n",
       "      <td>0.125722</td>\n",
       "      <td>-1.000000</td>\n",
       "      <td>1.000000</td>\n",
       "    </tr>\n",
       "  </tbody>\n",
       "</table>\n",
       "</div>"
      ],
      "text/plain": [
       "                  Age      Fare     Parch  PassengerId    Pclass     SibSp  \\\n",
       "Age          1.000000  0.116251 -0.180120     0.034475 -0.408499 -0.252788   \n",
       "Fare         0.116251  1.000000  0.216225     0.012658 -0.549500  0.159651   \n",
       "Parch       -0.180120  0.216225  1.000000    -0.001652  0.018443  0.414838   \n",
       "PassengerId  0.034475  0.012658 -0.001652     1.000000 -0.035144 -0.057527   \n",
       "Pclass      -0.408499 -0.549500  0.018443    -0.035144  1.000000  0.083081   \n",
       "SibSp       -0.252788  0.159651  0.414838    -0.057527  0.083081  1.000000   \n",
       "Survived    -0.044684  0.257307  0.081629    -0.005007 -0.338481 -0.035322   \n",
       "Embarked_C   0.029788  0.269335 -0.011069    -0.001205 -0.243292 -0.059528   \n",
       "Embarked_Q  -0.041474 -0.117216 -0.081228    -0.033606  0.221009 -0.026354   \n",
       "Embarked_S  -0.007832 -0.166603  0.063036     0.022148  0.081720  0.070941   \n",
       "Sex_female  -0.077145  0.182333  0.245489    -0.042939 -0.131900  0.114631   \n",
       "Sex_male     0.077145 -0.182333 -0.245489     0.042939  0.131900 -0.114631   \n",
       "\n",
       "             Survived  Embarked_C  Embarked_Q  Embarked_S  Sex_female  \\\n",
       "Age         -0.044684    0.029788   -0.041474   -0.007832   -0.077145   \n",
       "Fare         0.257307    0.269335   -0.117216   -0.166603    0.182333   \n",
       "Parch        0.081629   -0.011069   -0.081228    0.063036    0.245489   \n",
       "PassengerId -0.005007   -0.001205   -0.033606    0.022148   -0.042939   \n",
       "Pclass      -0.338481   -0.243292    0.221009    0.081720   -0.131900   \n",
       "SibSp       -0.035322   -0.059528   -0.026354    0.070941    0.114631   \n",
       "Survived     1.000000    0.168240    0.003650   -0.155660    0.543351   \n",
       "Embarked_C   0.168240    1.000000   -0.148258   -0.778359    0.082853   \n",
       "Embarked_Q   0.003650   -0.148258    1.000000   -0.496624    0.074115   \n",
       "Embarked_S  -0.155660   -0.778359   -0.496624    1.000000   -0.125722   \n",
       "Sex_female   0.543351    0.082853    0.074115   -0.125722    1.000000   \n",
       "Sex_male    -0.543351   -0.082853   -0.074115    0.125722   -1.000000   \n",
       "\n",
       "             Sex_male  \n",
       "Age          0.077145  \n",
       "Fare        -0.182333  \n",
       "Parch       -0.245489  \n",
       "PassengerId  0.042939  \n",
       "Pclass       0.131900  \n",
       "SibSp       -0.114631  \n",
       "Survived    -0.543351  \n",
       "Embarked_C  -0.082853  \n",
       "Embarked_Q  -0.074115  \n",
       "Embarked_S   0.125722  \n",
       "Sex_female  -1.000000  \n",
       "Sex_male     1.000000  "
      ]
     },
     "execution_count": 764,
     "metadata": {},
     "output_type": "execute_result"
    }
   ],
   "source": [
    "train.corr()"
   ]
  },
  {
   "cell_type": "code",
   "execution_count": 765,
   "metadata": {},
   "outputs": [],
   "source": [
    "test[\"Fare\"].fillna(13, inplace=True)"
   ]
  },
  {
   "cell_type": "code",
   "execution_count": 766,
   "metadata": {},
   "outputs": [],
   "source": [
    "test = pd.get_dummies(test, columns=[\"Sex\", \"Embarked\"])"
   ]
  },
  {
   "cell_type": "code",
   "execution_count": 767,
   "metadata": {},
   "outputs": [],
   "source": [
    "test_no_age = test[test[\"Age\"].isnull()]\n",
    "test_yes_age = test[test[\"Age\"].notnull()]"
   ]
  },
  {
   "cell_type": "code",
   "execution_count": 768,
   "metadata": {},
   "outputs": [],
   "source": [
    "age_predict_test = lr.predict(test_no_age[[\"Pclass\", \"Fare\", \"Embarked_C\", \"Embarked_S\"]])"
   ]
  },
  {
   "cell_type": "code",
   "execution_count": 769,
   "metadata": {},
   "outputs": [],
   "source": [
    "test_no_age = test_no_age.drop([\"Age\"], axis=1)\n",
    "test_no_age[\"Age\"] = age_predict_test"
   ]
  },
  {
   "cell_type": "code",
   "execution_count": 770,
   "metadata": {},
   "outputs": [
    {
     "name": "stderr",
     "output_type": "stream",
     "text": [
      "/Users/skyepodium/opt/anaconda3/lib/python3.7/site-packages/ipykernel_launcher.py:1: FutureWarning: Sorting because non-concatenation axis is not aligned. A future version\n",
      "of pandas will change to not sort by default.\n",
      "\n",
      "To accept the future behavior, pass 'sort=False'.\n",
      "\n",
      "To retain the current behavior and silence the warning, pass 'sort=True'.\n",
      "\n",
      "  \"\"\"Entry point for launching an IPython kernel.\n"
     ]
    }
   ],
   "source": [
    "test = pd.concat([test_no_age, test_yes_age])"
   ]
  },
  {
   "cell_type": "code",
   "execution_count": 771,
   "metadata": {},
   "outputs": [
    {
     "data": {
      "text/plain": [
       "Age              0\n",
       "Cabin          327\n",
       "Embarked_C       0\n",
       "Embarked_Q       0\n",
       "Embarked_S       0\n",
       "Fare             0\n",
       "Name             0\n",
       "Parch            0\n",
       "PassengerId      0\n",
       "Pclass           0\n",
       "Sex_female       0\n",
       "Sex_male         0\n",
       "SibSp            0\n",
       "Ticket           0\n",
       "dtype: int64"
      ]
     },
     "execution_count": 771,
     "metadata": {},
     "output_type": "execute_result"
    }
   ],
   "source": [
    "test.isnull().sum()"
   ]
  },
  {
   "cell_type": "code",
   "execution_count": 772,
   "metadata": {},
   "outputs": [
    {
     "data": {
      "text/html": [
       "<div>\n",
       "<style scoped>\n",
       "    .dataframe tbody tr th:only-of-type {\n",
       "        vertical-align: middle;\n",
       "    }\n",
       "\n",
       "    .dataframe tbody tr th {\n",
       "        vertical-align: top;\n",
       "    }\n",
       "\n",
       "    .dataframe thead th {\n",
       "        text-align: right;\n",
       "    }\n",
       "</style>\n",
       "<table border=\"1\" class=\"dataframe\">\n",
       "  <thead>\n",
       "    <tr style=\"text-align: right;\">\n",
       "      <th></th>\n",
       "      <th>Age</th>\n",
       "      <th>Fare</th>\n",
       "      <th>Parch</th>\n",
       "      <th>PassengerId</th>\n",
       "      <th>Pclass</th>\n",
       "      <th>SibSp</th>\n",
       "      <th>Survived</th>\n",
       "      <th>Embarked_C</th>\n",
       "      <th>Embarked_Q</th>\n",
       "      <th>Embarked_S</th>\n",
       "      <th>Sex_female</th>\n",
       "      <th>Sex_male</th>\n",
       "    </tr>\n",
       "  </thead>\n",
       "  <tbody>\n",
       "    <tr>\n",
       "      <td>Age</td>\n",
       "      <td>1.000000</td>\n",
       "      <td>0.116251</td>\n",
       "      <td>-0.180120</td>\n",
       "      <td>0.034475</td>\n",
       "      <td>-0.408499</td>\n",
       "      <td>-0.252788</td>\n",
       "      <td>-0.044684</td>\n",
       "      <td>0.029788</td>\n",
       "      <td>-0.041474</td>\n",
       "      <td>-0.007832</td>\n",
       "      <td>-0.077145</td>\n",
       "      <td>0.077145</td>\n",
       "    </tr>\n",
       "    <tr>\n",
       "      <td>Fare</td>\n",
       "      <td>0.116251</td>\n",
       "      <td>1.000000</td>\n",
       "      <td>0.216225</td>\n",
       "      <td>0.012658</td>\n",
       "      <td>-0.549500</td>\n",
       "      <td>0.159651</td>\n",
       "      <td>0.257307</td>\n",
       "      <td>0.269335</td>\n",
       "      <td>-0.117216</td>\n",
       "      <td>-0.166603</td>\n",
       "      <td>0.182333</td>\n",
       "      <td>-0.182333</td>\n",
       "    </tr>\n",
       "    <tr>\n",
       "      <td>Parch</td>\n",
       "      <td>-0.180120</td>\n",
       "      <td>0.216225</td>\n",
       "      <td>1.000000</td>\n",
       "      <td>-0.001652</td>\n",
       "      <td>0.018443</td>\n",
       "      <td>0.414838</td>\n",
       "      <td>0.081629</td>\n",
       "      <td>-0.011069</td>\n",
       "      <td>-0.081228</td>\n",
       "      <td>0.063036</td>\n",
       "      <td>0.245489</td>\n",
       "      <td>-0.245489</td>\n",
       "    </tr>\n",
       "    <tr>\n",
       "      <td>PassengerId</td>\n",
       "      <td>0.034475</td>\n",
       "      <td>0.012658</td>\n",
       "      <td>-0.001652</td>\n",
       "      <td>1.000000</td>\n",
       "      <td>-0.035144</td>\n",
       "      <td>-0.057527</td>\n",
       "      <td>-0.005007</td>\n",
       "      <td>-0.001205</td>\n",
       "      <td>-0.033606</td>\n",
       "      <td>0.022148</td>\n",
       "      <td>-0.042939</td>\n",
       "      <td>0.042939</td>\n",
       "    </tr>\n",
       "    <tr>\n",
       "      <td>Pclass</td>\n",
       "      <td>-0.408499</td>\n",
       "      <td>-0.549500</td>\n",
       "      <td>0.018443</td>\n",
       "      <td>-0.035144</td>\n",
       "      <td>1.000000</td>\n",
       "      <td>0.083081</td>\n",
       "      <td>-0.338481</td>\n",
       "      <td>-0.243292</td>\n",
       "      <td>0.221009</td>\n",
       "      <td>0.081720</td>\n",
       "      <td>-0.131900</td>\n",
       "      <td>0.131900</td>\n",
       "    </tr>\n",
       "    <tr>\n",
       "      <td>SibSp</td>\n",
       "      <td>-0.252788</td>\n",
       "      <td>0.159651</td>\n",
       "      <td>0.414838</td>\n",
       "      <td>-0.057527</td>\n",
       "      <td>0.083081</td>\n",
       "      <td>1.000000</td>\n",
       "      <td>-0.035322</td>\n",
       "      <td>-0.059528</td>\n",
       "      <td>-0.026354</td>\n",
       "      <td>0.070941</td>\n",
       "      <td>0.114631</td>\n",
       "      <td>-0.114631</td>\n",
       "    </tr>\n",
       "    <tr>\n",
       "      <td>Survived</td>\n",
       "      <td>-0.044684</td>\n",
       "      <td>0.257307</td>\n",
       "      <td>0.081629</td>\n",
       "      <td>-0.005007</td>\n",
       "      <td>-0.338481</td>\n",
       "      <td>-0.035322</td>\n",
       "      <td>1.000000</td>\n",
       "      <td>0.168240</td>\n",
       "      <td>0.003650</td>\n",
       "      <td>-0.155660</td>\n",
       "      <td>0.543351</td>\n",
       "      <td>-0.543351</td>\n",
       "    </tr>\n",
       "    <tr>\n",
       "      <td>Embarked_C</td>\n",
       "      <td>0.029788</td>\n",
       "      <td>0.269335</td>\n",
       "      <td>-0.011069</td>\n",
       "      <td>-0.001205</td>\n",
       "      <td>-0.243292</td>\n",
       "      <td>-0.059528</td>\n",
       "      <td>0.168240</td>\n",
       "      <td>1.000000</td>\n",
       "      <td>-0.148258</td>\n",
       "      <td>-0.778359</td>\n",
       "      <td>0.082853</td>\n",
       "      <td>-0.082853</td>\n",
       "    </tr>\n",
       "    <tr>\n",
       "      <td>Embarked_Q</td>\n",
       "      <td>-0.041474</td>\n",
       "      <td>-0.117216</td>\n",
       "      <td>-0.081228</td>\n",
       "      <td>-0.033606</td>\n",
       "      <td>0.221009</td>\n",
       "      <td>-0.026354</td>\n",
       "      <td>0.003650</td>\n",
       "      <td>-0.148258</td>\n",
       "      <td>1.000000</td>\n",
       "      <td>-0.496624</td>\n",
       "      <td>0.074115</td>\n",
       "      <td>-0.074115</td>\n",
       "    </tr>\n",
       "    <tr>\n",
       "      <td>Embarked_S</td>\n",
       "      <td>-0.007832</td>\n",
       "      <td>-0.166603</td>\n",
       "      <td>0.063036</td>\n",
       "      <td>0.022148</td>\n",
       "      <td>0.081720</td>\n",
       "      <td>0.070941</td>\n",
       "      <td>-0.155660</td>\n",
       "      <td>-0.778359</td>\n",
       "      <td>-0.496624</td>\n",
       "      <td>1.000000</td>\n",
       "      <td>-0.125722</td>\n",
       "      <td>0.125722</td>\n",
       "    </tr>\n",
       "    <tr>\n",
       "      <td>Sex_female</td>\n",
       "      <td>-0.077145</td>\n",
       "      <td>0.182333</td>\n",
       "      <td>0.245489</td>\n",
       "      <td>-0.042939</td>\n",
       "      <td>-0.131900</td>\n",
       "      <td>0.114631</td>\n",
       "      <td>0.543351</td>\n",
       "      <td>0.082853</td>\n",
       "      <td>0.074115</td>\n",
       "      <td>-0.125722</td>\n",
       "      <td>1.000000</td>\n",
       "      <td>-1.000000</td>\n",
       "    </tr>\n",
       "    <tr>\n",
       "      <td>Sex_male</td>\n",
       "      <td>0.077145</td>\n",
       "      <td>-0.182333</td>\n",
       "      <td>-0.245489</td>\n",
       "      <td>0.042939</td>\n",
       "      <td>0.131900</td>\n",
       "      <td>-0.114631</td>\n",
       "      <td>-0.543351</td>\n",
       "      <td>-0.082853</td>\n",
       "      <td>-0.074115</td>\n",
       "      <td>0.125722</td>\n",
       "      <td>-1.000000</td>\n",
       "      <td>1.000000</td>\n",
       "    </tr>\n",
       "  </tbody>\n",
       "</table>\n",
       "</div>"
      ],
      "text/plain": [
       "                  Age      Fare     Parch  PassengerId    Pclass     SibSp  \\\n",
       "Age          1.000000  0.116251 -0.180120     0.034475 -0.408499 -0.252788   \n",
       "Fare         0.116251  1.000000  0.216225     0.012658 -0.549500  0.159651   \n",
       "Parch       -0.180120  0.216225  1.000000    -0.001652  0.018443  0.414838   \n",
       "PassengerId  0.034475  0.012658 -0.001652     1.000000 -0.035144 -0.057527   \n",
       "Pclass      -0.408499 -0.549500  0.018443    -0.035144  1.000000  0.083081   \n",
       "SibSp       -0.252788  0.159651  0.414838    -0.057527  0.083081  1.000000   \n",
       "Survived    -0.044684  0.257307  0.081629    -0.005007 -0.338481 -0.035322   \n",
       "Embarked_C   0.029788  0.269335 -0.011069    -0.001205 -0.243292 -0.059528   \n",
       "Embarked_Q  -0.041474 -0.117216 -0.081228    -0.033606  0.221009 -0.026354   \n",
       "Embarked_S  -0.007832 -0.166603  0.063036     0.022148  0.081720  0.070941   \n",
       "Sex_female  -0.077145  0.182333  0.245489    -0.042939 -0.131900  0.114631   \n",
       "Sex_male     0.077145 -0.182333 -0.245489     0.042939  0.131900 -0.114631   \n",
       "\n",
       "             Survived  Embarked_C  Embarked_Q  Embarked_S  Sex_female  \\\n",
       "Age         -0.044684    0.029788   -0.041474   -0.007832   -0.077145   \n",
       "Fare         0.257307    0.269335   -0.117216   -0.166603    0.182333   \n",
       "Parch        0.081629   -0.011069   -0.081228    0.063036    0.245489   \n",
       "PassengerId -0.005007   -0.001205   -0.033606    0.022148   -0.042939   \n",
       "Pclass      -0.338481   -0.243292    0.221009    0.081720   -0.131900   \n",
       "SibSp       -0.035322   -0.059528   -0.026354    0.070941    0.114631   \n",
       "Survived     1.000000    0.168240    0.003650   -0.155660    0.543351   \n",
       "Embarked_C   0.168240    1.000000   -0.148258   -0.778359    0.082853   \n",
       "Embarked_Q   0.003650   -0.148258    1.000000   -0.496624    0.074115   \n",
       "Embarked_S  -0.155660   -0.778359   -0.496624    1.000000   -0.125722   \n",
       "Sex_female   0.543351    0.082853    0.074115   -0.125722    1.000000   \n",
       "Sex_male    -0.543351   -0.082853   -0.074115    0.125722   -1.000000   \n",
       "\n",
       "             Sex_male  \n",
       "Age          0.077145  \n",
       "Fare        -0.182333  \n",
       "Parch       -0.245489  \n",
       "PassengerId  0.042939  \n",
       "Pclass       0.131900  \n",
       "SibSp       -0.114631  \n",
       "Survived    -0.543351  \n",
       "Embarked_C  -0.082853  \n",
       "Embarked_Q  -0.074115  \n",
       "Embarked_S   0.125722  \n",
       "Sex_female  -1.000000  \n",
       "Sex_male     1.000000  "
      ]
     },
     "execution_count": 772,
     "metadata": {},
     "output_type": "execute_result"
    }
   ],
   "source": [
    "train.corr()"
   ]
  },
  {
   "cell_type": "code",
   "execution_count": 1,
   "metadata": {},
   "outputs": [
    {
     "ename": "NameError",
     "evalue": "name 'train' is not defined",
     "output_type": "error",
     "traceback": [
      "\u001b[0;31m---------------------------------------------------------------------------\u001b[0m",
      "\u001b[0;31mNameError\u001b[0m                                 Traceback (most recent call last)",
      "\u001b[0;32m<ipython-input-1-71c88af6b309>\u001b[0m in \u001b[0;36m<module>\u001b[0;34m\u001b[0m\n\u001b[0;32m----> 1\u001b[0;31m \u001b[0mx\u001b[0m \u001b[0;34m=\u001b[0m \u001b[0mtrain\u001b[0m\u001b[0;34m[\u001b[0m\u001b[0;34m[\u001b[0m\u001b[0;34m\"Fare\"\u001b[0m\u001b[0;34m,\u001b[0m \u001b[0;34m\"Pclass\"\u001b[0m\u001b[0;34m,\u001b[0m \u001b[0;34m\"Sex_female\"\u001b[0m\u001b[0;34m,\u001b[0m \u001b[0;34m\"Sex_male\"\u001b[0m\u001b[0;34m]\u001b[0m\u001b[0;34m]\u001b[0m\u001b[0;34m\u001b[0m\u001b[0;34m\u001b[0m\u001b[0m\n\u001b[0m\u001b[1;32m      2\u001b[0m \u001b[0my\u001b[0m \u001b[0;34m=\u001b[0m \u001b[0mtrain\u001b[0m\u001b[0;34m[\u001b[0m\u001b[0;34m\"Survived\"\u001b[0m\u001b[0;34m]\u001b[0m\u001b[0;34m\u001b[0m\u001b[0;34m\u001b[0m\u001b[0m\n",
      "\u001b[0;31mNameError\u001b[0m: name 'train' is not defined"
     ]
    }
   ],
   "source": [
    "x = train[[\"Fare\", \"Pclass\", \"Sex_female\", \"Sex_male\"]]\n",
    "y = train[\"Survived\"]"
   ]
  },
  {
   "cell_type": "code",
   "execution_count": 2,
   "metadata": {},
   "outputs": [],
   "source": [
    "import numpy as np"
   ]
  },
  {
   "cell_type": "code",
   "execution_count": 775,
   "metadata": {},
   "outputs": [],
   "source": [
    "from sklearn.linear_model import LogisticRegression\n",
    "from sklearn.ensemble import RandomForestClassifier\n",
    "from sklearn.neighbors import KNeighborsClassifier\n",
    "from sklearn.tree import DecisionTreeClassifier\n",
    "from sklearn.naive_bayes import GaussianNB\n",
    "from sklearn.svm import SVC\n",
    "from sklearn.linear_model import LinearRegression\n",
    "ml = LogisticRegression(solver='lbfgs')\n"
   ]
  },
  {
   "cell_type": "code",
   "execution_count": 776,
   "metadata": {},
   "outputs": [
    {
     "name": "stdout",
     "output_type": "stream",
     "text": [
      "[0.85555556 0.7752809  0.78651685 0.82022472 0.75280899 0.76404494\n",
      " 0.78651685 0.85393258 0.8988764  0.88764045]\n"
     ]
    },
    {
     "name": "stderr",
     "output_type": "stream",
     "text": [
      "/Users/skyepodium/opt/anaconda3/lib/python3.7/site-packages/sklearn/ensemble/forest.py:245: FutureWarning: The default value of n_estimators will change from 10 in version 0.20 to 100 in 0.22.\n",
      "  \"10 in version 0.20 to 100 in 0.22.\", FutureWarning)\n"
     ]
    },
    {
     "data": {
      "text/plain": [
       "81.81"
      ]
     },
     "execution_count": 776,
     "metadata": {},
     "output_type": "execute_result"
    }
   ],
   "source": [
    "lf = RandomForestClassifier()\n",
    "lf.fit(x, y)\n",
    "scoring = 'accuracy'\n",
    "score = cross_val_score(lf, x, y, cv=k_fold, n_jobs=1, scoring=scoring)\n",
    "print(score)\n",
    "\n",
    "round(np.mean(score)*100, 2)"
   ]
  },
  {
   "cell_type": "code",
   "execution_count": 777,
   "metadata": {},
   "outputs": [],
   "source": [
    "x_test = test[[\"Fare\", \"Pclass\", \"Sex_female\", \"Sex_male\"]]\n",
    "submission = lf.predict(x_test)\n",
    "submission = pd.DataFrame({\n",
    "    \"PassengerId\": test[\"PassengerId\"],\n",
    "    \"Survived\": submission\n",
    "})\n",
    "submission.to_csv('submission0314FinalForest.csv', index=False)  "
   ]
  },
  {
   "cell_type": "code",
   "execution_count": null,
   "metadata": {},
   "outputs": [],
   "source": []
  },
  {
   "cell_type": "code",
   "execution_count": null,
   "metadata": {},
   "outputs": [],
   "source": []
  },
  {
   "cell_type": "code",
   "execution_count": null,
   "metadata": {},
   "outputs": [],
   "source": []
  },
  {
   "cell_type": "code",
   "execution_count": null,
   "metadata": {},
   "outputs": [],
   "source": []
  },
  {
   "cell_type": "code",
   "execution_count": null,
   "metadata": {},
   "outputs": [],
   "source": []
  },
  {
   "cell_type": "code",
   "execution_count": 725,
   "metadata": {},
   "outputs": [
    {
     "name": "stdout",
     "output_type": "stream",
     "text": [
      "[0.87777778 0.7752809  0.80898876 0.80898876 0.75280899 0.75280899\n",
      " 0.82022472 0.84269663 0.87640449 0.87640449]\n"
     ]
    },
    {
     "data": {
      "text/plain": [
       "81.92"
      ]
     },
     "execution_count": 725,
     "metadata": {},
     "output_type": "execute_result"
    }
   ],
   "source": [
    "from sklearn.model_selection import KFold\n",
    "from sklearn.model_selection import cross_val_score\n",
    "k_fold = KFold(n_splits=10, shuffle=True, random_state=0)\n",
    "\n",
    "scoring = 'accuracy'\n",
    "score = cross_val_score(lf, x, y, cv=k_fold, n_jobs=1, scoring=scoring)\n",
    "print(score)\n",
    "\n",
    "round(np.mean(score)*100, 2)"
   ]
  },
  {
   "cell_type": "code",
   "execution_count": 726,
   "metadata": {},
   "outputs": [
    {
     "name": "stdout",
     "output_type": "stream",
     "text": [
      "[0.84444444 0.7752809  0.78651685 0.83146067 0.75280899 0.79775281\n",
      " 0.83146067 0.82022472 0.88764045 0.83146067]\n"
     ]
    },
    {
     "name": "stderr",
     "output_type": "stream",
     "text": [
      "/Users/skyepodium/opt/anaconda3/lib/python3.7/site-packages/sklearn/ensemble/forest.py:245: FutureWarning: The default value of n_estimators will change from 10 in version 0.20 to 100 in 0.22.\n",
      "  \"10 in version 0.20 to 100 in 0.22.\", FutureWarning)\n"
     ]
    },
    {
     "data": {
      "text/plain": [
       "81.59"
      ]
     },
     "execution_count": 726,
     "metadata": {},
     "output_type": "execute_result"
    }
   ],
   "source": [
    "lf = RandomForestClassifier()\n",
    "lf.fit(x, y)\n",
    "scoring = 'accuracy'\n",
    "score = cross_val_score(lf, x, y, cv=k_fold, n_jobs=1, scoring=scoring)\n",
    "print(score)\n",
    "\n",
    "round(np.mean(score)*100, 2)"
   ]
  },
  {
   "cell_type": "code",
   "execution_count": 727,
   "metadata": {},
   "outputs": [
    {
     "name": "stdout",
     "output_type": "stream",
     "text": [
      "[0.8        0.65168539 0.7752809  0.73033708 0.76404494 0.74157303\n",
      " 0.71910112 0.78651685 0.79775281 0.86516854]\n"
     ]
    },
    {
     "data": {
      "text/plain": [
       "76.31"
      ]
     },
     "execution_count": 727,
     "metadata": {},
     "output_type": "execute_result"
    }
   ],
   "source": [
    "lf = KNeighborsClassifier()\n",
    "lf.fit(x, y)\n",
    "scoring = 'accuracy'\n",
    "score = cross_val_score(lf, x, y, cv=k_fold, n_jobs=1, scoring=scoring)\n",
    "print(score)\n",
    "\n",
    "round(np.mean(score)*100, 2)"
   ]
  },
  {
   "cell_type": "code",
   "execution_count": 728,
   "metadata": {},
   "outputs": [
    {
     "name": "stdout",
     "output_type": "stream",
     "text": [
      "[0.87777778 0.80898876 0.76404494 0.79775281 0.78651685 0.74157303\n",
      " 0.83146067 0.83146067 0.85393258 0.8988764 ]\n"
     ]
    },
    {
     "data": {
      "text/plain": [
       "81.92"
      ]
     },
     "execution_count": 728,
     "metadata": {},
     "output_type": "execute_result"
    }
   ],
   "source": [
    "lf = DecisionTreeClassifier()\n",
    "lf.fit(x, y)\n",
    "scoring = 'accuracy'\n",
    "score = cross_val_score(lf, x, y, cv=k_fold, n_jobs=1, scoring=scoring)\n",
    "print(score)\n",
    "\n",
    "round(np.mean(score)*100, 2)"
   ]
  },
  {
   "cell_type": "code",
   "execution_count": 729,
   "metadata": {},
   "outputs": [
    {
     "name": "stdout",
     "output_type": "stream",
     "text": [
      "[0.8        0.74157303 0.7752809  0.7752809  0.78651685 0.7752809\n",
      " 0.68539326 0.79775281 0.83146067 0.84269663]\n"
     ]
    },
    {
     "data": {
      "text/plain": [
       "78.11"
      ]
     },
     "execution_count": 729,
     "metadata": {},
     "output_type": "execute_result"
    }
   ],
   "source": [
    "lf = GaussianNB()\n",
    "lf.fit(x, y)\n",
    "scoring = 'accuracy'\n",
    "score = cross_val_score(lf, x, y, cv=k_fold, n_jobs=1, scoring=scoring)\n",
    "print(score)\n",
    "\n",
    "round(np.mean(score)*100, 2)"
   ]
  },
  {
   "cell_type": "code",
   "execution_count": 730,
   "metadata": {},
   "outputs": [
    {
     "name": "stdout",
     "output_type": "stream",
     "text": [
      "[0.82222222 0.74157303 0.80898876 0.74157303 0.75280899 0.80898876\n",
      " 0.70786517 0.84269663 0.82022472 0.86516854]\n"
     ]
    },
    {
     "name": "stderr",
     "output_type": "stream",
     "text": [
      "/Users/skyepodium/opt/anaconda3/lib/python3.7/site-packages/sklearn/svm/base.py:193: FutureWarning: The default value of gamma will change from 'auto' to 'scale' in version 0.22 to account better for unscaled features. Set gamma explicitly to 'auto' or 'scale' to avoid this warning.\n",
      "  \"avoid this warning.\", FutureWarning)\n",
      "/Users/skyepodium/opt/anaconda3/lib/python3.7/site-packages/sklearn/svm/base.py:193: FutureWarning: The default value of gamma will change from 'auto' to 'scale' in version 0.22 to account better for unscaled features. Set gamma explicitly to 'auto' or 'scale' to avoid this warning.\n",
      "  \"avoid this warning.\", FutureWarning)\n",
      "/Users/skyepodium/opt/anaconda3/lib/python3.7/site-packages/sklearn/svm/base.py:193: FutureWarning: The default value of gamma will change from 'auto' to 'scale' in version 0.22 to account better for unscaled features. Set gamma explicitly to 'auto' or 'scale' to avoid this warning.\n",
      "  \"avoid this warning.\", FutureWarning)\n",
      "/Users/skyepodium/opt/anaconda3/lib/python3.7/site-packages/sklearn/svm/base.py:193: FutureWarning: The default value of gamma will change from 'auto' to 'scale' in version 0.22 to account better for unscaled features. Set gamma explicitly to 'auto' or 'scale' to avoid this warning.\n",
      "  \"avoid this warning.\", FutureWarning)\n",
      "/Users/skyepodium/opt/anaconda3/lib/python3.7/site-packages/sklearn/svm/base.py:193: FutureWarning: The default value of gamma will change from 'auto' to 'scale' in version 0.22 to account better for unscaled features. Set gamma explicitly to 'auto' or 'scale' to avoid this warning.\n",
      "  \"avoid this warning.\", FutureWarning)\n",
      "/Users/skyepodium/opt/anaconda3/lib/python3.7/site-packages/sklearn/svm/base.py:193: FutureWarning: The default value of gamma will change from 'auto' to 'scale' in version 0.22 to account better for unscaled features. Set gamma explicitly to 'auto' or 'scale' to avoid this warning.\n",
      "  \"avoid this warning.\", FutureWarning)\n",
      "/Users/skyepodium/opt/anaconda3/lib/python3.7/site-packages/sklearn/svm/base.py:193: FutureWarning: The default value of gamma will change from 'auto' to 'scale' in version 0.22 to account better for unscaled features. Set gamma explicitly to 'auto' or 'scale' to avoid this warning.\n",
      "  \"avoid this warning.\", FutureWarning)\n",
      "/Users/skyepodium/opt/anaconda3/lib/python3.7/site-packages/sklearn/svm/base.py:193: FutureWarning: The default value of gamma will change from 'auto' to 'scale' in version 0.22 to account better for unscaled features. Set gamma explicitly to 'auto' or 'scale' to avoid this warning.\n",
      "  \"avoid this warning.\", FutureWarning)\n",
      "/Users/skyepodium/opt/anaconda3/lib/python3.7/site-packages/sklearn/svm/base.py:193: FutureWarning: The default value of gamma will change from 'auto' to 'scale' in version 0.22 to account better for unscaled features. Set gamma explicitly to 'auto' or 'scale' to avoid this warning.\n",
      "  \"avoid this warning.\", FutureWarning)\n",
      "/Users/skyepodium/opt/anaconda3/lib/python3.7/site-packages/sklearn/svm/base.py:193: FutureWarning: The default value of gamma will change from 'auto' to 'scale' in version 0.22 to account better for unscaled features. Set gamma explicitly to 'auto' or 'scale' to avoid this warning.\n",
      "  \"avoid this warning.\", FutureWarning)\n",
      "/Users/skyepodium/opt/anaconda3/lib/python3.7/site-packages/sklearn/svm/base.py:193: FutureWarning: The default value of gamma will change from 'auto' to 'scale' in version 0.22 to account better for unscaled features. Set gamma explicitly to 'auto' or 'scale' to avoid this warning.\n",
      "  \"avoid this warning.\", FutureWarning)\n"
     ]
    },
    {
     "data": {
      "text/plain": [
       "79.12"
      ]
     },
     "execution_count": 730,
     "metadata": {},
     "output_type": "execute_result"
    }
   ],
   "source": [
    "lf = SVC()\n",
    "lf.fit(x, y)\n",
    "scoring = 'accuracy'\n",
    "score = cross_val_score(lf, x, y, cv=k_fold, n_jobs=1, scoring=scoring)\n",
    "print(score)\n",
    "\n",
    "round(np.mean(score)*100, 2)"
   ]
  },
  {
   "cell_type": "code",
   "execution_count": 731,
   "metadata": {},
   "outputs": [
    {
     "name": "stdout",
     "output_type": "stream",
     "text": [
      "[0.87777778 0.80898876 0.76404494 0.79775281 0.78651685 0.74157303\n",
      " 0.83146067 0.83146067 0.85393258 0.8988764 ]\n"
     ]
    },
    {
     "data": {
      "text/plain": [
       "81.92"
      ]
     },
     "execution_count": 731,
     "metadata": {},
     "output_type": "execute_result"
    }
   ],
   "source": [
    "lf = DecisionTreeClassifier()\n",
    "lf.fit(x, y)\n",
    "scoring = 'accuracy'\n",
    "score = cross_val_score(lf, x, y, cv=k_fold, n_jobs=1, scoring=scoring)\n",
    "print(score)\n",
    "\n",
    "round(np.mean(score)*100, 2)"
   ]
  },
  {
   "cell_type": "code",
   "execution_count": 732,
   "metadata": {},
   "outputs": [
    {
     "name": "stdout",
     "output_type": "stream",
     "text": [
      "[0.81111111 0.76404494 0.7752809  0.7752809  0.79775281 0.7752809\n",
      " 0.6741573  0.79775281 0.83146067 0.83146067]\n"
     ]
    },
    {
     "name": "stderr",
     "output_type": "stream",
     "text": [
      "/Users/skyepodium/opt/anaconda3/lib/python3.7/site-packages/sklearn/linear_model/logistic.py:432: FutureWarning: Default solver will be changed to 'lbfgs' in 0.22. Specify a solver to silence this warning.\n",
      "  FutureWarning)\n",
      "/Users/skyepodium/opt/anaconda3/lib/python3.7/site-packages/sklearn/linear_model/logistic.py:432: FutureWarning: Default solver will be changed to 'lbfgs' in 0.22. Specify a solver to silence this warning.\n",
      "  FutureWarning)\n",
      "/Users/skyepodium/opt/anaconda3/lib/python3.7/site-packages/sklearn/linear_model/logistic.py:432: FutureWarning: Default solver will be changed to 'lbfgs' in 0.22. Specify a solver to silence this warning.\n",
      "  FutureWarning)\n",
      "/Users/skyepodium/opt/anaconda3/lib/python3.7/site-packages/sklearn/linear_model/logistic.py:432: FutureWarning: Default solver will be changed to 'lbfgs' in 0.22. Specify a solver to silence this warning.\n",
      "  FutureWarning)\n",
      "/Users/skyepodium/opt/anaconda3/lib/python3.7/site-packages/sklearn/linear_model/logistic.py:432: FutureWarning: Default solver will be changed to 'lbfgs' in 0.22. Specify a solver to silence this warning.\n",
      "  FutureWarning)\n",
      "/Users/skyepodium/opt/anaconda3/lib/python3.7/site-packages/sklearn/linear_model/logistic.py:432: FutureWarning: Default solver will be changed to 'lbfgs' in 0.22. Specify a solver to silence this warning.\n",
      "  FutureWarning)\n",
      "/Users/skyepodium/opt/anaconda3/lib/python3.7/site-packages/sklearn/linear_model/logistic.py:432: FutureWarning: Default solver will be changed to 'lbfgs' in 0.22. Specify a solver to silence this warning.\n",
      "  FutureWarning)\n",
      "/Users/skyepodium/opt/anaconda3/lib/python3.7/site-packages/sklearn/linear_model/logistic.py:432: FutureWarning: Default solver will be changed to 'lbfgs' in 0.22. Specify a solver to silence this warning.\n",
      "  FutureWarning)\n",
      "/Users/skyepodium/opt/anaconda3/lib/python3.7/site-packages/sklearn/linear_model/logistic.py:432: FutureWarning: Default solver will be changed to 'lbfgs' in 0.22. Specify a solver to silence this warning.\n",
      "  FutureWarning)\n",
      "/Users/skyepodium/opt/anaconda3/lib/python3.7/site-packages/sklearn/linear_model/logistic.py:432: FutureWarning: Default solver will be changed to 'lbfgs' in 0.22. Specify a solver to silence this warning.\n",
      "  FutureWarning)\n",
      "/Users/skyepodium/opt/anaconda3/lib/python3.7/site-packages/sklearn/linear_model/logistic.py:432: FutureWarning: Default solver will be changed to 'lbfgs' in 0.22. Specify a solver to silence this warning.\n",
      "  FutureWarning)\n"
     ]
    },
    {
     "data": {
      "text/plain": [
       "78.34"
      ]
     },
     "execution_count": 732,
     "metadata": {},
     "output_type": "execute_result"
    }
   ],
   "source": [
    "lf = LogisticRegression()\n",
    "lf.fit(x, y)\n",
    "scoring = 'accuracy'\n",
    "score = cross_val_score(lf, x, y, cv=k_fold, n_jobs=1, scoring=scoring)\n",
    "print(score)\n",
    "\n",
    "round(np.mean(score)*100, 2)"
   ]
  },
  {
   "cell_type": "code",
   "execution_count": 733,
   "metadata": {},
   "outputs": [
    {
     "name": "stderr",
     "output_type": "stream",
     "text": [
      "/Users/skyepodium/opt/anaconda3/lib/python3.7/site-packages/sklearn/ensemble/forest.py:245: FutureWarning: The default value of n_estimators will change from 10 in version 0.20 to 100 in 0.22.\n",
      "  \"10 in version 0.20 to 100 in 0.22.\", FutureWarning)\n"
     ]
    },
    {
     "data": {
      "text/plain": [
       "RandomForestClassifier(bootstrap=True, class_weight=None, criterion='gini',\n",
       "                       max_depth=None, max_features='auto', max_leaf_nodes=None,\n",
       "                       min_impurity_decrease=0.0, min_impurity_split=None,\n",
       "                       min_samples_leaf=1, min_samples_split=2,\n",
       "                       min_weight_fraction_leaf=0.0, n_estimators=10,\n",
       "                       n_jobs=None, oob_score=False, random_state=None,\n",
       "                       verbose=0, warm_start=False)"
      ]
     },
     "execution_count": 733,
     "metadata": {},
     "output_type": "execute_result"
    }
   ],
   "source": [
    "lf = RandomForestClassifier()\n",
    "lf.fit(x, y)"
   ]
  },
  {
   "cell_type": "code",
   "execution_count": 734,
   "metadata": {},
   "outputs": [],
   "source": []
  },
  {
   "cell_type": "code",
   "execution_count": 718,
   "metadata": {},
   "outputs": [],
   "source": [
    "x_test = test[[\"Fare\", \"Pclass\", \"Sex_female\", \"Sex_male\"]]\n",
    "submission = lf.predict(x_test)\n",
    "submission = pd.DataFrame({\n",
    "    \"PassengerId\": test[\"PassengerId\"],\n",
    "    \"Survived\": submission\n",
    "})\n",
    "submission.to_csv('submission0314newRandomForest.csv', index=False)  "
   ]
  },
  {
   "cell_type": "code",
   "execution_count": 719,
   "metadata": {},
   "outputs": [],
   "source": []
  },
  {
   "cell_type": "code",
   "execution_count": 720,
   "metadata": {},
   "outputs": [],
   "source": []
  },
  {
   "cell_type": "code",
   "execution_count": null,
   "metadata": {},
   "outputs": [],
   "source": []
  },
  {
   "cell_type": "code",
   "execution_count": null,
   "metadata": {},
   "outputs": [],
   "source": []
  },
  {
   "cell_type": "code",
   "execution_count": null,
   "metadata": {},
   "outputs": [],
   "source": []
  },
  {
   "cell_type": "code",
   "execution_count": null,
   "metadata": {},
   "outputs": [],
   "source": []
  },
  {
   "cell_type": "code",
   "execution_count": null,
   "metadata": {},
   "outputs": [],
   "source": []
  },
  {
   "cell_type": "code",
   "execution_count": null,
   "metadata": {},
   "outputs": [],
   "source": []
  }
 ],
 "metadata": {
  "kernelspec": {
   "display_name": "Python 3",
   "language": "python",
   "name": "python3"
  },
  "language_info": {
   "codemirror_mode": {
    "name": "ipython",
    "version": 3
   },
   "file_extension": ".py",
   "mimetype": "text/x-python",
   "name": "python",
   "nbconvert_exporter": "python",
   "pygments_lexer": "ipython3",
   "version": "3.7.4"
  }
 },
 "nbformat": 4,
 "nbformat_minor": 2
}
