{
 "cells": [
  {
   "cell_type": "code",
   "execution_count": 1923,
   "metadata": {},
   "outputs": [],
   "source": [
    "import pandas as pd\n",
    "import numpy as np"
   ]
  },
  {
   "cell_type": "code",
   "execution_count": 1924,
   "metadata": {},
   "outputs": [],
   "source": [
    "train = pd.read_csv(\"./input/train.csv\")\n",
    "test = pd.read_csv(\"./input/test.csv\")"
   ]
  },
  {
   "cell_type": "code",
   "execution_count": 1925,
   "metadata": {},
   "outputs": [
    {
     "name": "stdout",
     "output_type": "stream",
     "text": [
      "(891, 12)\n"
     ]
    },
    {
     "data": {
      "text/html": [
       "<div>\n",
       "<style scoped>\n",
       "    .dataframe tbody tr th:only-of-type {\n",
       "        vertical-align: middle;\n",
       "    }\n",
       "\n",
       "    .dataframe tbody tr th {\n",
       "        vertical-align: top;\n",
       "    }\n",
       "\n",
       "    .dataframe thead th {\n",
       "        text-align: right;\n",
       "    }\n",
       "</style>\n",
       "<table border=\"1\" class=\"dataframe\">\n",
       "  <thead>\n",
       "    <tr style=\"text-align: right;\">\n",
       "      <th></th>\n",
       "      <th>PassengerId</th>\n",
       "      <th>Survived</th>\n",
       "      <th>Pclass</th>\n",
       "      <th>Name</th>\n",
       "      <th>Sex</th>\n",
       "      <th>Age</th>\n",
       "      <th>SibSp</th>\n",
       "      <th>Parch</th>\n",
       "      <th>Ticket</th>\n",
       "      <th>Fare</th>\n",
       "      <th>Cabin</th>\n",
       "      <th>Embarked</th>\n",
       "    </tr>\n",
       "  </thead>\n",
       "  <tbody>\n",
       "    <tr>\n",
       "      <td>0</td>\n",
       "      <td>1</td>\n",
       "      <td>0</td>\n",
       "      <td>3</td>\n",
       "      <td>Braund, Mr. Owen Harris</td>\n",
       "      <td>male</td>\n",
       "      <td>22.0</td>\n",
       "      <td>1</td>\n",
       "      <td>0</td>\n",
       "      <td>A/5 21171</td>\n",
       "      <td>7.25</td>\n",
       "      <td>NaN</td>\n",
       "      <td>S</td>\n",
       "    </tr>\n",
       "  </tbody>\n",
       "</table>\n",
       "</div>"
      ],
      "text/plain": [
       "   PassengerId  Survived  Pclass                     Name   Sex   Age  SibSp  \\\n",
       "0            1         0       3  Braund, Mr. Owen Harris  male  22.0      1   \n",
       "\n",
       "   Parch     Ticket  Fare Cabin Embarked  \n",
       "0      0  A/5 21171  7.25   NaN        S  "
      ]
     },
     "execution_count": 1925,
     "metadata": {},
     "output_type": "execute_result"
    }
   ],
   "source": [
    "print(train.shape)\n",
    "train.head(1)"
   ]
  },
  {
   "cell_type": "code",
   "execution_count": 1926,
   "metadata": {},
   "outputs": [
    {
     "name": "stdout",
     "output_type": "stream",
     "text": [
      "(418, 11)\n"
     ]
    },
    {
     "data": {
      "text/html": [
       "<div>\n",
       "<style scoped>\n",
       "    .dataframe tbody tr th:only-of-type {\n",
       "        vertical-align: middle;\n",
       "    }\n",
       "\n",
       "    .dataframe tbody tr th {\n",
       "        vertical-align: top;\n",
       "    }\n",
       "\n",
       "    .dataframe thead th {\n",
       "        text-align: right;\n",
       "    }\n",
       "</style>\n",
       "<table border=\"1\" class=\"dataframe\">\n",
       "  <thead>\n",
       "    <tr style=\"text-align: right;\">\n",
       "      <th></th>\n",
       "      <th>PassengerId</th>\n",
       "      <th>Pclass</th>\n",
       "      <th>Name</th>\n",
       "      <th>Sex</th>\n",
       "      <th>Age</th>\n",
       "      <th>SibSp</th>\n",
       "      <th>Parch</th>\n",
       "      <th>Ticket</th>\n",
       "      <th>Fare</th>\n",
       "      <th>Cabin</th>\n",
       "      <th>Embarked</th>\n",
       "    </tr>\n",
       "  </thead>\n",
       "  <tbody>\n",
       "    <tr>\n",
       "      <td>0</td>\n",
       "      <td>892</td>\n",
       "      <td>3</td>\n",
       "      <td>Kelly, Mr. James</td>\n",
       "      <td>male</td>\n",
       "      <td>34.5</td>\n",
       "      <td>0</td>\n",
       "      <td>0</td>\n",
       "      <td>330911</td>\n",
       "      <td>7.8292</td>\n",
       "      <td>NaN</td>\n",
       "      <td>Q</td>\n",
       "    </tr>\n",
       "  </tbody>\n",
       "</table>\n",
       "</div>"
      ],
      "text/plain": [
       "   PassengerId  Pclass              Name   Sex   Age  SibSp  Parch  Ticket  \\\n",
       "0          892       3  Kelly, Mr. James  male  34.5      0      0  330911   \n",
       "\n",
       "     Fare Cabin Embarked  \n",
       "0  7.8292   NaN        Q  "
      ]
     },
     "execution_count": 1926,
     "metadata": {},
     "output_type": "execute_result"
    }
   ],
   "source": [
    "print(test.shape)\n",
    "test.head(1)"
   ]
  },
  {
   "cell_type": "code",
   "execution_count": 1927,
   "metadata": {},
   "outputs": [
    {
     "name": "stdout",
     "output_type": "stream",
     "text": [
      "train null count\n",
      "PassengerId      0\n",
      "Survived         0\n",
      "Pclass           0\n",
      "Name             0\n",
      "Sex              0\n",
      "Age            177\n",
      "SibSp            0\n",
      "Parch            0\n",
      "Ticket           0\n",
      "Fare             0\n",
      "Cabin          687\n",
      "Embarked         2\n",
      "dtype: int64\n",
      "----------------\n",
      "test null count\n",
      "PassengerId      0\n",
      "Pclass           0\n",
      "Name             0\n",
      "Sex              0\n",
      "Age             86\n",
      "SibSp            0\n",
      "Parch            0\n",
      "Ticket           0\n",
      "Fare             1\n",
      "Cabin          327\n",
      "Embarked         0\n",
      "dtype: int64\n"
     ]
    }
   ],
   "source": [
    "print(\"train null count\")\n",
    "print(train.isnull().sum())\n",
    "print(\"----------------\")\n",
    "print(\"test null count\")\n",
    "print(test.isnull().sum())"
   ]
  },
  {
   "cell_type": "code",
   "execution_count": 1928,
   "metadata": {},
   "outputs": [],
   "source": [
    "def setEmbarked(val):\n",
    "    result = None\n",
    "    if val == \"Q\": result = 2\n",
    "    elif val == \"C\": result = 1\n",
    "    else: result = 0\n",
    "    return result"
   ]
  },
  {
   "cell_type": "code",
   "execution_count": 1929,
   "metadata": {},
   "outputs": [],
   "source": [
    "train[\"Embarked\"] = train[\"Embarked\"].apply(setEmbarked)\n",
    "test[\"Embarked\"] = test[\"Embarked\"].apply(setEmbarked)"
   ]
  },
  {
   "cell_type": "code",
   "execution_count": 1930,
   "metadata": {},
   "outputs": [],
   "source": [
    "def setSex(val):\n",
    "    result = None\n",
    "    if val == \"male\": result = 1\n",
    "    else: result = 0\n",
    "    return result"
   ]
  },
  {
   "cell_type": "code",
   "execution_count": 1931,
   "metadata": {},
   "outputs": [],
   "source": [
    "train[\"Sex\"] = train[\"Sex\"].apply(setSex)\n",
    "test[\"Sex\"] = test[\"Sex\"].apply(setSex)"
   ]
  },
  {
   "cell_type": "code",
   "execution_count": 1932,
   "metadata": {},
   "outputs": [],
   "source": [
    "def setCabin(val):\n",
    "    result = 0\n",
    "    if pd.isna(val): result = 0\n",
    "    else: result = 1\n",
    "    return result"
   ]
  },
  {
   "cell_type": "code",
   "execution_count": 1933,
   "metadata": {},
   "outputs": [],
   "source": [
    "train[\"HasCabin\"] = train[\"Cabin\"].apply(setCabin)\n",
    "test[\"HasCabin\"] = test[\"Cabin\"].apply(setCabin)\n",
    "train = train.drop(columns=[\"Cabin\"], axis=1)\n",
    "test = test.drop(columns=\"Cabin\", axis=1)"
   ]
  },
  {
   "cell_type": "code",
   "execution_count": 1934,
   "metadata": {},
   "outputs": [],
   "source": [
    "test[\"Fare\"] = test[\"Fare\"].fillna(test[\"Fare\"].median())"
   ]
  },
  {
   "cell_type": "code",
   "execution_count": 1935,
   "metadata": {},
   "outputs": [],
   "source": [
    "train[\"FamilySize\"] = train[\"SibSp\"] + train[\"Parch\"]\n",
    "test[\"FamilySize\"] = test[\"SibSp\"] + test[\"Parch\"]\n",
    "train = train.drop(columns=[\"SibSp\", \"Parch\"], axis=1)\n",
    "test = test.drop(columns=[\"SibSp\", \"Parch\"], axis=1)"
   ]
  },
  {
   "cell_type": "code",
   "execution_count": 1936,
   "metadata": {},
   "outputs": [],
   "source": [
    "train[\"Title\"] = train[\"Name\"].str.extract(', ([A-Z][a-z]+)')\n",
    "test[\"Title\"] = test[\"Name\"].str.extract(', ([A-Z][a-z]+)')"
   ]
  },
  {
   "cell_type": "code",
   "execution_count": 1937,
   "metadata": {},
   "outputs": [
    {
     "data": {
      "text/plain": [
       "Mr          517\n",
       "Miss        182\n",
       "Mrs         125\n",
       "Master       40\n",
       "Dr            7\n",
       "Rev           6\n",
       "Mlle          2\n",
       "Col           2\n",
       "Major         2\n",
       "Ms            1\n",
       "Mme           1\n",
       "Jonkheer      1\n",
       "Lady          1\n",
       "Don           1\n",
       "Sir           1\n",
       "Capt          1\n",
       "Name: Title, dtype: int64"
      ]
     },
     "execution_count": 1937,
     "metadata": {},
     "output_type": "execute_result"
    }
   ],
   "source": [
    "train[\"Title\"].value_counts() "
   ]
  },
  {
   "cell_type": "code",
   "execution_count": 1938,
   "metadata": {},
   "outputs": [
    {
     "data": {
      "text/plain": [
       "Mr        240\n",
       "Miss       78\n",
       "Mrs        72\n",
       "Master     21\n",
       "Rev         2\n",
       "Col         2\n",
       "Dona        1\n",
       "Ms          1\n",
       "Dr          1\n",
       "Name: Title, dtype: int64"
      ]
     },
     "execution_count": 1938,
     "metadata": {},
     "output_type": "execute_result"
    }
   ],
   "source": [
    "test[\"Title\"].value_counts() "
   ]
  },
  {
   "cell_type": "code",
   "execution_count": 1939,
   "metadata": {},
   "outputs": [],
   "source": [
    "def setTitle(val):\n",
    "    result = 0\n",
    "    if val == \"Mr\": result = 0\n",
    "    elif val == \"Miss\": result = 1\n",
    "    elif val == \"Mrs\": result = 2\n",
    "    else: val = 3\n",
    "    return result"
   ]
  },
  {
   "cell_type": "code",
   "execution_count": 1940,
   "metadata": {},
   "outputs": [],
   "source": [
    "train[\"Title\"] = train[\"Title\"].apply(setTitle)\n",
    "test[\"Title\"] = test[\"Title\"].apply(setTitle)"
   ]
  },
  {
   "cell_type": "code",
   "execution_count": 1941,
   "metadata": {},
   "outputs": [],
   "source": [
    "train = train.drop(columns=[\"Ticket\", \"Name\"], axis=1)\n",
    "test = test.drop(columns=[\"Ticket\", \"Name\"], axis=1)"
   ]
  },
  {
   "cell_type": "code",
   "execution_count": 1942,
   "metadata": {},
   "outputs": [
    {
     "data": {
      "text/html": [
       "<div>\n",
       "<style scoped>\n",
       "    .dataframe tbody tr th:only-of-type {\n",
       "        vertical-align: middle;\n",
       "    }\n",
       "\n",
       "    .dataframe tbody tr th {\n",
       "        vertical-align: top;\n",
       "    }\n",
       "\n",
       "    .dataframe thead th {\n",
       "        text-align: right;\n",
       "    }\n",
       "</style>\n",
       "<table border=\"1\" class=\"dataframe\">\n",
       "  <thead>\n",
       "    <tr style=\"text-align: right;\">\n",
       "      <th></th>\n",
       "      <th>FareBand</th>\n",
       "      <th>Survived</th>\n",
       "    </tr>\n",
       "  </thead>\n",
       "  <tbody>\n",
       "    <tr>\n",
       "      <td>0</td>\n",
       "      <td>(-0.512, 128.082]</td>\n",
       "      <td>0.368113</td>\n",
       "    </tr>\n",
       "    <tr>\n",
       "      <td>1</td>\n",
       "      <td>(128.082, 256.165]</td>\n",
       "      <td>0.724138</td>\n",
       "    </tr>\n",
       "    <tr>\n",
       "      <td>2</td>\n",
       "      <td>(256.165, 384.247]</td>\n",
       "      <td>0.666667</td>\n",
       "    </tr>\n",
       "    <tr>\n",
       "      <td>3</td>\n",
       "      <td>(384.247, 512.329]</td>\n",
       "      <td>1.000000</td>\n",
       "    </tr>\n",
       "  </tbody>\n",
       "</table>\n",
       "</div>"
      ],
      "text/plain": [
       "             FareBand  Survived\n",
       "0   (-0.512, 128.082]  0.368113\n",
       "1  (128.082, 256.165]  0.724138\n",
       "2  (256.165, 384.247]  0.666667\n",
       "3  (384.247, 512.329]  1.000000"
      ]
     },
     "execution_count": 1942,
     "metadata": {},
     "output_type": "execute_result"
    }
   ],
   "source": [
    "train[\"FareBand\"] = pd.cut(train[\"Fare\"], 4)\n",
    "train[[\"FareBand\", \"Survived\"]].groupby(['FareBand'], as_index=False).mean().sort_values(by='FareBand', ascending=True)"
   ]
  },
  {
   "cell_type": "code",
   "execution_count": 1943,
   "metadata": {},
   "outputs": [],
   "source": [
    "def setFare(val):\n",
    "    result = 0\n",
    "    if val < 128.082: result = 0\n",
    "    elif val < 256.165: result = 1\n",
    "    elif val < 384.247: result = 2\n",
    "    else: result = 3\n",
    "    return result"
   ]
  },
  {
   "cell_type": "code",
   "execution_count": 1944,
   "metadata": {},
   "outputs": [],
   "source": [
    "train[\"Fare\"] = train[\"Fare\"].apply(setFare)\n",
    "test[\"Fare\"] = test[\"Fare\"].apply(setFare)"
   ]
  },
  {
   "cell_type": "code",
   "execution_count": 1945,
   "metadata": {},
   "outputs": [
    {
     "data": {
      "text/plain": [
       "0    853\n",
       "1     29\n",
       "2      6\n",
       "3      3\n",
       "Name: Fare, dtype: int64"
      ]
     },
     "execution_count": 1945,
     "metadata": {},
     "output_type": "execute_result"
    }
   ],
   "source": [
    "train[\"Fare\"].value_counts()"
   ]
  },
  {
   "cell_type": "code",
   "execution_count": 1946,
   "metadata": {},
   "outputs": [
    {
     "data": {
      "text/plain": [
       "0    389\n",
       "1     21\n",
       "2      7\n",
       "3      1\n",
       "Name: Fare, dtype: int64"
      ]
     },
     "execution_count": 1946,
     "metadata": {},
     "output_type": "execute_result"
    }
   ],
   "source": [
    "test[\"Fare\"].value_counts()"
   ]
  },
  {
   "cell_type": "code",
   "execution_count": 1947,
   "metadata": {},
   "outputs": [],
   "source": [
    "def setAlone(val):\n",
    "    if val == 0 : return 1\n",
    "    else: return 0"
   ]
  },
  {
   "cell_type": "code",
   "execution_count": 1948,
   "metadata": {},
   "outputs": [],
   "source": [
    "train[\"IsAlone\"] = train[\"FamilySize\"].apply(setAlone)\n",
    "test[\"IsAlone\"] = test[\"FamilySize\"].apply(setAlone)"
   ]
  },
  {
   "cell_type": "code",
   "execution_count": 1949,
   "metadata": {},
   "outputs": [
    {
     "data": {
      "text/html": [
       "<div>\n",
       "<style scoped>\n",
       "    .dataframe tbody tr th:only-of-type {\n",
       "        vertical-align: middle;\n",
       "    }\n",
       "\n",
       "    .dataframe tbody tr th {\n",
       "        vertical-align: top;\n",
       "    }\n",
       "\n",
       "    .dataframe thead th {\n",
       "        text-align: right;\n",
       "    }\n",
       "</style>\n",
       "<table border=\"1\" class=\"dataframe\">\n",
       "  <thead>\n",
       "    <tr style=\"text-align: right;\">\n",
       "      <th></th>\n",
       "      <th>FamilyBand</th>\n",
       "      <th>Survived</th>\n",
       "    </tr>\n",
       "  </thead>\n",
       "  <tbody>\n",
       "    <tr>\n",
       "      <td>0</td>\n",
       "      <td>(-0.01, 2.5]</td>\n",
       "      <td>0.388750</td>\n",
       "    </tr>\n",
       "    <tr>\n",
       "      <td>1</td>\n",
       "      <td>(2.5, 5.0]</td>\n",
       "      <td>0.409091</td>\n",
       "    </tr>\n",
       "    <tr>\n",
       "      <td>2</td>\n",
       "      <td>(5.0, 7.5]</td>\n",
       "      <td>0.222222</td>\n",
       "    </tr>\n",
       "    <tr>\n",
       "      <td>3</td>\n",
       "      <td>(7.5, 10.0]</td>\n",
       "      <td>0.000000</td>\n",
       "    </tr>\n",
       "  </tbody>\n",
       "</table>\n",
       "</div>"
      ],
      "text/plain": [
       "     FamilyBand  Survived\n",
       "0  (-0.01, 2.5]  0.388750\n",
       "1    (2.5, 5.0]  0.409091\n",
       "2    (5.0, 7.5]  0.222222\n",
       "3   (7.5, 10.0]  0.000000"
      ]
     },
     "execution_count": 1949,
     "metadata": {},
     "output_type": "execute_result"
    }
   ],
   "source": [
    "train[\"FamilyBand\"] = pd.cut(train[\"FamilySize\"], 4)\n",
    "train[[\"FamilyBand\", \"Survived\"]].groupby(['FamilyBand'], as_index=False).mean().sort_values(by='FamilyBand', ascending=True)"
   ]
  },
  {
   "cell_type": "code",
   "execution_count": 1950,
   "metadata": {},
   "outputs": [],
   "source": [
    "def setFamilyBand(val):\n",
    "    result = 0\n",
    "    if val<2.5: result = 0\n",
    "    elif val<5.0: result = 1\n",
    "    elif val<7.5: result = 2\n",
    "    else: result = 3\n",
    "    return result"
   ]
  },
  {
   "cell_type": "code",
   "execution_count": 1951,
   "metadata": {},
   "outputs": [],
   "source": [
    "train[\"FamilySize\"] = train[\"FamilySize\"].apply(setFamilyBand)\n",
    "test[\"FamilySize\"] = test[\"FamilySize\"].apply(setFamilyBand)"
   ]
  },
  {
   "cell_type": "code",
   "execution_count": 1952,
   "metadata": {},
   "outputs": [
    {
     "data": {
      "text/html": [
       "<div>\n",
       "<style scoped>\n",
       "    .dataframe tbody tr th:only-of-type {\n",
       "        vertical-align: middle;\n",
       "    }\n",
       "\n",
       "    .dataframe tbody tr th {\n",
       "        vertical-align: top;\n",
       "    }\n",
       "\n",
       "    .dataframe thead th {\n",
       "        text-align: right;\n",
       "    }\n",
       "</style>\n",
       "<table border=\"1\" class=\"dataframe\">\n",
       "  <thead>\n",
       "    <tr style=\"text-align: right;\">\n",
       "      <th></th>\n",
       "      <th>PassengerId</th>\n",
       "      <th>Survived</th>\n",
       "      <th>Pclass</th>\n",
       "      <th>Sex</th>\n",
       "      <th>Age</th>\n",
       "      <th>Fare</th>\n",
       "      <th>Embarked</th>\n",
       "      <th>HasCabin</th>\n",
       "      <th>FamilySize</th>\n",
       "      <th>Title</th>\n",
       "      <th>IsAlone</th>\n",
       "    </tr>\n",
       "  </thead>\n",
       "  <tbody>\n",
       "    <tr>\n",
       "      <td>PassengerId</td>\n",
       "      <td>1.000000</td>\n",
       "      <td>-0.005007</td>\n",
       "      <td>-0.035144</td>\n",
       "      <td>0.042939</td>\n",
       "      <td>0.036847</td>\n",
       "      <td>-0.006345</td>\n",
       "      <td>-0.030467</td>\n",
       "      <td>0.019919</td>\n",
       "      <td>-0.027133</td>\n",
       "      <td>-0.029749</td>\n",
       "      <td>0.057462</td>\n",
       "    </tr>\n",
       "    <tr>\n",
       "      <td>Survived</td>\n",
       "      <td>-0.005007</td>\n",
       "      <td>1.000000</td>\n",
       "      <td>-0.338481</td>\n",
       "      <td>-0.543351</td>\n",
       "      <td>-0.077221</td>\n",
       "      <td>0.147466</td>\n",
       "      <td>0.106811</td>\n",
       "      <td>0.316912</td>\n",
       "      <td>-0.077962</td>\n",
       "      <td>0.504442</td>\n",
       "      <td>-0.203367</td>\n",
       "    </tr>\n",
       "    <tr>\n",
       "      <td>Pclass</td>\n",
       "      <td>-0.035144</td>\n",
       "      <td>-0.338481</td>\n",
       "      <td>1.000000</td>\n",
       "      <td>0.131900</td>\n",
       "      <td>-0.369226</td>\n",
       "      <td>-0.298580</td>\n",
       "      <td>0.045702</td>\n",
       "      <td>-0.725541</td>\n",
       "      <td>0.129124</td>\n",
       "      <td>-0.142629</td>\n",
       "      <td>0.135207</td>\n",
       "    </tr>\n",
       "    <tr>\n",
       "      <td>Sex</td>\n",
       "      <td>0.042939</td>\n",
       "      <td>-0.543351</td>\n",
       "      <td>0.131900</td>\n",
       "      <td>1.000000</td>\n",
       "      <td>0.093254</td>\n",
       "      <td>-0.114771</td>\n",
       "      <td>-0.116569</td>\n",
       "      <td>-0.140391</td>\n",
       "      <td>-0.111924</td>\n",
       "      <td>-0.902498</td>\n",
       "      <td>0.303646</td>\n",
       "    </tr>\n",
       "    <tr>\n",
       "      <td>Age</td>\n",
       "      <td>0.036847</td>\n",
       "      <td>-0.077221</td>\n",
       "      <td>-0.369226</td>\n",
       "      <td>0.093254</td>\n",
       "      <td>1.000000</td>\n",
       "      <td>0.036128</td>\n",
       "      <td>0.010171</td>\n",
       "      <td>0.249732</td>\n",
       "      <td>-0.274024</td>\n",
       "      <td>0.023614</td>\n",
       "      <td>0.198270</td>\n",
       "    </tr>\n",
       "    <tr>\n",
       "      <td>Fare</td>\n",
       "      <td>-0.006345</td>\n",
       "      <td>0.147466</td>\n",
       "      <td>-0.298580</td>\n",
       "      <td>-0.114771</td>\n",
       "      <td>0.036128</td>\n",
       "      <td>1.000000</td>\n",
       "      <td>0.047596</td>\n",
       "      <td>0.259115</td>\n",
       "      <td>0.108431</td>\n",
       "      <td>0.087740</td>\n",
       "      <td>-0.094555</td>\n",
       "    </tr>\n",
       "    <tr>\n",
       "      <td>Embarked</td>\n",
       "      <td>-0.030467</td>\n",
       "      <td>0.106811</td>\n",
       "      <td>0.045702</td>\n",
       "      <td>-0.116569</td>\n",
       "      <td>0.010171</td>\n",
       "      <td>0.047596</td>\n",
       "      <td>1.000000</td>\n",
       "      <td>0.013774</td>\n",
       "      <td>-0.079096</td>\n",
       "      <td>0.053073</td>\n",
       "      <td>0.017807</td>\n",
       "    </tr>\n",
       "    <tr>\n",
       "      <td>HasCabin</td>\n",
       "      <td>0.019919</td>\n",
       "      <td>0.316912</td>\n",
       "      <td>-0.725541</td>\n",
       "      <td>-0.140391</td>\n",
       "      <td>0.249732</td>\n",
       "      <td>0.259115</td>\n",
       "      <td>0.013774</td>\n",
       "      <td>1.000000</td>\n",
       "      <td>-0.072565</td>\n",
       "      <td>0.132380</td>\n",
       "      <td>-0.158029</td>\n",
       "    </tr>\n",
       "    <tr>\n",
       "      <td>FamilySize</td>\n",
       "      <td>-0.027133</td>\n",
       "      <td>-0.077962</td>\n",
       "      <td>0.129124</td>\n",
       "      <td>-0.111924</td>\n",
       "      <td>-0.274024</td>\n",
       "      <td>0.108431</td>\n",
       "      <td>-0.079096</td>\n",
       "      <td>-0.072565</td>\n",
       "      <td>1.000000</td>\n",
       "      <td>0.093462</td>\n",
       "      <td>-0.383488</td>\n",
       "    </tr>\n",
       "    <tr>\n",
       "      <td>Title</td>\n",
       "      <td>-0.029749</td>\n",
       "      <td>0.504442</td>\n",
       "      <td>-0.142629</td>\n",
       "      <td>-0.902498</td>\n",
       "      <td>0.023614</td>\n",
       "      <td>0.087740</td>\n",
       "      <td>0.053073</td>\n",
       "      <td>0.132380</td>\n",
       "      <td>0.093462</td>\n",
       "      <td>1.000000</td>\n",
       "      <td>-0.379074</td>\n",
       "    </tr>\n",
       "    <tr>\n",
       "      <td>IsAlone</td>\n",
       "      <td>0.057462</td>\n",
       "      <td>-0.203367</td>\n",
       "      <td>0.135207</td>\n",
       "      <td>0.303646</td>\n",
       "      <td>0.198270</td>\n",
       "      <td>-0.094555</td>\n",
       "      <td>0.017807</td>\n",
       "      <td>-0.158029</td>\n",
       "      <td>-0.383488</td>\n",
       "      <td>-0.379074</td>\n",
       "      <td>1.000000</td>\n",
       "    </tr>\n",
       "  </tbody>\n",
       "</table>\n",
       "</div>"
      ],
      "text/plain": [
       "             PassengerId  Survived    Pclass       Sex       Age      Fare  \\\n",
       "PassengerId     1.000000 -0.005007 -0.035144  0.042939  0.036847 -0.006345   \n",
       "Survived       -0.005007  1.000000 -0.338481 -0.543351 -0.077221  0.147466   \n",
       "Pclass         -0.035144 -0.338481  1.000000  0.131900 -0.369226 -0.298580   \n",
       "Sex             0.042939 -0.543351  0.131900  1.000000  0.093254 -0.114771   \n",
       "Age             0.036847 -0.077221 -0.369226  0.093254  1.000000  0.036128   \n",
       "Fare           -0.006345  0.147466 -0.298580 -0.114771  0.036128  1.000000   \n",
       "Embarked       -0.030467  0.106811  0.045702 -0.116569  0.010171  0.047596   \n",
       "HasCabin        0.019919  0.316912 -0.725541 -0.140391  0.249732  0.259115   \n",
       "FamilySize     -0.027133 -0.077962  0.129124 -0.111924 -0.274024  0.108431   \n",
       "Title          -0.029749  0.504442 -0.142629 -0.902498  0.023614  0.087740   \n",
       "IsAlone         0.057462 -0.203367  0.135207  0.303646  0.198270 -0.094555   \n",
       "\n",
       "             Embarked  HasCabin  FamilySize     Title   IsAlone  \n",
       "PassengerId -0.030467  0.019919   -0.027133 -0.029749  0.057462  \n",
       "Survived     0.106811  0.316912   -0.077962  0.504442 -0.203367  \n",
       "Pclass       0.045702 -0.725541    0.129124 -0.142629  0.135207  \n",
       "Sex         -0.116569 -0.140391   -0.111924 -0.902498  0.303646  \n",
       "Age          0.010171  0.249732   -0.274024  0.023614  0.198270  \n",
       "Fare         0.047596  0.259115    0.108431  0.087740 -0.094555  \n",
       "Embarked     1.000000  0.013774   -0.079096  0.053073  0.017807  \n",
       "HasCabin     0.013774  1.000000   -0.072565  0.132380 -0.158029  \n",
       "FamilySize  -0.079096 -0.072565    1.000000  0.093462 -0.383488  \n",
       "Title        0.053073  0.132380    0.093462  1.000000 -0.379074  \n",
       "IsAlone      0.017807 -0.158029   -0.383488 -0.379074  1.000000  "
      ]
     },
     "execution_count": 1952,
     "metadata": {},
     "output_type": "execute_result"
    }
   ],
   "source": [
    "train.corr()"
   ]
  },
  {
   "cell_type": "code",
   "execution_count": 1953,
   "metadata": {},
   "outputs": [],
   "source": [
    "train_age_yes = train[train[\"Age\"].notna()]\n",
    "train_age_no = train[train[\"Age\"].isna()]"
   ]
  },
  {
   "cell_type": "code",
   "execution_count": 1954,
   "metadata": {},
   "outputs": [
    {
     "data": {
      "text/html": [
       "<table class=\"simpletable\">\n",
       "<caption>OLS Regression Results</caption>\n",
       "<tr>\n",
       "  <th>Dep. Variable:</th>           <td>Age</td>       <th>  R-squared (uncentered):</th>      <td>   0.860</td> \n",
       "</tr>\n",
       "<tr>\n",
       "  <th>Model:</th>                   <td>OLS</td>       <th>  Adj. R-squared (uncentered):</th> <td>   0.859</td> \n",
       "</tr>\n",
       "<tr>\n",
       "  <th>Method:</th>             <td>Least Squares</td>  <th>  F-statistic:       </th>          <td>   543.6</td> \n",
       "</tr>\n",
       "<tr>\n",
       "  <th>Date:</th>             <td>Tue, 24 Mar 2020</td> <th>  Prob (F-statistic):</th>          <td>7.70e-296</td>\n",
       "</tr>\n",
       "<tr>\n",
       "  <th>Time:</th>                 <td>00:23:07</td>     <th>  Log-Likelihood:    </th>          <td> -2808.1</td> \n",
       "</tr>\n",
       "<tr>\n",
       "  <th>No. Observations:</th>      <td>   714</td>      <th>  AIC:               </th>          <td>   5632.</td> \n",
       "</tr>\n",
       "<tr>\n",
       "  <th>Df Residuals:</th>          <td>   706</td>      <th>  BIC:               </th>          <td>   5669.</td> \n",
       "</tr>\n",
       "<tr>\n",
       "  <th>Df Model:</th>              <td>     8</td>      <th>                     </th>              <td> </td>    \n",
       "</tr>\n",
       "<tr>\n",
       "  <th>Covariance Type:</th>      <td>nonrobust</td>    <th>                     </th>              <td> </td>    \n",
       "</tr>\n",
       "</table>\n",
       "<table class=\"simpletable\">\n",
       "<tr>\n",
       "       <td></td>         <th>coef</th>     <th>std err</th>      <th>t</th>      <th>P>|t|</th>  <th>[0.025</th>    <th>0.975]</th>  \n",
       "</tr>\n",
       "<tr>\n",
       "  <th>Pclass</th>     <td>   -3.5395</td> <td>    0.649</td> <td>   -5.453</td> <td> 0.000</td> <td>   -4.814</td> <td>   -2.265</td>\n",
       "</tr>\n",
       "<tr>\n",
       "  <th>Sex</th>        <td>   31.0040</td> <td>    1.641</td> <td>   18.891</td> <td> 0.000</td> <td>   27.782</td> <td>   34.226</td>\n",
       "</tr>\n",
       "<tr>\n",
       "  <th>Fare</th>       <td>    0.5983</td> <td>    1.543</td> <td>    0.388</td> <td> 0.698</td> <td>   -2.430</td> <td>    3.627</td>\n",
       "</tr>\n",
       "<tr>\n",
       "  <th>Embarked</th>   <td>    1.2640</td> <td>    0.900</td> <td>    1.404</td> <td> 0.161</td> <td>   -0.503</td> <td>    3.031</td>\n",
       "</tr>\n",
       "<tr>\n",
       "  <th>HasCabin</th>   <td>    5.7491</td> <td>    1.311</td> <td>    4.384</td> <td> 0.000</td> <td>    3.174</td> <td>    8.324</td>\n",
       "</tr>\n",
       "<tr>\n",
       "  <th>FamilySize</th> <td>   -2.6568</td> <td>    1.045</td> <td>   -2.543</td> <td> 0.011</td> <td>   -4.708</td> <td>   -0.606</td>\n",
       "</tr>\n",
       "<tr>\n",
       "  <th>Title</th>      <td>   20.4676</td> <td>    1.067</td> <td>   19.183</td> <td> 0.000</td> <td>   18.373</td> <td>   22.562</td>\n",
       "</tr>\n",
       "<tr>\n",
       "  <th>IsAlone</th>    <td>   10.1379</td> <td>    1.060</td> <td>    9.562</td> <td> 0.000</td> <td>    8.056</td> <td>   12.219</td>\n",
       "</tr>\n",
       "</table>\n",
       "<table class=\"simpletable\">\n",
       "<tr>\n",
       "  <th>Omnibus:</th>       <td>38.978</td> <th>  Durbin-Watson:     </th> <td>   1.916</td>\n",
       "</tr>\n",
       "<tr>\n",
       "  <th>Prob(Omnibus):</th> <td> 0.000</td> <th>  Jarque-Bera (JB):  </th> <td>  44.284</td>\n",
       "</tr>\n",
       "<tr>\n",
       "  <th>Skew:</th>          <td> 0.569</td> <th>  Prob(JB):          </th> <td>2.42e-10</td>\n",
       "</tr>\n",
       "<tr>\n",
       "  <th>Kurtosis:</th>      <td> 3.439</td> <th>  Cond. No.          </th> <td>    12.0</td>\n",
       "</tr>\n",
       "</table><br/><br/>Warnings:<br/>[1] Standard Errors assume that the covariance matrix of the errors is correctly specified."
      ],
      "text/plain": [
       "<class 'statsmodels.iolib.summary.Summary'>\n",
       "\"\"\"\n",
       "                                 OLS Regression Results                                \n",
       "=======================================================================================\n",
       "Dep. Variable:                    Age   R-squared (uncentered):                   0.860\n",
       "Model:                            OLS   Adj. R-squared (uncentered):              0.859\n",
       "Method:                 Least Squares   F-statistic:                              543.6\n",
       "Date:                Tue, 24 Mar 2020   Prob (F-statistic):                   7.70e-296\n",
       "Time:                        00:23:07   Log-Likelihood:                         -2808.1\n",
       "No. Observations:                 714   AIC:                                      5632.\n",
       "Df Residuals:                     706   BIC:                                      5669.\n",
       "Df Model:                           8                                                  \n",
       "Covariance Type:            nonrobust                                                  \n",
       "==============================================================================\n",
       "                 coef    std err          t      P>|t|      [0.025      0.975]\n",
       "------------------------------------------------------------------------------\n",
       "Pclass        -3.5395      0.649     -5.453      0.000      -4.814      -2.265\n",
       "Sex           31.0040      1.641     18.891      0.000      27.782      34.226\n",
       "Fare           0.5983      1.543      0.388      0.698      -2.430       3.627\n",
       "Embarked       1.2640      0.900      1.404      0.161      -0.503       3.031\n",
       "HasCabin       5.7491      1.311      4.384      0.000       3.174       8.324\n",
       "FamilySize    -2.6568      1.045     -2.543      0.011      -4.708      -0.606\n",
       "Title         20.4676      1.067     19.183      0.000      18.373      22.562\n",
       "IsAlone       10.1379      1.060      9.562      0.000       8.056      12.219\n",
       "==============================================================================\n",
       "Omnibus:                       38.978   Durbin-Watson:                   1.916\n",
       "Prob(Omnibus):                  0.000   Jarque-Bera (JB):               44.284\n",
       "Skew:                           0.569   Prob(JB):                     2.42e-10\n",
       "Kurtosis:                       3.439   Cond. No.                         12.0\n",
       "==============================================================================\n",
       "\n",
       "Warnings:\n",
       "[1] Standard Errors assume that the covariance matrix of the errors is correctly specified.\n",
       "\"\"\""
      ]
     },
     "metadata": {},
     "output_type": "display_data"
    },
    {
     "data": {
      "text/plain": [
       "Pclass        6.849652e-08\n",
       "Sex           9.887017e-65\n",
       "Fare          6.982216e-01\n",
       "Embarked      1.606130e-01\n",
       "HasCabin      1.342559e-05\n",
       "FamilySize    1.118902e-02\n",
       "Title         2.482512e-66\n",
       "IsAlone       1.880502e-20\n",
       "Name: P>|t|, dtype: float64"
      ]
     },
     "metadata": {},
     "output_type": "display_data"
    }
   ],
   "source": [
    "import statsmodels.api as sm\n",
    "x_table = train_age_yes.drop(columns=[\"PassengerId\", \"Survived\", \"FareBand\", \"FamilyBand\", \"Age\"], axis=1)\n",
    "y_table = train_age_yes[\"Age\"]\n",
    "mod = sm.OLS(y_table,x_table)\n",
    "fii = mod.fit()\n",
    "\n",
    "display(fii.summary())\n",
    "p_values = fii.summary2().tables[1]['P>|t|']\n",
    "display(p_values)"
   ]
  },
  {
   "cell_type": "code",
   "execution_count": 1955,
   "metadata": {},
   "outputs": [],
   "source": [
    "x = train_age_yes[[\"Pclass\", \"Title\"]]\n",
    "y = train_age_yes[\"Age\"]"
   ]
  },
  {
   "cell_type": "code",
   "execution_count": 1956,
   "metadata": {},
   "outputs": [],
   "source": [
    "from sklearn.linear_model import LinearRegression\n",
    "from sklearn.model_selection import KFold\n",
    "from sklearn.model_selection import cross_val_score\n",
    "from sklearn.metrics import mean_squared_error, make_scorer\n",
    "score = make_scorer(mean_squared_error)\n",
    "k_fold = KFold(n_splits=400, shuffle=True, random_state=42)"
   ]
  },
  {
   "cell_type": "code",
   "execution_count": 1957,
   "metadata": {},
   "outputs": [
    {
     "name": "stdout",
     "output_type": "stream",
     "text": [
      "[21.50537256 10.00106687 20.94381434 18.13494483  2.706367   14.18719955\n",
      " 10.44192411  6.28738694 15.25371885 12.66290607 15.18712501 11.1765035\n",
      "  6.12169311  6.45270358 11.56927653 11.26716534  7.19503552 12.11427684\n",
      " 12.9293316  24.62455324 11.95802162 15.93759046 10.00327208  3.56395517\n",
      "  7.26778631  4.97267465  8.09514471 18.97148674 17.18505522 21.60899298\n",
      " 14.62454174 11.89343161 10.91412503 17.38086831  5.51439655 18.86670931\n",
      "  7.3734207  14.57248787 10.20493209 19.6827506  10.76341776 12.26697874\n",
      "  3.17261218 15.47814516  8.62019125  4.99826395 13.7929156   2.81703896\n",
      " 11.52253711 10.84156054  8.82838047 15.62017597 19.16855204  3.85713459\n",
      " 15.08276483  3.5441666  15.12135891  6.9175167   8.89837377 13.04819602\n",
      " 17.27888673  3.58526197  8.47249144 10.2928727   5.82081724  2.08924712\n",
      "  2.67711815 16.50699209  5.67962613 20.18052835  9.96424155 14.02579945\n",
      "  3.57510437  7.27920238  2.59093222  8.98205758  5.30793849  6.74110367\n",
      "  5.59604483 19.31065257  2.21470477  2.38362824  9.33425422  5.05108593\n",
      " 12.89975878 16.36900707  6.47038092 24.89280488 14.93435915  4.02206616\n",
      " 14.92656366 15.56910533  2.42476149  8.2457099  12.80188255 16.66977886\n",
      "  7.54197269  5.68979427  7.26806363 16.52253665  4.5024193  17.61851811\n",
      "  3.08173487  5.72719931 20.84001082 23.46901409 20.4884966  13.11739752\n",
      " 18.54178864 24.1179363   2.8446615   7.3734207  11.85695609 12.42929399\n",
      " 21.47472338 15.31975899  7.00608121 15.84397301 15.21567001 14.02038872\n",
      " 12.21310644 21.21522128  6.5503581  18.14783491  9.11462664  0.74721676\n",
      " 16.02015322 19.81049774  5.84693182 14.87353912 20.79637191 16.21056306\n",
      "  4.23212785 17.20817253 10.57224535 11.78732268 16.19168146 15.44348877\n",
      " 11.58340725  3.25461511 14.05055416 14.50692009 10.09933577  9.34720901\n",
      "  2.55130926  6.02521208 18.40152138  4.96464025  9.87451343  5.55391235\n",
      " 10.58024558 12.00915498  6.01821446  8.8323591  10.07850053  1.08465333\n",
      "  5.36945447 20.03500993  8.62351167  5.06333719  6.36039963 19.04070724\n",
      " 11.27148942 14.06768733 19.6268028  13.8815451  17.61757416 14.04100641\n",
      "  1.68032069 10.25268623 10.26360095  8.12049033  4.84750317 23.86910701\n",
      " 29.56141456 27.42209919 15.07755313 11.43509079 11.93284174 21.09448001\n",
      "  3.32900293  5.00132273  8.03621632  4.53189626 12.03588906 21.33290492\n",
      "  5.56585318 10.8975882  15.48637701 14.61313754 15.86040932 15.94443526\n",
      "  7.85786428  0.71809725 18.95979845 11.92585703  2.74023109  8.01078951\n",
      "  5.19259338 16.95284652  1.35991895  9.39395636  1.38236526  7.16200533\n",
      " 16.48884481 29.20641498 10.56483211  8.92146678  6.31118383 12.02177158\n",
      " 17.79468609  7.44204166  8.05581205  1.82062202 19.87351319 11.26980273\n",
      " 17.23858954  4.97044736 10.35178341 10.85208245 17.80782358 11.02648271\n",
      " 11.70896283  2.9618681  16.97577734  6.38781664  4.48204861 20.82328113\n",
      " 10.88824471 23.46784797  9.70004268 11.85645085  1.21496929  5.58291311\n",
      "  9.46520153 10.99907599 19.51531867 13.31806027 11.90063731  6.23769162\n",
      " 14.09637774 22.84876109 10.0065727   9.22731689 25.52699745  8.84890844\n",
      "  9.38955998 22.05573776 15.04191424  9.74428582  8.29334591  9.35194719\n",
      "  6.4559903   4.12991539 18.49104264 26.06388742 10.62525801 17.2588144\n",
      " 13.95550273 21.79056409  3.72252891 34.97693108 17.77725496 13.80119407\n",
      "  4.86887751  6.17733394  5.71552994 15.79856341 13.97216019 12.45339914\n",
      "  6.0166317   9.24413351 17.65872684 17.06693543 11.79439566  8.62992703\n",
      " 12.92437778 17.33933809  6.64540631 12.78731325  2.37998282 19.40108492\n",
      " 10.28439876 19.00959664 12.93784871  4.76967501 13.06726858  6.72350376\n",
      "  4.76398019  8.82021413  8.1466148  22.81204963 13.32294728 27.53935232\n",
      "  2.33781488  7.82209284 12.60473179  2.21470477  7.2624172  16.50520703\n",
      " 12.72873915  3.48819164  5.52507629 15.08807223 12.42429413  3.7769847\n",
      " 10.73722049 13.80268156 37.75140889 16.87677247 15.55870761 15.01542829\n",
      " 20.0811499  24.22585589  4.0666274   2.4784347  27.53503731 21.36147624\n",
      "  0.94841036  4.0666274  13.07303976 11.49881164 22.52371679  6.0726425\n",
      " 18.50390348  9.05053338 22.52371679 20.50705762 19.00470732 21.51820676\n",
      "  3.01677382  1.36922971 10.05637189  4.96044057  1.17838446  7.07565005\n",
      " 14.74439379  7.96946322 17.27043615  5.48965789 22.54875964 15.48960021\n",
      "  9.08166515 27.15202398 45.58224641  4.15095825 14.07866635 11.72308938\n",
      " 13.28823953 10.50704076 14.48483245  2.06061229  1.84907931 29.59401664\n",
      "  8.50008761  3.53514992  3.86738849  6.95775106 10.26077576  0.52835761\n",
      " 37.28852813  3.95743302  4.02261233  7.54420634 19.00254629 10.05637189\n",
      "  0.05459719  6.40473705  7.48975522  1.53467812 16.5279002   4.0666274\n",
      "  5.95567978  8.97247078  6.54194224 22.99089154 39.47262951  6.96645567\n",
      "  5.06963495  6.96645567 13.55779097 30.59628074  0.94841036  8.96851965\n",
      " 13.09369536 12.98450098  3.06361984  6.96645567  4.0666274   9.08166515\n",
      "  3.06361984 19.51692448  1.05760474 10.05615998  9.50356418  8.04511871\n",
      "  6.54194224  3.6009872   7.96946322  7.96946322]\n",
      "LinearRegression:  12.0000\n"
     ]
    }
   ],
   "source": [
    "lr = LinearRegression()\n",
    "lr.fit(x, y)\n",
    "scoring = \"mean_squared_error\"\n",
    "score = cross_val_score(lr, x, y, cv=k_fold, n_jobs=1, scoring=score)\n",
    "print(np.sqrt(score))\n",
    "print(\"LinearRegression: {0: .4f}\".format(round(np.mean(np.sqrt(score)))))"
   ]
  },
  {
   "cell_type": "code",
   "execution_count": 1958,
   "metadata": {},
   "outputs": [
    {
     "data": {
      "text/html": [
       "<div>\n",
       "<style scoped>\n",
       "    .dataframe tbody tr th:only-of-type {\n",
       "        vertical-align: middle;\n",
       "    }\n",
       "\n",
       "    .dataframe tbody tr th {\n",
       "        vertical-align: top;\n",
       "    }\n",
       "\n",
       "    .dataframe thead th {\n",
       "        text-align: right;\n",
       "    }\n",
       "</style>\n",
       "<table border=\"1\" class=\"dataframe\">\n",
       "  <thead>\n",
       "    <tr style=\"text-align: right;\">\n",
       "      <th></th>\n",
       "      <th>PassengerId</th>\n",
       "      <th>Survived</th>\n",
       "      <th>Pclass</th>\n",
       "      <th>Sex</th>\n",
       "      <th>Age</th>\n",
       "      <th>Fare</th>\n",
       "      <th>Embarked</th>\n",
       "      <th>HasCabin</th>\n",
       "      <th>FamilySize</th>\n",
       "      <th>Title</th>\n",
       "      <th>FareBand</th>\n",
       "      <th>IsAlone</th>\n",
       "      <th>FamilyBand</th>\n",
       "    </tr>\n",
       "  </thead>\n",
       "  <tbody>\n",
       "    <tr>\n",
       "      <td>0</td>\n",
       "      <td>1</td>\n",
       "      <td>0</td>\n",
       "      <td>3</td>\n",
       "      <td>1</td>\n",
       "      <td>22.0</td>\n",
       "      <td>0</td>\n",
       "      <td>0</td>\n",
       "      <td>0</td>\n",
       "      <td>0</td>\n",
       "      <td>0</td>\n",
       "      <td>(-0.512, 128.082]</td>\n",
       "      <td>0</td>\n",
       "      <td>(-0.01, 2.5]</td>\n",
       "    </tr>\n",
       "  </tbody>\n",
       "</table>\n",
       "</div>"
      ],
      "text/plain": [
       "   PassengerId  Survived  Pclass  Sex   Age  Fare  Embarked  HasCabin  \\\n",
       "0            1         0       3    1  22.0     0         0         0   \n",
       "\n",
       "   FamilySize  Title           FareBand  IsAlone    FamilyBand  \n",
       "0           0      0  (-0.512, 128.082]        0  (-0.01, 2.5]  "
      ]
     },
     "execution_count": 1958,
     "metadata": {},
     "output_type": "execute_result"
    }
   ],
   "source": [
    "train_age_yes.head(1)"
   ]
  },
  {
   "cell_type": "code",
   "execution_count": 1959,
   "metadata": {},
   "outputs": [
    {
     "name": "stderr",
     "output_type": "stream",
     "text": [
      "/Users/skyepodium/opt/anaconda3/lib/python3.7/site-packages/ipykernel_launcher.py:2: SettingWithCopyWarning: \n",
      "A value is trying to be set on a copy of a slice from a DataFrame.\n",
      "Try using .loc[row_indexer,col_indexer] = value instead\n",
      "\n",
      "See the caveats in the documentation: http://pandas.pydata.org/pandas-docs/stable/user_guide/indexing.html#returning-a-view-versus-a-copy\n",
      "  \n"
     ]
    }
   ],
   "source": [
    "y_predict = lr.predict(train_age_no[[\"Pclass\", \"Title\"]])\n",
    "train_age_no[\"Age\"] = y_predict\n",
    "train = pd.concat([train_age_yes, train_age_no])"
   ]
  },
  {
   "cell_type": "code",
   "execution_count": 1960,
   "metadata": {},
   "outputs": [],
   "source": [
    "test_age_yes = test[test[\"Age\"].notna()]\n",
    "test_age_no = test[test[\"Age\"].isna()]"
   ]
  },
  {
   "cell_type": "code",
   "execution_count": 1961,
   "metadata": {},
   "outputs": [
    {
     "name": "stderr",
     "output_type": "stream",
     "text": [
      "/Users/skyepodium/opt/anaconda3/lib/python3.7/site-packages/ipykernel_launcher.py:3: SettingWithCopyWarning: \n",
      "A value is trying to be set on a copy of a slice from a DataFrame.\n",
      "Try using .loc[row_indexer,col_indexer] = value instead\n",
      "\n",
      "See the caveats in the documentation: http://pandas.pydata.org/pandas-docs/stable/user_guide/indexing.html#returning-a-view-versus-a-copy\n",
      "  This is separate from the ipykernel package so we can avoid doing imports until\n"
     ]
    }
   ],
   "source": [
    "x_test = test_age_no[[\"Pclass\", \"Title\"]]\n",
    "y_predict = lr.predict(x_test)\n",
    "test_age_no[\"Age\"] = y_predict\n",
    "test = pd.concat([test_age_yes, test_age_no])"
   ]
  },
  {
   "cell_type": "code",
   "execution_count": 1962,
   "metadata": {},
   "outputs": [
    {
     "data": {
      "text/plain": [
       "0      34\n",
       "1      47\n",
       "2      62\n",
       "3      27\n",
       "4      22\n",
       "       ..\n",
       "408    24\n",
       "410    24\n",
       "413    25\n",
       "416    25\n",
       "417    25\n",
       "Name: Age, Length: 418, dtype: int64"
      ]
     },
     "execution_count": 1962,
     "metadata": {},
     "output_type": "execute_result"
    }
   ],
   "source": [
    "train[\"Age\"].astype(\"int\")\n",
    "test[\"Age\"].astype(\"int\")"
   ]
  },
  {
   "cell_type": "code",
   "execution_count": 1963,
   "metadata": {},
   "outputs": [
    {
     "data": {
      "text/html": [
       "<div>\n",
       "<style scoped>\n",
       "    .dataframe tbody tr th:only-of-type {\n",
       "        vertical-align: middle;\n",
       "    }\n",
       "\n",
       "    .dataframe tbody tr th {\n",
       "        vertical-align: top;\n",
       "    }\n",
       "\n",
       "    .dataframe thead th {\n",
       "        text-align: right;\n",
       "    }\n",
       "</style>\n",
       "<table border=\"1\" class=\"dataframe\">\n",
       "  <thead>\n",
       "    <tr style=\"text-align: right;\">\n",
       "      <th></th>\n",
       "      <th>AgeBand</th>\n",
       "      <th>Survived</th>\n",
       "    </tr>\n",
       "  </thead>\n",
       "  <tbody>\n",
       "    <tr>\n",
       "      <td>0</td>\n",
       "      <td>(0.34, 20.315]</td>\n",
       "      <td>0.458101</td>\n",
       "    </tr>\n",
       "    <tr>\n",
       "      <td>1</td>\n",
       "      <td>(20.315, 40.21]</td>\n",
       "      <td>0.364769</td>\n",
       "    </tr>\n",
       "    <tr>\n",
       "      <td>2</td>\n",
       "      <td>(40.21, 60.105]</td>\n",
       "      <td>0.390625</td>\n",
       "    </tr>\n",
       "    <tr>\n",
       "      <td>3</td>\n",
       "      <td>(60.105, 80.0]</td>\n",
       "      <td>0.227273</td>\n",
       "    </tr>\n",
       "  </tbody>\n",
       "</table>\n",
       "</div>"
      ],
      "text/plain": [
       "           AgeBand  Survived\n",
       "0   (0.34, 20.315]  0.458101\n",
       "1  (20.315, 40.21]  0.364769\n",
       "2  (40.21, 60.105]  0.390625\n",
       "3   (60.105, 80.0]  0.227273"
      ]
     },
     "execution_count": 1963,
     "metadata": {},
     "output_type": "execute_result"
    }
   ],
   "source": [
    "train[\"AgeBand\"] = pd.cut(train[\"Age\"], 4)\n",
    "train[[\"AgeBand\", \"Survived\"]].groupby(['AgeBand'], as_index=False).mean().sort_values(by='AgeBand', ascending=True)"
   ]
  },
  {
   "cell_type": "code",
   "execution_count": 1964,
   "metadata": {},
   "outputs": [],
   "source": [
    "def setAge(val):\n",
    "    if val < 16.336: result = 0\n",
    "    elif val < 32.252: result = 1\n",
    "    elif val < 48.168: result = 2\n",
    "    elif val <  64.084: result = 3\n",
    "    else: result = 4\n",
    "    return result"
   ]
  },
  {
   "cell_type": "code",
   "execution_count": 1965,
   "metadata": {},
   "outputs": [],
   "source": [
    "train[\"Age\"] = train[\"Age\"].apply(setAge)\n",
    "test[\"Age\"] = test[\"Age\"].apply(setAge)"
   ]
  },
  {
   "cell_type": "code",
   "execution_count": 1966,
   "metadata": {},
   "outputs": [],
   "source": [
    "# train[\"ClassAge\"] = train[\"Age\"] * train[\"Pclass\"]\n",
    "# test[\"ClassAge\"] = test[\"Age\"] * test[\"Pclass\"]"
   ]
  },
  {
   "cell_type": "code",
   "execution_count": 1967,
   "metadata": {},
   "outputs": [
    {
     "data": {
      "text/html": [
       "<div>\n",
       "<style scoped>\n",
       "    .dataframe tbody tr th:only-of-type {\n",
       "        vertical-align: middle;\n",
       "    }\n",
       "\n",
       "    .dataframe tbody tr th {\n",
       "        vertical-align: top;\n",
       "    }\n",
       "\n",
       "    .dataframe thead th {\n",
       "        text-align: right;\n",
       "    }\n",
       "</style>\n",
       "<table border=\"1\" class=\"dataframe\">\n",
       "  <thead>\n",
       "    <tr style=\"text-align: right;\">\n",
       "      <th></th>\n",
       "      <th>PassengerId</th>\n",
       "      <th>Survived</th>\n",
       "      <th>Pclass</th>\n",
       "      <th>Sex</th>\n",
       "      <th>Age</th>\n",
       "      <th>Fare</th>\n",
       "      <th>Embarked</th>\n",
       "      <th>HasCabin</th>\n",
       "      <th>FamilySize</th>\n",
       "      <th>Title</th>\n",
       "      <th>IsAlone</th>\n",
       "    </tr>\n",
       "  </thead>\n",
       "  <tbody>\n",
       "    <tr>\n",
       "      <td>PassengerId</td>\n",
       "      <td>1.000000</td>\n",
       "      <td>-0.005007</td>\n",
       "      <td>-0.035144</td>\n",
       "      <td>0.042939</td>\n",
       "      <td>0.022969</td>\n",
       "      <td>-0.006345</td>\n",
       "      <td>-0.030467</td>\n",
       "      <td>0.019919</td>\n",
       "      <td>-0.027133</td>\n",
       "      <td>-0.029749</td>\n",
       "      <td>0.057462</td>\n",
       "    </tr>\n",
       "    <tr>\n",
       "      <td>Survived</td>\n",
       "      <td>-0.005007</td>\n",
       "      <td>1.000000</td>\n",
       "      <td>-0.338481</td>\n",
       "      <td>-0.543351</td>\n",
       "      <td>-0.036384</td>\n",
       "      <td>0.147466</td>\n",
       "      <td>0.106811</td>\n",
       "      <td>0.316912</td>\n",
       "      <td>-0.077962</td>\n",
       "      <td>0.504442</td>\n",
       "      <td>-0.203367</td>\n",
       "    </tr>\n",
       "    <tr>\n",
       "      <td>Pclass</td>\n",
       "      <td>-0.035144</td>\n",
       "      <td>-0.338481</td>\n",
       "      <td>1.000000</td>\n",
       "      <td>0.131900</td>\n",
       "      <td>-0.419593</td>\n",
       "      <td>-0.298580</td>\n",
       "      <td>0.045702</td>\n",
       "      <td>-0.725541</td>\n",
       "      <td>0.129124</td>\n",
       "      <td>-0.142629</td>\n",
       "      <td>0.135207</td>\n",
       "    </tr>\n",
       "    <tr>\n",
       "      <td>Sex</td>\n",
       "      <td>0.042939</td>\n",
       "      <td>-0.543351</td>\n",
       "      <td>0.131900</td>\n",
       "      <td>1.000000</td>\n",
       "      <td>0.074045</td>\n",
       "      <td>-0.114771</td>\n",
       "      <td>-0.116569</td>\n",
       "      <td>-0.140391</td>\n",
       "      <td>-0.111924</td>\n",
       "      <td>-0.902498</td>\n",
       "      <td>0.303646</td>\n",
       "    </tr>\n",
       "    <tr>\n",
       "      <td>Age</td>\n",
       "      <td>0.022969</td>\n",
       "      <td>-0.036384</td>\n",
       "      <td>-0.419593</td>\n",
       "      <td>0.074045</td>\n",
       "      <td>1.000000</td>\n",
       "      <td>0.073379</td>\n",
       "      <td>-0.050496</td>\n",
       "      <td>0.289338</td>\n",
       "      <td>-0.227879</td>\n",
       "      <td>0.031718</td>\n",
       "      <td>0.136538</td>\n",
       "    </tr>\n",
       "    <tr>\n",
       "      <td>Fare</td>\n",
       "      <td>-0.006345</td>\n",
       "      <td>0.147466</td>\n",
       "      <td>-0.298580</td>\n",
       "      <td>-0.114771</td>\n",
       "      <td>0.073379</td>\n",
       "      <td>1.000000</td>\n",
       "      <td>0.047596</td>\n",
       "      <td>0.259115</td>\n",
       "      <td>0.108431</td>\n",
       "      <td>0.087740</td>\n",
       "      <td>-0.094555</td>\n",
       "    </tr>\n",
       "    <tr>\n",
       "      <td>Embarked</td>\n",
       "      <td>-0.030467</td>\n",
       "      <td>0.106811</td>\n",
       "      <td>0.045702</td>\n",
       "      <td>-0.116569</td>\n",
       "      <td>-0.050496</td>\n",
       "      <td>0.047596</td>\n",
       "      <td>1.000000</td>\n",
       "      <td>0.013774</td>\n",
       "      <td>-0.079096</td>\n",
       "      <td>0.053073</td>\n",
       "      <td>0.017807</td>\n",
       "    </tr>\n",
       "    <tr>\n",
       "      <td>HasCabin</td>\n",
       "      <td>0.019919</td>\n",
       "      <td>0.316912</td>\n",
       "      <td>-0.725541</td>\n",
       "      <td>-0.140391</td>\n",
       "      <td>0.289338</td>\n",
       "      <td>0.259115</td>\n",
       "      <td>0.013774</td>\n",
       "      <td>1.000000</td>\n",
       "      <td>-0.072565</td>\n",
       "      <td>0.132380</td>\n",
       "      <td>-0.158029</td>\n",
       "    </tr>\n",
       "    <tr>\n",
       "      <td>FamilySize</td>\n",
       "      <td>-0.027133</td>\n",
       "      <td>-0.077962</td>\n",
       "      <td>0.129124</td>\n",
       "      <td>-0.111924</td>\n",
       "      <td>-0.227879</td>\n",
       "      <td>0.108431</td>\n",
       "      <td>-0.079096</td>\n",
       "      <td>-0.072565</td>\n",
       "      <td>1.000000</td>\n",
       "      <td>0.093462</td>\n",
       "      <td>-0.383488</td>\n",
       "    </tr>\n",
       "    <tr>\n",
       "      <td>Title</td>\n",
       "      <td>-0.029749</td>\n",
       "      <td>0.504442</td>\n",
       "      <td>-0.142629</td>\n",
       "      <td>-0.902498</td>\n",
       "      <td>0.031718</td>\n",
       "      <td>0.087740</td>\n",
       "      <td>0.053073</td>\n",
       "      <td>0.132380</td>\n",
       "      <td>0.093462</td>\n",
       "      <td>1.000000</td>\n",
       "      <td>-0.379074</td>\n",
       "    </tr>\n",
       "    <tr>\n",
       "      <td>IsAlone</td>\n",
       "      <td>0.057462</td>\n",
       "      <td>-0.203367</td>\n",
       "      <td>0.135207</td>\n",
       "      <td>0.303646</td>\n",
       "      <td>0.136538</td>\n",
       "      <td>-0.094555</td>\n",
       "      <td>0.017807</td>\n",
       "      <td>-0.158029</td>\n",
       "      <td>-0.383488</td>\n",
       "      <td>-0.379074</td>\n",
       "      <td>1.000000</td>\n",
       "    </tr>\n",
       "  </tbody>\n",
       "</table>\n",
       "</div>"
      ],
      "text/plain": [
       "             PassengerId  Survived    Pclass       Sex       Age      Fare  \\\n",
       "PassengerId     1.000000 -0.005007 -0.035144  0.042939  0.022969 -0.006345   \n",
       "Survived       -0.005007  1.000000 -0.338481 -0.543351 -0.036384  0.147466   \n",
       "Pclass         -0.035144 -0.338481  1.000000  0.131900 -0.419593 -0.298580   \n",
       "Sex             0.042939 -0.543351  0.131900  1.000000  0.074045 -0.114771   \n",
       "Age             0.022969 -0.036384 -0.419593  0.074045  1.000000  0.073379   \n",
       "Fare           -0.006345  0.147466 -0.298580 -0.114771  0.073379  1.000000   \n",
       "Embarked       -0.030467  0.106811  0.045702 -0.116569 -0.050496  0.047596   \n",
       "HasCabin        0.019919  0.316912 -0.725541 -0.140391  0.289338  0.259115   \n",
       "FamilySize     -0.027133 -0.077962  0.129124 -0.111924 -0.227879  0.108431   \n",
       "Title          -0.029749  0.504442 -0.142629 -0.902498  0.031718  0.087740   \n",
       "IsAlone         0.057462 -0.203367  0.135207  0.303646  0.136538 -0.094555   \n",
       "\n",
       "             Embarked  HasCabin  FamilySize     Title   IsAlone  \n",
       "PassengerId -0.030467  0.019919   -0.027133 -0.029749  0.057462  \n",
       "Survived     0.106811  0.316912   -0.077962  0.504442 -0.203367  \n",
       "Pclass       0.045702 -0.725541    0.129124 -0.142629  0.135207  \n",
       "Sex         -0.116569 -0.140391   -0.111924 -0.902498  0.303646  \n",
       "Age         -0.050496  0.289338   -0.227879  0.031718  0.136538  \n",
       "Fare         0.047596  0.259115    0.108431  0.087740 -0.094555  \n",
       "Embarked     1.000000  0.013774   -0.079096  0.053073  0.017807  \n",
       "HasCabin     0.013774  1.000000   -0.072565  0.132380 -0.158029  \n",
       "FamilySize  -0.079096 -0.072565    1.000000  0.093462 -0.383488  \n",
       "Title        0.053073  0.132380    0.093462  1.000000 -0.379074  \n",
       "IsAlone      0.017807 -0.158029   -0.383488 -0.379074  1.000000  "
      ]
     },
     "execution_count": 1967,
     "metadata": {},
     "output_type": "execute_result"
    }
   ],
   "source": [
    "train.corr()"
   ]
  },
  {
   "cell_type": "code",
   "execution_count": 1968,
   "metadata": {},
   "outputs": [
    {
     "data": {
      "text/html": [
       "<div>\n",
       "<style scoped>\n",
       "    .dataframe tbody tr th:only-of-type {\n",
       "        vertical-align: middle;\n",
       "    }\n",
       "\n",
       "    .dataframe tbody tr th {\n",
       "        vertical-align: top;\n",
       "    }\n",
       "\n",
       "    .dataframe thead th {\n",
       "        text-align: right;\n",
       "    }\n",
       "</style>\n",
       "<table border=\"1\" class=\"dataframe\">\n",
       "  <thead>\n",
       "    <tr style=\"text-align: right;\">\n",
       "      <th></th>\n",
       "      <th>PassengerId</th>\n",
       "      <th>Survived</th>\n",
       "      <th>Pclass</th>\n",
       "      <th>Sex</th>\n",
       "      <th>Age</th>\n",
       "      <th>Fare</th>\n",
       "      <th>Embarked</th>\n",
       "      <th>HasCabin</th>\n",
       "      <th>FamilySize</th>\n",
       "      <th>Title</th>\n",
       "      <th>FareBand</th>\n",
       "      <th>IsAlone</th>\n",
       "      <th>FamilyBand</th>\n",
       "      <th>AgeBand</th>\n",
       "    </tr>\n",
       "  </thead>\n",
       "  <tbody>\n",
       "    <tr>\n",
       "      <td>0</td>\n",
       "      <td>1</td>\n",
       "      <td>0</td>\n",
       "      <td>3</td>\n",
       "      <td>1</td>\n",
       "      <td>1</td>\n",
       "      <td>0</td>\n",
       "      <td>0</td>\n",
       "      <td>0</td>\n",
       "      <td>0</td>\n",
       "      <td>0</td>\n",
       "      <td>(-0.512, 128.082]</td>\n",
       "      <td>0</td>\n",
       "      <td>(-0.01, 2.5]</td>\n",
       "      <td>(20.315, 40.21]</td>\n",
       "    </tr>\n",
       "    <tr>\n",
       "      <td>1</td>\n",
       "      <td>2</td>\n",
       "      <td>1</td>\n",
       "      <td>1</td>\n",
       "      <td>0</td>\n",
       "      <td>2</td>\n",
       "      <td>0</td>\n",
       "      <td>1</td>\n",
       "      <td>1</td>\n",
       "      <td>0</td>\n",
       "      <td>2</td>\n",
       "      <td>(-0.512, 128.082]</td>\n",
       "      <td>0</td>\n",
       "      <td>(-0.01, 2.5]</td>\n",
       "      <td>(20.315, 40.21]</td>\n",
       "    </tr>\n",
       "    <tr>\n",
       "      <td>2</td>\n",
       "      <td>3</td>\n",
       "      <td>1</td>\n",
       "      <td>3</td>\n",
       "      <td>0</td>\n",
       "      <td>1</td>\n",
       "      <td>0</td>\n",
       "      <td>0</td>\n",
       "      <td>0</td>\n",
       "      <td>0</td>\n",
       "      <td>1</td>\n",
       "      <td>(-0.512, 128.082]</td>\n",
       "      <td>1</td>\n",
       "      <td>(-0.01, 2.5]</td>\n",
       "      <td>(20.315, 40.21]</td>\n",
       "    </tr>\n",
       "    <tr>\n",
       "      <td>3</td>\n",
       "      <td>4</td>\n",
       "      <td>1</td>\n",
       "      <td>1</td>\n",
       "      <td>0</td>\n",
       "      <td>2</td>\n",
       "      <td>0</td>\n",
       "      <td>0</td>\n",
       "      <td>1</td>\n",
       "      <td>0</td>\n",
       "      <td>2</td>\n",
       "      <td>(-0.512, 128.082]</td>\n",
       "      <td>0</td>\n",
       "      <td>(-0.01, 2.5]</td>\n",
       "      <td>(20.315, 40.21]</td>\n",
       "    </tr>\n",
       "    <tr>\n",
       "      <td>4</td>\n",
       "      <td>5</td>\n",
       "      <td>0</td>\n",
       "      <td>3</td>\n",
       "      <td>1</td>\n",
       "      <td>2</td>\n",
       "      <td>0</td>\n",
       "      <td>0</td>\n",
       "      <td>0</td>\n",
       "      <td>0</td>\n",
       "      <td>0</td>\n",
       "      <td>(-0.512, 128.082]</td>\n",
       "      <td>1</td>\n",
       "      <td>(-0.01, 2.5]</td>\n",
       "      <td>(20.315, 40.21]</td>\n",
       "    </tr>\n",
       "  </tbody>\n",
       "</table>\n",
       "</div>"
      ],
      "text/plain": [
       "   PassengerId  Survived  Pclass  Sex  Age  Fare  Embarked  HasCabin  \\\n",
       "0            1         0       3    1    1     0         0         0   \n",
       "1            2         1       1    0    2     0         1         1   \n",
       "2            3         1       3    0    1     0         0         0   \n",
       "3            4         1       1    0    2     0         0         1   \n",
       "4            5         0       3    1    2     0         0         0   \n",
       "\n",
       "   FamilySize  Title           FareBand  IsAlone    FamilyBand  \\\n",
       "0           0      0  (-0.512, 128.082]        0  (-0.01, 2.5]   \n",
       "1           0      2  (-0.512, 128.082]        0  (-0.01, 2.5]   \n",
       "2           0      1  (-0.512, 128.082]        1  (-0.01, 2.5]   \n",
       "3           0      2  (-0.512, 128.082]        0  (-0.01, 2.5]   \n",
       "4           0      0  (-0.512, 128.082]        1  (-0.01, 2.5]   \n",
       "\n",
       "           AgeBand  \n",
       "0  (20.315, 40.21]  \n",
       "1  (20.315, 40.21]  \n",
       "2  (20.315, 40.21]  \n",
       "3  (20.315, 40.21]  \n",
       "4  (20.315, 40.21]  "
      ]
     },
     "execution_count": 1968,
     "metadata": {},
     "output_type": "execute_result"
    }
   ],
   "source": [
    "train.head()"
   ]
  },
  {
   "cell_type": "code",
   "execution_count": 1969,
   "metadata": {},
   "outputs": [],
   "source": [
    "# x = train.drop(columns=[\"PassengerId\", \"Survived\", \"FareBand\", \"AgeBand\", \"FamilyBand\", \"Age\", \"FamilySize\"], axis=1)\n",
    "x = train.drop(columns=[\"PassengerId\", \"Survived\", \"FareBand\", \"AgeBand\", \"FamilyBand\", \"HasCabin\", \"Title\"], axis=1)\n",
    "y = train[\"Survived\"]"
   ]
  },
  {
   "cell_type": "code",
   "execution_count": 1970,
   "metadata": {},
   "outputs": [],
   "source": [
    "from sklearn.ensemble import RandomForestClassifier\n",
    "from sklearn.linear_model import LogisticRegression\n",
    "from sklearn.svm import SVC, LinearSVC\n",
    "from sklearn.neighbors import KNeighborsClassifier\n",
    "from sklearn.naive_bayes import GaussianNB\n",
    "from sklearn.linear_model import Perceptron\n",
    "from sklearn.linear_model import SGDClassifier\n",
    "from sklearn.tree import DecisionTreeClassifier\n",
    "import xgboost as xgb\n",
    "import lightgbm as lgb\n",
    "\n",
    "from sklearn.model_selection import KFold\n",
    "from sklearn.model_selection import cross_val_score\n",
    "k_fold = KFold(n_splits=200, shuffle=True, random_state=42)\n",
    "\n",
    "scoring = 'accuracy'"
   ]
  },
  {
   "cell_type": "code",
   "execution_count": 1971,
   "metadata": {},
   "outputs": [],
   "source": [
    "# lr = RandomForestClassifier()\n",
    "# lr.fit(x, y)\n",
    "# scoring = 'accuracy'\n",
    "# score = cross_val_score(lr, x, y, cv=k_fold, n_jobs=1, scoring=scoring)\n",
    "# print(score)\n",
    "# print(\"Radnom: {0: .4f}\".format(round(np.mean(score)*100, 2)))"
   ]
  },
  {
   "cell_type": "code",
   "execution_count": 1972,
   "metadata": {},
   "outputs": [],
   "source": [
    "# de = DecisionTreeClassifier()\n",
    "# de.fit(x, y)\n",
    "# scoring = 'accuracy'\n",
    "# score = cross_val_score(de, x, y, cv=k_fold, n_jobs=1, scoring=scoring)\n",
    "# print(score)\n",
    "# print(\"DecisionTree: {0: .4f}\".format(round(np.mean(score)*100, 2)))"
   ]
  },
  {
   "cell_type": "code",
   "execution_count": 1973,
   "metadata": {},
   "outputs": [],
   "source": [
    "# sv = SVC()\n",
    "# sv.fit(x, y)\n",
    "# scoring = 'accuracy'\n",
    "# score = cross_val_score(sv, x, y, cv=k_fold, n_jobs=1, scoring=scoring)\n",
    "# print(score)\n",
    "# print(\"SupportVectorMachine: {0: .4f}\".format(round(np.mean(score)*100, 2)))"
   ]
  },
  {
   "cell_type": "code",
   "execution_count": 1974,
   "metadata": {},
   "outputs": [
    {
     "name": "stdout",
     "output_type": "stream",
     "text": [
      "[0.6  0.6  0.8  1.   0.8  0.8  1.   1.   0.8  0.4  1.   1.   1.   0.6\n",
      " 0.8  1.   0.8  0.8  0.8  0.8  0.8  1.   0.6  1.   0.8  1.   0.6  1.\n",
      " 1.   1.   1.   0.6  1.   0.6  1.   0.8  1.   0.8  0.8  0.6  0.8  1.\n",
      " 0.8  0.6  1.   0.6  0.4  0.8  1.   1.   0.4  0.8  1.   0.8  0.4  0.8\n",
      " 1.   1.   0.4  0.6  0.8  1.   0.8  1.   0.8  0.6  0.6  0.8  0.6  0.4\n",
      " 1.   0.8  0.8  0.4  0.8  0.8  0.6  0.8  0.8  1.   0.6  1.   0.6  0.8\n",
      " 1.   0.6  1.   0.8  0.6  0.8  1.   1.   1.   0.75 0.5  0.75 0.75 0.75\n",
      " 1.   0.5  0.75 1.   0.5  1.   0.75 1.   0.75 0.75 0.75 0.75 1.   0.75\n",
      " 0.75 0.5  0.75 0.75 1.   1.   1.   0.75 0.5  0.75 0.5  0.75 1.   0.5\n",
      " 1.   0.75 1.   1.   1.   0.75 1.   0.75 1.   1.   0.75 1.   0.75 1.\n",
      " 1.   1.   0.75 0.75 1.   0.75 0.75 0.5  0.75 1.   1.   1.   0.75 0.75\n",
      " 1.   0.75 0.75 1.   1.   1.   0.75 1.   1.   1.   0.75 0.75 0.5  0.75\n",
      " 0.75 1.   0.5  1.   1.   1.   1.   1.   1.   0.75 1.   0.25 1.   1.\n",
      " 1.   1.   0.75 1.   0.75 0.75 0.5  1.   0.75 0.5  1.   0.5  0.75 1.\n",
      " 0.75 1.   0.75 1.  ]\n",
      "xgboost:  81.6800\n"
     ]
    }
   ],
   "source": [
    "xgb_model = xgb.XGBClassifier(objective=\"binary:logistic\", random_state=42)\n",
    "xgb_model.fit(x, y)\n",
    "scoring = 'accuracy'\n",
    "score = cross_val_score(xgb_model, x, y, cv=k_fold, n_jobs=1, scoring=scoring)\n",
    "print(score)\n",
    "print(\"xgboost: {0: .4f}\".format(round(np.mean(score)*100, 2)))"
   ]
  },
  {
   "cell_type": "code",
   "execution_count": 1975,
   "metadata": {},
   "outputs": [
    {
     "name": "stdout",
     "output_type": "stream",
     "text": [
      "[0.6  0.6  0.8  1.   0.8  0.6  1.   1.   0.8  0.4  1.   1.   1.   0.6\n",
      " 0.8  1.   1.   0.8  0.8  1.   0.8  1.   0.6  1.   0.8  1.   0.6  1.\n",
      " 0.8  1.   1.   0.6  1.   0.6  1.   0.8  1.   0.8  0.8  0.6  0.8  1.\n",
      " 0.8  0.6  1.   0.6  0.4  0.8  1.   1.   0.6  0.8  1.   1.   0.4  0.8\n",
      " 1.   1.   0.4  0.8  0.6  1.   0.8  1.   0.8  0.6  0.6  0.8  0.6  0.4\n",
      " 1.   0.8  0.8  0.4  0.8  0.8  0.6  0.8  0.8  1.   0.6  1.   0.8  0.8\n",
      " 1.   0.6  1.   0.8  0.6  0.8  1.   1.   1.   0.75 0.75 0.75 0.75 0.75\n",
      " 1.   0.5  0.75 1.   0.5  1.   0.75 1.   0.75 0.75 0.75 0.75 1.   0.75\n",
      " 0.75 0.5  0.75 0.75 1.   1.   1.   0.75 0.5  0.75 0.5  0.75 0.75 0.5\n",
      " 1.   0.75 1.   1.   1.   0.75 1.   1.   1.   1.   0.75 1.   0.75 1.\n",
      " 1.   1.   0.75 0.75 1.   0.75 0.75 0.5  0.75 1.   1.   1.   0.75 0.75\n",
      " 0.75 0.75 0.75 1.   1.   1.   0.75 1.   0.75 1.   0.75 0.75 0.5  0.75\n",
      " 0.75 1.   0.5  1.   1.   1.   1.   1.   1.   0.75 1.   0.25 1.   1.\n",
      " 1.   1.   0.75 1.   0.75 0.75 0.5  1.   0.75 0.5  1.   0.5  0.75 1.\n",
      " 0.75 1.   0.75 1.  ]\n",
      "lightgbm:  81.8500\n"
     ]
    }
   ],
   "source": [
    "lgb_model = lgb.LGBMClassifier(objective=\"binary\", random_state=42)\n",
    "lgb_model.fit(x, y)\n",
    "scoring = 'accuracy'\n",
    "score = cross_val_score(lgb_model, x, y, cv=k_fold, n_jobs=1, scoring=scoring)\n",
    "print(score)\n",
    "print(\"lightgbm: {0: .4f}\".format(round(np.mean(score)*100, 2)))"
   ]
  },
  {
   "cell_type": "code",
   "execution_count": 1976,
   "metadata": {},
   "outputs": [],
   "source": [
    "x_test = test.drop(columns=[\"PassengerId\", \"HasCabin\", \"Title\"], axis=1)"
   ]
  },
  {
   "cell_type": "code",
   "execution_count": 1977,
   "metadata": {},
   "outputs": [],
   "source": [
    "predict = lgb_model.predict(x_test)"
   ]
  },
  {
   "cell_type": "code",
   "execution_count": 1978,
   "metadata": {},
   "outputs": [],
   "source": [
    "submission = pd.DataFrame({\n",
    "    \"PassengerId\": test[\"PassengerId\"],\n",
    "    \"Survived\": predict\n",
    "})"
   ]
  },
  {
   "cell_type": "code",
   "execution_count": 1979,
   "metadata": {},
   "outputs": [],
   "source": [
    "submission.to_csv(\"0324_FINAL_LightGBM_{0: .4f}.csv\".format(81.85), index=False)"
   ]
  },
  {
   "cell_type": "code",
   "execution_count": null,
   "metadata": {},
   "outputs": [],
   "source": []
  },
  {
   "cell_type": "code",
   "execution_count": null,
   "metadata": {},
   "outputs": [],
   "source": []
  }
 ],
 "metadata": {
  "kernelspec": {
   "display_name": "Python 3",
   "language": "python",
   "name": "python3"
  },
  "language_info": {
   "codemirror_mode": {
    "name": "ipython",
    "version": 3
   },
   "file_extension": ".py",
   "mimetype": "text/x-python",
   "name": "python",
   "nbconvert_exporter": "python",
   "pygments_lexer": "ipython3",
   "version": "3.7.4"
  }
 },
 "nbformat": 4,
 "nbformat_minor": 2
}
