{
 "cells": [
  {
   "cell_type": "code",
   "execution_count": 1365,
   "metadata": {},
   "outputs": [],
   "source": [
    "import pandas as pd\n",
    "# machine learning\n",
    "from sklearn.linear_model import LogisticRegression, LinearRegression\n",
    "from sklearn.svm import SVC, LinearSVC\n",
    "from sklearn.ensemble import RandomForestClassifier\n",
    "from sklearn.neighbors import KNeighborsClassifier\n",
    "from sklearn.naive_bayes import GaussianNB\n",
    "from sklearn.linear_model import Perceptron\n",
    "from sklearn.linear_model import SGDClassifier\n",
    "from sklearn.tree import DecisionTreeClassifier\n",
    "\n",
    "from sklearn.model_selection import KFold\n",
    "from sklearn.model_selection import cross_val_score\n",
    "k_fold = KFold(n_splits=10, shuffle=True, random_state=0)\n",
    "\n",
    "scoring = 'accuracy'"
   ]
  },
  {
   "cell_type": "code",
   "execution_count": 1366,
   "metadata": {},
   "outputs": [],
   "source": [
    "train = pd.read_csv(\"./input/train.csv\")\n",
    "test = pd.read_csv(\"./input/test.csv\")"
   ]
  },
  {
   "cell_type": "code",
   "execution_count": 1367,
   "metadata": {},
   "outputs": [
    {
     "data": {
      "text/html": [
       "<div>\n",
       "<style scoped>\n",
       "    .dataframe tbody tr th:only-of-type {\n",
       "        vertical-align: middle;\n",
       "    }\n",
       "\n",
       "    .dataframe tbody tr th {\n",
       "        vertical-align: top;\n",
       "    }\n",
       "\n",
       "    .dataframe thead th {\n",
       "        text-align: right;\n",
       "    }\n",
       "</style>\n",
       "<table border=\"1\" class=\"dataframe\">\n",
       "  <thead>\n",
       "    <tr style=\"text-align: right;\">\n",
       "      <th></th>\n",
       "      <th>Survived</th>\n",
       "      <th>Pclass</th>\n",
       "      <th>Name</th>\n",
       "      <th>Sex</th>\n",
       "      <th>Age</th>\n",
       "      <th>SibSp</th>\n",
       "      <th>Parch</th>\n",
       "      <th>Ticket</th>\n",
       "      <th>Fare</th>\n",
       "      <th>Cabin</th>\n",
       "      <th>Embarked</th>\n",
       "    </tr>\n",
       "    <tr>\n",
       "      <th>PassengerId</th>\n",
       "      <th></th>\n",
       "      <th></th>\n",
       "      <th></th>\n",
       "      <th></th>\n",
       "      <th></th>\n",
       "      <th></th>\n",
       "      <th></th>\n",
       "      <th></th>\n",
       "      <th></th>\n",
       "      <th></th>\n",
       "      <th></th>\n",
       "    </tr>\n",
       "  </thead>\n",
       "  <tbody>\n",
       "    <tr>\n",
       "      <td>1</td>\n",
       "      <td>0</td>\n",
       "      <td>3</td>\n",
       "      <td>Braund, Mr. Owen Harris</td>\n",
       "      <td>male</td>\n",
       "      <td>22.0</td>\n",
       "      <td>1</td>\n",
       "      <td>0</td>\n",
       "      <td>A/5 21171</td>\n",
       "      <td>7.2500</td>\n",
       "      <td>NaN</td>\n",
       "      <td>S</td>\n",
       "    </tr>\n",
       "    <tr>\n",
       "      <td>2</td>\n",
       "      <td>1</td>\n",
       "      <td>1</td>\n",
       "      <td>Cumings, Mrs. John Bradley (Florence Briggs Th...</td>\n",
       "      <td>female</td>\n",
       "      <td>38.0</td>\n",
       "      <td>1</td>\n",
       "      <td>0</td>\n",
       "      <td>PC 17599</td>\n",
       "      <td>71.2833</td>\n",
       "      <td>C85</td>\n",
       "      <td>C</td>\n",
       "    </tr>\n",
       "    <tr>\n",
       "      <td>3</td>\n",
       "      <td>1</td>\n",
       "      <td>3</td>\n",
       "      <td>Heikkinen, Miss. Laina</td>\n",
       "      <td>female</td>\n",
       "      <td>26.0</td>\n",
       "      <td>0</td>\n",
       "      <td>0</td>\n",
       "      <td>STON/O2. 3101282</td>\n",
       "      <td>7.9250</td>\n",
       "      <td>NaN</td>\n",
       "      <td>S</td>\n",
       "    </tr>\n",
       "    <tr>\n",
       "      <td>4</td>\n",
       "      <td>1</td>\n",
       "      <td>1</td>\n",
       "      <td>Futrelle, Mrs. Jacques Heath (Lily May Peel)</td>\n",
       "      <td>female</td>\n",
       "      <td>35.0</td>\n",
       "      <td>1</td>\n",
       "      <td>0</td>\n",
       "      <td>113803</td>\n",
       "      <td>53.1000</td>\n",
       "      <td>C123</td>\n",
       "      <td>S</td>\n",
       "    </tr>\n",
       "    <tr>\n",
       "      <td>5</td>\n",
       "      <td>0</td>\n",
       "      <td>3</td>\n",
       "      <td>Allen, Mr. William Henry</td>\n",
       "      <td>male</td>\n",
       "      <td>35.0</td>\n",
       "      <td>0</td>\n",
       "      <td>0</td>\n",
       "      <td>373450</td>\n",
       "      <td>8.0500</td>\n",
       "      <td>NaN</td>\n",
       "      <td>S</td>\n",
       "    </tr>\n",
       "    <tr>\n",
       "      <td>...</td>\n",
       "      <td>...</td>\n",
       "      <td>...</td>\n",
       "      <td>...</td>\n",
       "      <td>...</td>\n",
       "      <td>...</td>\n",
       "      <td>...</td>\n",
       "      <td>...</td>\n",
       "      <td>...</td>\n",
       "      <td>...</td>\n",
       "      <td>...</td>\n",
       "      <td>...</td>\n",
       "    </tr>\n",
       "    <tr>\n",
       "      <td>887</td>\n",
       "      <td>0</td>\n",
       "      <td>2</td>\n",
       "      <td>Montvila, Rev. Juozas</td>\n",
       "      <td>male</td>\n",
       "      <td>27.0</td>\n",
       "      <td>0</td>\n",
       "      <td>0</td>\n",
       "      <td>211536</td>\n",
       "      <td>13.0000</td>\n",
       "      <td>NaN</td>\n",
       "      <td>S</td>\n",
       "    </tr>\n",
       "    <tr>\n",
       "      <td>888</td>\n",
       "      <td>1</td>\n",
       "      <td>1</td>\n",
       "      <td>Graham, Miss. Margaret Edith</td>\n",
       "      <td>female</td>\n",
       "      <td>19.0</td>\n",
       "      <td>0</td>\n",
       "      <td>0</td>\n",
       "      <td>112053</td>\n",
       "      <td>30.0000</td>\n",
       "      <td>B42</td>\n",
       "      <td>S</td>\n",
       "    </tr>\n",
       "    <tr>\n",
       "      <td>889</td>\n",
       "      <td>0</td>\n",
       "      <td>3</td>\n",
       "      <td>Johnston, Miss. Catherine Helen \"Carrie\"</td>\n",
       "      <td>female</td>\n",
       "      <td>NaN</td>\n",
       "      <td>1</td>\n",
       "      <td>2</td>\n",
       "      <td>W./C. 6607</td>\n",
       "      <td>23.4500</td>\n",
       "      <td>NaN</td>\n",
       "      <td>S</td>\n",
       "    </tr>\n",
       "    <tr>\n",
       "      <td>890</td>\n",
       "      <td>1</td>\n",
       "      <td>1</td>\n",
       "      <td>Behr, Mr. Karl Howell</td>\n",
       "      <td>male</td>\n",
       "      <td>26.0</td>\n",
       "      <td>0</td>\n",
       "      <td>0</td>\n",
       "      <td>111369</td>\n",
       "      <td>30.0000</td>\n",
       "      <td>C148</td>\n",
       "      <td>C</td>\n",
       "    </tr>\n",
       "    <tr>\n",
       "      <td>891</td>\n",
       "      <td>0</td>\n",
       "      <td>3</td>\n",
       "      <td>Dooley, Mr. Patrick</td>\n",
       "      <td>male</td>\n",
       "      <td>32.0</td>\n",
       "      <td>0</td>\n",
       "      <td>0</td>\n",
       "      <td>370376</td>\n",
       "      <td>7.7500</td>\n",
       "      <td>NaN</td>\n",
       "      <td>Q</td>\n",
       "    </tr>\n",
       "  </tbody>\n",
       "</table>\n",
       "<p>891 rows × 11 columns</p>\n",
       "</div>"
      ],
      "text/plain": [
       "             Survived  Pclass  \\\n",
       "PassengerId                     \n",
       "1                   0       3   \n",
       "2                   1       1   \n",
       "3                   1       3   \n",
       "4                   1       1   \n",
       "5                   0       3   \n",
       "...               ...     ...   \n",
       "887                 0       2   \n",
       "888                 1       1   \n",
       "889                 0       3   \n",
       "890                 1       1   \n",
       "891                 0       3   \n",
       "\n",
       "                                                          Name     Sex   Age  \\\n",
       "PassengerId                                                                    \n",
       "1                                      Braund, Mr. Owen Harris    male  22.0   \n",
       "2            Cumings, Mrs. John Bradley (Florence Briggs Th...  female  38.0   \n",
       "3                                       Heikkinen, Miss. Laina  female  26.0   \n",
       "4                 Futrelle, Mrs. Jacques Heath (Lily May Peel)  female  35.0   \n",
       "5                                     Allen, Mr. William Henry    male  35.0   \n",
       "...                                                        ...     ...   ...   \n",
       "887                                      Montvila, Rev. Juozas    male  27.0   \n",
       "888                               Graham, Miss. Margaret Edith  female  19.0   \n",
       "889                   Johnston, Miss. Catherine Helen \"Carrie\"  female   NaN   \n",
       "890                                      Behr, Mr. Karl Howell    male  26.0   \n",
       "891                                        Dooley, Mr. Patrick    male  32.0   \n",
       "\n",
       "             SibSp  Parch            Ticket     Fare Cabin Embarked  \n",
       "PassengerId                                                          \n",
       "1                1      0         A/5 21171   7.2500   NaN        S  \n",
       "2                1      0          PC 17599  71.2833   C85        C  \n",
       "3                0      0  STON/O2. 3101282   7.9250   NaN        S  \n",
       "4                1      0            113803  53.1000  C123        S  \n",
       "5                0      0            373450   8.0500   NaN        S  \n",
       "...            ...    ...               ...      ...   ...      ...  \n",
       "887              0      0            211536  13.0000   NaN        S  \n",
       "888              0      0            112053  30.0000   B42        S  \n",
       "889              1      2        W./C. 6607  23.4500   NaN        S  \n",
       "890              0      0            111369  30.0000  C148        C  \n",
       "891              0      0            370376   7.7500   NaN        Q  \n",
       "\n",
       "[891 rows x 11 columns]"
      ]
     },
     "execution_count": 1367,
     "metadata": {},
     "output_type": "execute_result"
    }
   ],
   "source": [
    "train.set_index(\"PassengerId\")"
   ]
  },
  {
   "cell_type": "code",
   "execution_count": 1368,
   "metadata": {},
   "outputs": [],
   "source": [
    "nameLength = []\n",
    "for name in train[\"Name\"]:\n",
    "    nameLength.append(len(name))"
   ]
  },
  {
   "cell_type": "code",
   "execution_count": 1369,
   "metadata": {},
   "outputs": [],
   "source": [
    "train[\"NameLength\"] = nameLength"
   ]
  },
  {
   "cell_type": "code",
   "execution_count": 1370,
   "metadata": {},
   "outputs": [
    {
     "data": {
      "text/plain": [
       "S    644\n",
       "C    168\n",
       "Q     77\n",
       "Name: Embarked, dtype: int64"
      ]
     },
     "execution_count": 1370,
     "metadata": {},
     "output_type": "execute_result"
    }
   ],
   "source": [
    "train[\"Embarked\"].value_counts()"
   ]
  },
  {
   "cell_type": "code",
   "execution_count": 1371,
   "metadata": {},
   "outputs": [],
   "source": [
    "EmbarkedList = []\n",
    "for embarked in train[\"Embarked\"]:\n",
    "    result = 3\n",
    "    if embarked == \"Q\":\n",
    "        result = 0\n",
    "    elif embarked == \"C\":\n",
    "        result = 1\n",
    "    else:\n",
    "        result = 0\n",
    "    EmbarkedList.append(result)"
   ]
  },
  {
   "cell_type": "code",
   "execution_count": 1372,
   "metadata": {},
   "outputs": [],
   "source": [
    "train[\"Embarked\"] = EmbarkedList"
   ]
  },
  {
   "cell_type": "code",
   "execution_count": 1373,
   "metadata": {},
   "outputs": [],
   "source": [
    "SexList = []\n",
    "for sex in train[\"Sex\"]:\n",
    "    result = 0\n",
    "    if sex == \"male\":\n",
    "        result = 1\n",
    "    SexList.append(result)"
   ]
  },
  {
   "cell_type": "code",
   "execution_count": 1374,
   "metadata": {},
   "outputs": [],
   "source": [
    "train[\"Sex\"] = SexList"
   ]
  },
  {
   "cell_type": "code",
   "execution_count": 1375,
   "metadata": {},
   "outputs": [],
   "source": [
    "train[\"FamilySize\"] = train[\"SibSp\"] + train[\"Parch\"]\n",
    "train = train.drop([\"SibSp\", \"Parch\"], axis=1)"
   ]
  },
  {
   "cell_type": "code",
   "execution_count": 1376,
   "metadata": {},
   "outputs": [],
   "source": [
    "cabin_no = train[train[\"Cabin\"].isnull()]\n",
    "cabin_yes = train[train[\"Cabin\"].notnull()]"
   ]
  },
  {
   "cell_type": "code",
   "execution_count": 1377,
   "metadata": {},
   "outputs": [],
   "source": [
    "import numpy as np"
   ]
  },
  {
   "cell_type": "code",
   "execution_count": 1378,
   "metadata": {},
   "outputs": [],
   "source": [
    "CabinExist = []\n",
    "cnt = 0\n",
    "for cabin in train[\"Cabin\"]:\n",
    "    result = 0\n",
    "    if type(cabin) is str:\n",
    "        result = 1\n",
    "    CabinExist.append(result)"
   ]
  },
  {
   "cell_type": "code",
   "execution_count": 1379,
   "metadata": {},
   "outputs": [],
   "source": [
    "train[\"CabinExist\"] = CabinExist\n",
    "train = train.drop([\"Cabin\"], axis=1)"
   ]
  },
  {
   "cell_type": "code",
   "execution_count": 1380,
   "metadata": {},
   "outputs": [],
   "source": [
    "TicketLength = []\n",
    "for ticket in train[\"Ticket\"]:\n",
    "    TicketLength.append(len(ticket))"
   ]
  },
  {
   "cell_type": "code",
   "execution_count": 1381,
   "metadata": {},
   "outputs": [],
   "source": [
    "train[\"TicketLength\"] = TicketLength"
   ]
  },
  {
   "cell_type": "code",
   "execution_count": 1382,
   "metadata": {},
   "outputs": [],
   "source": [
    "NumberTicket = []\n",
    "isNumberTicket = train[\"Ticket\"].str.contains(pat = '^[0-9]*$', regex = True)\n",
    "for item in isNumberTicket:\n",
    "    result = 0\n",
    "    if item:\n",
    "        result = 1\n",
    "    NumberTicket.append(result)"
   ]
  },
  {
   "cell_type": "code",
   "execution_count": 1383,
   "metadata": {},
   "outputs": [],
   "source": [
    "train[\"NumberTicket\"] = NumberTicket"
   ]
  },
  {
   "cell_type": "code",
   "execution_count": 1384,
   "metadata": {},
   "outputs": [],
   "source": [
    "age_no = train[train[\"Age\"].isnull()]\n",
    "age_yes = train[train[\"Age\"].notnull()]"
   ]
  },
  {
   "cell_type": "code",
   "execution_count": 1385,
   "metadata": {},
   "outputs": [
    {
     "data": {
      "text/html": [
       "<div>\n",
       "<style scoped>\n",
       "    .dataframe tbody tr th:only-of-type {\n",
       "        vertical-align: middle;\n",
       "    }\n",
       "\n",
       "    .dataframe tbody tr th {\n",
       "        vertical-align: top;\n",
       "    }\n",
       "\n",
       "    .dataframe thead th {\n",
       "        text-align: right;\n",
       "    }\n",
       "</style>\n",
       "<table border=\"1\" class=\"dataframe\">\n",
       "  <thead>\n",
       "    <tr style=\"text-align: right;\">\n",
       "      <th></th>\n",
       "      <th>PassengerId</th>\n",
       "      <th>Survived</th>\n",
       "      <th>Pclass</th>\n",
       "      <th>Sex</th>\n",
       "      <th>Age</th>\n",
       "      <th>Fare</th>\n",
       "      <th>Embarked</th>\n",
       "      <th>NameLength</th>\n",
       "      <th>FamilySize</th>\n",
       "      <th>CabinExist</th>\n",
       "      <th>TicketLength</th>\n",
       "      <th>NumberTicket</th>\n",
       "    </tr>\n",
       "  </thead>\n",
       "  <tbody>\n",
       "    <tr>\n",
       "      <td>PassengerId</td>\n",
       "      <td>1.000000</td>\n",
       "      <td>0.029340</td>\n",
       "      <td>-0.035349</td>\n",
       "      <td>0.024575</td>\n",
       "      <td>0.036847</td>\n",
       "      <td>0.009592</td>\n",
       "      <td>0.008638</td>\n",
       "      <td>-0.008268</td>\n",
       "      <td>-0.058314</td>\n",
       "      <td>0.015261</td>\n",
       "      <td>-0.052818</td>\n",
       "      <td>0.081835</td>\n",
       "    </tr>\n",
       "    <tr>\n",
       "      <td>Survived</td>\n",
       "      <td>0.029340</td>\n",
       "      <td>1.000000</td>\n",
       "      <td>-0.359653</td>\n",
       "      <td>-0.538826</td>\n",
       "      <td>-0.077221</td>\n",
       "      <td>0.268189</td>\n",
       "      <td>0.193607</td>\n",
       "      <td>0.305681</td>\n",
       "      <td>0.042787</td>\n",
       "      <td>0.324530</td>\n",
       "      <td>-0.034668</td>\n",
       "      <td>-0.029606</td>\n",
       "    </tr>\n",
       "    <tr>\n",
       "      <td>Pclass</td>\n",
       "      <td>-0.035349</td>\n",
       "      <td>-0.359653</td>\n",
       "      <td>1.000000</td>\n",
       "      <td>0.155460</td>\n",
       "      <td>-0.369226</td>\n",
       "      <td>-0.554182</td>\n",
       "      <td>-0.276294</td>\n",
       "      <td>-0.190945</td>\n",
       "      <td>0.056909</td>\n",
       "      <td>-0.739512</td>\n",
       "      <td>0.086269</td>\n",
       "      <td>0.059039</td>\n",
       "    </tr>\n",
       "    <tr>\n",
       "      <td>Sex</td>\n",
       "      <td>0.024575</td>\n",
       "      <td>-0.538826</td>\n",
       "      <td>0.155460</td>\n",
       "      <td>1.000000</td>\n",
       "      <td>0.093254</td>\n",
       "      <td>-0.184994</td>\n",
       "      <td>-0.101580</td>\n",
       "      <td>-0.445458</td>\n",
       "      <td>-0.207165</td>\n",
       "      <td>-0.148511</td>\n",
       "      <td>0.082617</td>\n",
       "      <td>-0.036346</td>\n",
       "    </tr>\n",
       "    <tr>\n",
       "      <td>Age</td>\n",
       "      <td>0.036847</td>\n",
       "      <td>-0.077221</td>\n",
       "      <td>-0.369226</td>\n",
       "      <td>0.093254</td>\n",
       "      <td>1.000000</td>\n",
       "      <td>0.096067</td>\n",
       "      <td>0.036261</td>\n",
       "      <td>0.034612</td>\n",
       "      <td>-0.301914</td>\n",
       "      <td>0.249732</td>\n",
       "      <td>-0.024086</td>\n",
       "      <td>-0.029886</td>\n",
       "    </tr>\n",
       "    <tr>\n",
       "      <td>Fare</td>\n",
       "      <td>0.009592</td>\n",
       "      <td>0.268189</td>\n",
       "      <td>-0.554182</td>\n",
       "      <td>-0.184994</td>\n",
       "      <td>0.096067</td>\n",
       "      <td>1.000000</td>\n",
       "      <td>0.299797</td>\n",
       "      <td>0.136787</td>\n",
       "      <td>0.204640</td>\n",
       "      <td>0.492069</td>\n",
       "      <td>-0.035354</td>\n",
       "      <td>-0.141124</td>\n",
       "    </tr>\n",
       "    <tr>\n",
       "      <td>Embarked</td>\n",
       "      <td>0.008638</td>\n",
       "      <td>0.193607</td>\n",
       "      <td>-0.276294</td>\n",
       "      <td>-0.101580</td>\n",
       "      <td>0.036261</td>\n",
       "      <td>0.299797</td>\n",
       "      <td>1.000000</td>\n",
       "      <td>0.045698</td>\n",
       "      <td>-0.033575</td>\n",
       "      <td>0.259406</td>\n",
       "      <td>-0.058768</td>\n",
       "      <td>-0.137778</td>\n",
       "    </tr>\n",
       "    <tr>\n",
       "      <td>NameLength</td>\n",
       "      <td>-0.008268</td>\n",
       "      <td>0.305681</td>\n",
       "      <td>-0.190945</td>\n",
       "      <td>-0.445458</td>\n",
       "      <td>0.034612</td>\n",
       "      <td>0.136787</td>\n",
       "      <td>0.045698</td>\n",
       "      <td>1.000000</td>\n",
       "      <td>0.273916</td>\n",
       "      <td>0.179367</td>\n",
       "      <td>-0.037581</td>\n",
       "      <td>-0.013761</td>\n",
       "    </tr>\n",
       "    <tr>\n",
       "      <td>FamilySize</td>\n",
       "      <td>-0.058314</td>\n",
       "      <td>0.042787</td>\n",
       "      <td>0.056909</td>\n",
       "      <td>-0.207165</td>\n",
       "      <td>-0.301914</td>\n",
       "      <td>0.204640</td>\n",
       "      <td>-0.033575</td>\n",
       "      <td>0.273916</td>\n",
       "      <td>1.000000</td>\n",
       "      <td>-0.005683</td>\n",
       "      <td>-0.048597</td>\n",
       "      <td>0.015287</td>\n",
       "    </tr>\n",
       "    <tr>\n",
       "      <td>CabinExist</td>\n",
       "      <td>0.015261</td>\n",
       "      <td>0.324530</td>\n",
       "      <td>-0.739512</td>\n",
       "      <td>-0.148511</td>\n",
       "      <td>0.249732</td>\n",
       "      <td>0.492069</td>\n",
       "      <td>0.259406</td>\n",
       "      <td>0.179367</td>\n",
       "      <td>-0.005683</td>\n",
       "      <td>1.000000</td>\n",
       "      <td>-0.105653</td>\n",
       "      <td>-0.014345</td>\n",
       "    </tr>\n",
       "    <tr>\n",
       "      <td>TicketLength</td>\n",
       "      <td>-0.052818</td>\n",
       "      <td>-0.034668</td>\n",
       "      <td>0.086269</td>\n",
       "      <td>0.082617</td>\n",
       "      <td>-0.024086</td>\n",
       "      <td>-0.035354</td>\n",
       "      <td>-0.058768</td>\n",
       "      <td>-0.037581</td>\n",
       "      <td>-0.048597</td>\n",
       "      <td>-0.105653</td>\n",
       "      <td>1.000000</td>\n",
       "      <td>-0.754905</td>\n",
       "    </tr>\n",
       "    <tr>\n",
       "      <td>NumberTicket</td>\n",
       "      <td>0.081835</td>\n",
       "      <td>-0.029606</td>\n",
       "      <td>0.059039</td>\n",
       "      <td>-0.036346</td>\n",
       "      <td>-0.029886</td>\n",
       "      <td>-0.141124</td>\n",
       "      <td>-0.137778</td>\n",
       "      <td>-0.013761</td>\n",
       "      <td>0.015287</td>\n",
       "      <td>-0.014345</td>\n",
       "      <td>-0.754905</td>\n",
       "      <td>1.000000</td>\n",
       "    </tr>\n",
       "  </tbody>\n",
       "</table>\n",
       "</div>"
      ],
      "text/plain": [
       "              PassengerId  Survived    Pclass       Sex       Age      Fare  \\\n",
       "PassengerId      1.000000  0.029340 -0.035349  0.024575  0.036847  0.009592   \n",
       "Survived         0.029340  1.000000 -0.359653 -0.538826 -0.077221  0.268189   \n",
       "Pclass          -0.035349 -0.359653  1.000000  0.155460 -0.369226 -0.554182   \n",
       "Sex              0.024575 -0.538826  0.155460  1.000000  0.093254 -0.184994   \n",
       "Age              0.036847 -0.077221 -0.369226  0.093254  1.000000  0.096067   \n",
       "Fare             0.009592  0.268189 -0.554182 -0.184994  0.096067  1.000000   \n",
       "Embarked         0.008638  0.193607 -0.276294 -0.101580  0.036261  0.299797   \n",
       "NameLength      -0.008268  0.305681 -0.190945 -0.445458  0.034612  0.136787   \n",
       "FamilySize      -0.058314  0.042787  0.056909 -0.207165 -0.301914  0.204640   \n",
       "CabinExist       0.015261  0.324530 -0.739512 -0.148511  0.249732  0.492069   \n",
       "TicketLength    -0.052818 -0.034668  0.086269  0.082617 -0.024086 -0.035354   \n",
       "NumberTicket     0.081835 -0.029606  0.059039 -0.036346 -0.029886 -0.141124   \n",
       "\n",
       "              Embarked  NameLength  FamilySize  CabinExist  TicketLength  \\\n",
       "PassengerId   0.008638   -0.008268   -0.058314    0.015261     -0.052818   \n",
       "Survived      0.193607    0.305681    0.042787    0.324530     -0.034668   \n",
       "Pclass       -0.276294   -0.190945    0.056909   -0.739512      0.086269   \n",
       "Sex          -0.101580   -0.445458   -0.207165   -0.148511      0.082617   \n",
       "Age           0.036261    0.034612   -0.301914    0.249732     -0.024086   \n",
       "Fare          0.299797    0.136787    0.204640    0.492069     -0.035354   \n",
       "Embarked      1.000000    0.045698   -0.033575    0.259406     -0.058768   \n",
       "NameLength    0.045698    1.000000    0.273916    0.179367     -0.037581   \n",
       "FamilySize   -0.033575    0.273916    1.000000   -0.005683     -0.048597   \n",
       "CabinExist    0.259406    0.179367   -0.005683    1.000000     -0.105653   \n",
       "TicketLength -0.058768   -0.037581   -0.048597   -0.105653      1.000000   \n",
       "NumberTicket -0.137778   -0.013761    0.015287   -0.014345     -0.754905   \n",
       "\n",
       "              NumberTicket  \n",
       "PassengerId       0.081835  \n",
       "Survived         -0.029606  \n",
       "Pclass            0.059039  \n",
       "Sex              -0.036346  \n",
       "Age              -0.029886  \n",
       "Fare             -0.141124  \n",
       "Embarked         -0.137778  \n",
       "NameLength       -0.013761  \n",
       "FamilySize        0.015287  \n",
       "CabinExist       -0.014345  \n",
       "TicketLength     -0.754905  \n",
       "NumberTicket      1.000000  "
      ]
     },
     "execution_count": 1385,
     "metadata": {},
     "output_type": "execute_result"
    }
   ],
   "source": [
    "age_yes.corr()"
   ]
  },
  {
   "cell_type": "code",
   "execution_count": 1386,
   "metadata": {},
   "outputs": [
    {
     "data": {
      "text/plain": [
       "LinearRegression(copy_X=True, fit_intercept=True, n_jobs=None, normalize=False)"
      ]
     },
     "execution_count": 1386,
     "metadata": {},
     "output_type": "execute_result"
    }
   ],
   "source": [
    "lm = LinearRegression()\n",
    "# age_x = age_yes[[\"Pclass\", \"FamilySize\", \"CabinExist\"]]\n",
    "age_x = age_yes[[\"Pclass\", \"FamilySize\", \"CabinExist\"]]\n",
    "age_y = age_yes[\"Age\"]\n",
    "lm.fit(age_x, age_y)"
   ]
  },
  {
   "cell_type": "code",
   "execution_count": 1387,
   "metadata": {},
   "outputs": [],
   "source": [
    "# age_predict = lm.predict(age_no[[\"Pclass\", \"FamilySize\", \"CabinExist\"]])\n",
    "age_predict = lm.predict(age_no[[\"Pclass\", \"FamilySize\", \"CabinExist\"]])"
   ]
  },
  {
   "cell_type": "code",
   "execution_count": 1388,
   "metadata": {},
   "outputs": [
    {
     "name": "stderr",
     "output_type": "stream",
     "text": [
      "/Users/skyepodium/opt/anaconda3/lib/python3.7/site-packages/ipykernel_launcher.py:1: SettingWithCopyWarning: \n",
      "A value is trying to be set on a copy of a slice from a DataFrame.\n",
      "Try using .loc[row_indexer,col_indexer] = value instead\n",
      "\n",
      "See the caveats in the documentation: http://pandas.pydata.org/pandas-docs/stable/user_guide/indexing.html#returning-a-view-versus-a-copy\n",
      "  \"\"\"Entry point for launching an IPython kernel.\n"
     ]
    }
   ],
   "source": [
    "age_no[\"Age\"] = age_predict"
   ]
  },
  {
   "cell_type": "code",
   "execution_count": 1389,
   "metadata": {},
   "outputs": [],
   "source": [
    "train = pd.concat([age_no, age_yes])"
   ]
  },
  {
   "cell_type": "code",
   "execution_count": 1390,
   "metadata": {},
   "outputs": [
    {
     "data": {
      "text/plain": [
       "<matplotlib.axes._subplots.AxesSubplot at 0x1a21f864d0>"
      ]
     },
     "execution_count": 1390,
     "metadata": {},
     "output_type": "execute_result"
    },
    {
     "data": {
      "image/png": "[encoded data removed]",
      "text/plain": [
       "<Figure size 432x288 with 1 Axes>"
      ]
     },
     "metadata": {
      "needs_background": "light"
     },
     "output_type": "display_data"
    }
   ],
   "source": [
    "train.boxplot(column=[\"Age\"])"
   ]
  },
  {
   "cell_type": "code",
   "execution_count": 1391,
   "metadata": {},
   "outputs": [],
   "source": [
    "AgeList = []\n",
    "for age in train[\"Age\"]:\n",
    "    result = 0\n",
    "    if age > 65:\n",
    "        result = 6        \n",
    "    elif age > 55:\n",
    "        result = 5        \n",
    "    elif age > 45:\n",
    "        result = 4        \n",
    "    elif age > 35:\n",
    "        result = 3        \n",
    "    elif age > 25:\n",
    "        result = 2   \n",
    "    elif age > 15:\n",
    "        result = 1\n",
    "    else:\n",
    "        result = 0\n",
    "    AgeList.append(result)"
   ]
  },
  {
   "cell_type": "code",
   "execution_count": 1392,
   "metadata": {},
   "outputs": [],
   "source": [
    "train[\"Age2\"] = AgeList"
   ]
  },
  {
   "cell_type": "code",
   "execution_count": 1393,
   "metadata": {},
   "outputs": [
    {
     "data": {
      "text/plain": [
       "2    306\n",
       "1    248\n",
       "3    144\n",
       "0     90\n",
       "4     63\n",
       "5     32\n",
       "6      8\n",
       "Name: Age2, dtype: int64"
      ]
     },
     "execution_count": 1393,
     "metadata": {},
     "output_type": "execute_result"
    }
   ],
   "source": [
    "train[\"Age2\"].value_counts()"
   ]
  },
  {
   "cell_type": "code",
   "execution_count": 1394,
   "metadata": {},
   "outputs": [
    {
     "data": {
      "text/plain": [
       "<matplotlib.axes._subplots.AxesSubplot at 0x1a21f71790>"
      ]
     },
     "execution_count": 1394,
     "metadata": {},
     "output_type": "execute_result"
    },
    {
     "data": {
      "image/png": "[encoded data removed]",
      "text/plain": [
       "<Figure size 432x288 with 1 Axes>"
      ]
     },
     "metadata": {
      "needs_background": "light"
     },
     "output_type": "display_data"
    }
   ],
   "source": [
    "train.boxplot(column=[\"Age2\"])"
   ]
  },
  {
   "cell_type": "code",
   "execution_count": 1395,
   "metadata": {},
   "outputs": [
    {
     "data": {
      "text/html": [
       "<div>\n",
       "<style scoped>\n",
       "    .dataframe tbody tr th:only-of-type {\n",
       "        vertical-align: middle;\n",
       "    }\n",
       "\n",
       "    .dataframe tbody tr th {\n",
       "        vertical-align: top;\n",
       "    }\n",
       "\n",
       "    .dataframe thead th {\n",
       "        text-align: right;\n",
       "    }\n",
       "</style>\n",
       "<table border=\"1\" class=\"dataframe\">\n",
       "  <thead>\n",
       "    <tr style=\"text-align: right;\">\n",
       "      <th></th>\n",
       "      <th>PassengerId</th>\n",
       "      <th>Survived</th>\n",
       "      <th>Pclass</th>\n",
       "      <th>Sex</th>\n",
       "      <th>Age</th>\n",
       "      <th>Fare</th>\n",
       "      <th>Embarked</th>\n",
       "      <th>NameLength</th>\n",
       "      <th>FamilySize</th>\n",
       "      <th>CabinExist</th>\n",
       "      <th>TicketLength</th>\n",
       "      <th>NumberTicket</th>\n",
       "      <th>Age2</th>\n",
       "    </tr>\n",
       "  </thead>\n",
       "  <tbody>\n",
       "    <tr>\n",
       "      <td>PassengerId</td>\n",
       "      <td>1.000000</td>\n",
       "      <td>-0.005007</td>\n",
       "      <td>-0.035144</td>\n",
       "      <td>0.042939</td>\n",
       "      <td>0.033423</td>\n",
       "      <td>0.012658</td>\n",
       "      <td>-0.001205</td>\n",
       "      <td>-0.012986</td>\n",
       "      <td>-0.040143</td>\n",
       "      <td>0.019919</td>\n",
       "      <td>-0.046022</td>\n",
       "      <td>0.072291</td>\n",
       "      <td>0.033968</td>\n",
       "    </tr>\n",
       "    <tr>\n",
       "      <td>Survived</td>\n",
       "      <td>-0.005007</td>\n",
       "      <td>1.000000</td>\n",
       "      <td>-0.338481</td>\n",
       "      <td>-0.543351</td>\n",
       "      <td>-0.044794</td>\n",
       "      <td>0.257307</td>\n",
       "      <td>0.168240</td>\n",
       "      <td>0.332350</td>\n",
       "      <td>0.016639</td>\n",
       "      <td>0.316912</td>\n",
       "      <td>-0.055331</td>\n",
       "      <td>0.001492</td>\n",
       "      <td>-0.046605</td>\n",
       "    </tr>\n",
       "    <tr>\n",
       "      <td>Pclass</td>\n",
       "      <td>-0.035144</td>\n",
       "      <td>-0.338481</td>\n",
       "      <td>1.000000</td>\n",
       "      <td>0.131900</td>\n",
       "      <td>-0.402575</td>\n",
       "      <td>-0.549500</td>\n",
       "      <td>-0.243292</td>\n",
       "      <td>-0.220001</td>\n",
       "      <td>0.065997</td>\n",
       "      <td>-0.725541</td>\n",
       "      <td>0.054098</td>\n",
       "      <td>0.079763</td>\n",
       "      <td>-0.398844</td>\n",
       "    </tr>\n",
       "    <tr>\n",
       "      <td>Sex</td>\n",
       "      <td>0.042939</td>\n",
       "      <td>-0.543351</td>\n",
       "      <td>0.131900</td>\n",
       "      <td>1.000000</td>\n",
       "      <td>0.094676</td>\n",
       "      <td>-0.182333</td>\n",
       "      <td>-0.082853</td>\n",
       "      <td>-0.448759</td>\n",
       "      <td>-0.200988</td>\n",
       "      <td>-0.140391</td>\n",
       "      <td>0.080280</td>\n",
       "      <td>-0.032507</td>\n",
       "      <td>0.105048</td>\n",
       "    </tr>\n",
       "    <tr>\n",
       "      <td>Age</td>\n",
       "      <td>0.033423</td>\n",
       "      <td>-0.044794</td>\n",
       "      <td>-0.402575</td>\n",
       "      <td>0.094676</td>\n",
       "      <td>1.000000</td>\n",
       "      <td>0.098743</td>\n",
       "      <td>0.047999</td>\n",
       "      <td>0.043988</td>\n",
       "      <td>-0.355185</td>\n",
       "      <td>0.265217</td>\n",
       "      <td>-0.020042</td>\n",
       "      <td>-0.011240</td>\n",
       "      <td>0.969017</td>\n",
       "    </tr>\n",
       "    <tr>\n",
       "      <td>Fare</td>\n",
       "      <td>0.012658</td>\n",
       "      <td>0.257307</td>\n",
       "      <td>-0.549500</td>\n",
       "      <td>-0.182333</td>\n",
       "      <td>0.098743</td>\n",
       "      <td>1.000000</td>\n",
       "      <td>0.269335</td>\n",
       "      <td>0.155832</td>\n",
       "      <td>0.217138</td>\n",
       "      <td>0.482075</td>\n",
       "      <td>-0.016002</td>\n",
       "      <td>-0.173170</td>\n",
       "      <td>0.097748</td>\n",
       "    </tr>\n",
       "    <tr>\n",
       "      <td>Embarked</td>\n",
       "      <td>-0.001205</td>\n",
       "      <td>0.168240</td>\n",
       "      <td>-0.243292</td>\n",
       "      <td>-0.082853</td>\n",
       "      <td>0.047999</td>\n",
       "      <td>0.269335</td>\n",
       "      <td>1.000000</td>\n",
       "      <td>0.027481</td>\n",
       "      <td>-0.046215</td>\n",
       "      <td>0.208528</td>\n",
       "      <td>-0.086939</td>\n",
       "      <td>-0.115615</td>\n",
       "      <td>0.044692</td>\n",
       "    </tr>\n",
       "    <tr>\n",
       "      <td>NameLength</td>\n",
       "      <td>-0.012986</td>\n",
       "      <td>0.332350</td>\n",
       "      <td>-0.220001</td>\n",
       "      <td>-0.448759</td>\n",
       "      <td>0.043988</td>\n",
       "      <td>0.155832</td>\n",
       "      <td>0.027481</td>\n",
       "      <td>1.000000</td>\n",
       "      <td>0.238820</td>\n",
       "      <td>0.190943</td>\n",
       "      <td>-0.017184</td>\n",
       "      <td>-0.032901</td>\n",
       "      <td>0.029812</td>\n",
       "    </tr>\n",
       "    <tr>\n",
       "      <td>FamilySize</td>\n",
       "      <td>-0.040143</td>\n",
       "      <td>0.016639</td>\n",
       "      <td>0.065997</td>\n",
       "      <td>-0.200988</td>\n",
       "      <td>-0.355185</td>\n",
       "      <td>0.217138</td>\n",
       "      <td>-0.046215</td>\n",
       "      <td>0.238820</td>\n",
       "      <td>1.000000</td>\n",
       "      <td>-0.009175</td>\n",
       "      <td>-0.019576</td>\n",
       "      <td>-0.073068</td>\n",
       "      <td>-0.306566</td>\n",
       "    </tr>\n",
       "    <tr>\n",
       "      <td>CabinExist</td>\n",
       "      <td>0.019919</td>\n",
       "      <td>0.316912</td>\n",
       "      <td>-0.725541</td>\n",
       "      <td>-0.140391</td>\n",
       "      <td>0.265217</td>\n",
       "      <td>0.482075</td>\n",
       "      <td>0.208528</td>\n",
       "      <td>0.190943</td>\n",
       "      <td>-0.009175</td>\n",
       "      <td>1.000000</td>\n",
       "      <td>-0.092648</td>\n",
       "      <td>-0.008180</td>\n",
       "      <td>0.279124</td>\n",
       "    </tr>\n",
       "    <tr>\n",
       "      <td>TicketLength</td>\n",
       "      <td>-0.046022</td>\n",
       "      <td>-0.055331</td>\n",
       "      <td>0.054098</td>\n",
       "      <td>0.080280</td>\n",
       "      <td>-0.020042</td>\n",
       "      <td>-0.016002</td>\n",
       "      <td>-0.086939</td>\n",
       "      <td>-0.017184</td>\n",
       "      <td>-0.019576</td>\n",
       "      <td>-0.092648</td>\n",
       "      <td>1.000000</td>\n",
       "      <td>-0.758299</td>\n",
       "      <td>-0.025759</td>\n",
       "    </tr>\n",
       "    <tr>\n",
       "      <td>NumberTicket</td>\n",
       "      <td>0.072291</td>\n",
       "      <td>0.001492</td>\n",
       "      <td>0.079763</td>\n",
       "      <td>-0.032507</td>\n",
       "      <td>-0.011240</td>\n",
       "      <td>-0.173170</td>\n",
       "      <td>-0.115615</td>\n",
       "      <td>-0.032901</td>\n",
       "      <td>-0.073068</td>\n",
       "      <td>-0.008180</td>\n",
       "      <td>-0.758299</td>\n",
       "      <td>1.000000</td>\n",
       "      <td>-0.019803</td>\n",
       "    </tr>\n",
       "    <tr>\n",
       "      <td>Age2</td>\n",
       "      <td>0.033968</td>\n",
       "      <td>-0.046605</td>\n",
       "      <td>-0.398844</td>\n",
       "      <td>0.105048</td>\n",
       "      <td>0.969017</td>\n",
       "      <td>0.097748</td>\n",
       "      <td>0.044692</td>\n",
       "      <td>0.029812</td>\n",
       "      <td>-0.306566</td>\n",
       "      <td>0.279124</td>\n",
       "      <td>-0.025759</td>\n",
       "      <td>-0.019803</td>\n",
       "      <td>1.000000</td>\n",
       "    </tr>\n",
       "  </tbody>\n",
       "</table>\n",
       "</div>"
      ],
      "text/plain": [
       "              PassengerId  Survived    Pclass       Sex       Age      Fare  \\\n",
       "PassengerId      1.000000 -0.005007 -0.035144  0.042939  0.033423  0.012658   \n",
       "Survived        -0.005007  1.000000 -0.338481 -0.543351 -0.044794  0.257307   \n",
       "Pclass          -0.035144 -0.338481  1.000000  0.131900 -0.402575 -0.549500   \n",
       "Sex              0.042939 -0.543351  0.131900  1.000000  0.094676 -0.182333   \n",
       "Age              0.033423 -0.044794 -0.402575  0.094676  1.000000  0.098743   \n",
       "Fare             0.012658  0.257307 -0.549500 -0.182333  0.098743  1.000000   \n",
       "Embarked        -0.001205  0.168240 -0.243292 -0.082853  0.047999  0.269335   \n",
       "NameLength      -0.012986  0.332350 -0.220001 -0.448759  0.043988  0.155832   \n",
       "FamilySize      -0.040143  0.016639  0.065997 -0.200988 -0.355185  0.217138   \n",
       "CabinExist       0.019919  0.316912 -0.725541 -0.140391  0.265217  0.482075   \n",
       "TicketLength    -0.046022 -0.055331  0.054098  0.080280 -0.020042 -0.016002   \n",
       "NumberTicket     0.072291  0.001492  0.079763 -0.032507 -0.011240 -0.173170   \n",
       "Age2             0.033968 -0.046605 -0.398844  0.105048  0.969017  0.097748   \n",
       "\n",
       "              Embarked  NameLength  FamilySize  CabinExist  TicketLength  \\\n",
       "PassengerId  -0.001205   -0.012986   -0.040143    0.019919     -0.046022   \n",
       "Survived      0.168240    0.332350    0.016639    0.316912     -0.055331   \n",
       "Pclass       -0.243292   -0.220001    0.065997   -0.725541      0.054098   \n",
       "Sex          -0.082853   -0.448759   -0.200988   -0.140391      0.080280   \n",
       "Age           0.047999    0.043988   -0.355185    0.265217     -0.020042   \n",
       "Fare          0.269335    0.155832    0.217138    0.482075     -0.016002   \n",
       "Embarked      1.000000    0.027481   -0.046215    0.208528     -0.086939   \n",
       "NameLength    0.027481    1.000000    0.238820    0.190943     -0.017184   \n",
       "FamilySize   -0.046215    0.238820    1.000000   -0.009175     -0.019576   \n",
       "CabinExist    0.208528    0.190943   -0.009175    1.000000     -0.092648   \n",
       "TicketLength -0.086939   -0.017184   -0.019576   -0.092648      1.000000   \n",
       "NumberTicket -0.115615   -0.032901   -0.073068   -0.008180     -0.758299   \n",
       "Age2          0.044692    0.029812   -0.306566    0.279124     -0.025759   \n",
       "\n",
       "              NumberTicket      Age2  \n",
       "PassengerId       0.072291  0.033968  \n",
       "Survived          0.001492 -0.046605  \n",
       "Pclass            0.079763 -0.398844  \n",
       "Sex              -0.032507  0.105048  \n",
       "Age              -0.011240  0.969017  \n",
       "Fare             -0.173170  0.097748  \n",
       "Embarked         -0.115615  0.044692  \n",
       "NameLength       -0.032901  0.029812  \n",
       "FamilySize       -0.073068 -0.306566  \n",
       "CabinExist       -0.008180  0.279124  \n",
       "TicketLength     -0.758299 -0.025759  \n",
       "NumberTicket      1.000000 -0.019803  \n",
       "Age2             -0.019803  1.000000  "
      ]
     },
     "execution_count": 1395,
     "metadata": {},
     "output_type": "execute_result"
    }
   ],
   "source": [
    "train.corr()"
   ]
  },
  {
   "cell_type": "code",
   "execution_count": 1396,
   "metadata": {},
   "outputs": [
    {
     "data": {
      "text/plain": [
       "8.0500     43\n",
       "13.0000    42\n",
       "7.8958     38\n",
       "7.7500     34\n",
       "26.0000    31\n",
       "           ..\n",
       "7.0458      1\n",
       "13.8625     1\n",
       "8.7125      1\n",
       "13.8583     1\n",
       "8.1375      1\n",
       "Name: Fare, Length: 248, dtype: int64"
      ]
     },
     "execution_count": 1396,
     "metadata": {},
     "output_type": "execute_result"
    }
   ],
   "source": [
    "train[\"Fare\"].value_counts()"
   ]
  },
  {
   "cell_type": "code",
   "execution_count": 1397,
   "metadata": {},
   "outputs": [
    {
     "data": {
      "text/plain": [
       "<matplotlib.axes._subplots.AxesSubplot at 0x1a21e7da50>"
      ]
     },
     "execution_count": 1397,
     "metadata": {},
     "output_type": "execute_result"
    },
    {
     "data": {
      "image/png": "[encoded data removed]",
      "text/plain": [
       "<Figure size 432x288 with 1 Axes>"
      ]
     },
     "metadata": {
      "needs_background": "light"
     },
     "output_type": "display_data"
    }
   ],
   "source": [
    "train.boxplot(column=[\"Fare\"])"
   ]
  },
  {
   "cell_type": "code",
   "execution_count": 1398,
   "metadata": {},
   "outputs": [
    {
     "data": {
      "text/plain": [
       "14.4542"
      ]
     },
     "execution_count": 1398,
     "metadata": {},
     "output_type": "execute_result"
    }
   ],
   "source": [
    "train[\"Fare\"].median()"
   ]
  },
  {
   "cell_type": "code",
   "execution_count": 1399,
   "metadata": {},
   "outputs": [],
   "source": [
    "FareList = []\n",
    "for age in train[\"Fare\"]:\n",
    "    result = 0\n",
    "    if age > 100:\n",
    "        result = 6    \n",
    "    elif age > 70:\n",
    "        result = 5        \n",
    "    elif age > 40:\n",
    "        result = 4\n",
    "    elif age > 25:\n",
    "        result = 3\n",
    "    elif age > 10:\n",
    "        result = 2\n",
    "    elif age > 5:\n",
    "        result = 1\n",
    "    else:\n",
    "        result = 0\n",
    "    FareList.append(result)"
   ]
  },
  {
   "cell_type": "code",
   "execution_count": 1400,
   "metadata": {},
   "outputs": [],
   "source": [
    "train[\"Fare2\"] = FareList"
   ]
  },
  {
   "cell_type": "code",
   "execution_count": 1401,
   "metadata": {},
   "outputs": [
    {
     "data": {
      "text/plain": [
       "1    319\n",
       "2    221\n",
       "3    158\n",
       "4     71\n",
       "6     53\n",
       "5     52\n",
       "0     17\n",
       "Name: Fare2, dtype: int64"
      ]
     },
     "execution_count": 1401,
     "metadata": {},
     "output_type": "execute_result"
    }
   ],
   "source": [
    "train[\"Fare2\"].value_counts()"
   ]
  },
  {
   "cell_type": "code",
   "execution_count": 1402,
   "metadata": {},
   "outputs": [
    {
     "data": {
      "text/html": [
       "<div>\n",
       "<style scoped>\n",
       "    .dataframe tbody tr th:only-of-type {\n",
       "        vertical-align: middle;\n",
       "    }\n",
       "\n",
       "    .dataframe tbody tr th {\n",
       "        vertical-align: top;\n",
       "    }\n",
       "\n",
       "    .dataframe thead th {\n",
       "        text-align: right;\n",
       "    }\n",
       "</style>\n",
       "<table border=\"1\" class=\"dataframe\">\n",
       "  <thead>\n",
       "    <tr style=\"text-align: right;\">\n",
       "      <th></th>\n",
       "      <th>PassengerId</th>\n",
       "      <th>Survived</th>\n",
       "      <th>Pclass</th>\n",
       "      <th>Sex</th>\n",
       "      <th>Age</th>\n",
       "      <th>Fare</th>\n",
       "      <th>Embarked</th>\n",
       "      <th>NameLength</th>\n",
       "      <th>FamilySize</th>\n",
       "      <th>CabinExist</th>\n",
       "      <th>TicketLength</th>\n",
       "      <th>NumberTicket</th>\n",
       "      <th>Age2</th>\n",
       "      <th>Fare2</th>\n",
       "    </tr>\n",
       "  </thead>\n",
       "  <tbody>\n",
       "    <tr>\n",
       "      <td>PassengerId</td>\n",
       "      <td>1.000000</td>\n",
       "      <td>-0.005007</td>\n",
       "      <td>-0.035144</td>\n",
       "      <td>0.042939</td>\n",
       "      <td>0.033423</td>\n",
       "      <td>0.012658</td>\n",
       "      <td>-0.001205</td>\n",
       "      <td>-0.012986</td>\n",
       "      <td>-0.040143</td>\n",
       "      <td>0.019919</td>\n",
       "      <td>-0.046022</td>\n",
       "      <td>0.072291</td>\n",
       "      <td>0.033968</td>\n",
       "      <td>-0.002836</td>\n",
       "    </tr>\n",
       "    <tr>\n",
       "      <td>Survived</td>\n",
       "      <td>-0.005007</td>\n",
       "      <td>1.000000</td>\n",
       "      <td>-0.338481</td>\n",
       "      <td>-0.543351</td>\n",
       "      <td>-0.044794</td>\n",
       "      <td>0.257307</td>\n",
       "      <td>0.168240</td>\n",
       "      <td>0.332350</td>\n",
       "      <td>0.016639</td>\n",
       "      <td>0.316912</td>\n",
       "      <td>-0.055331</td>\n",
       "      <td>0.001492</td>\n",
       "      <td>-0.046605</td>\n",
       "      <td>0.337733</td>\n",
       "    </tr>\n",
       "    <tr>\n",
       "      <td>Pclass</td>\n",
       "      <td>-0.035144</td>\n",
       "      <td>-0.338481</td>\n",
       "      <td>1.000000</td>\n",
       "      <td>0.131900</td>\n",
       "      <td>-0.402575</td>\n",
       "      <td>-0.549500</td>\n",
       "      <td>-0.243292</td>\n",
       "      <td>-0.220001</td>\n",
       "      <td>0.065997</td>\n",
       "      <td>-0.725541</td>\n",
       "      <td>0.054098</td>\n",
       "      <td>0.079763</td>\n",
       "      <td>-0.398844</td>\n",
       "      <td>-0.753221</td>\n",
       "    </tr>\n",
       "    <tr>\n",
       "      <td>Sex</td>\n",
       "      <td>0.042939</td>\n",
       "      <td>-0.543351</td>\n",
       "      <td>0.131900</td>\n",
       "      <td>1.000000</td>\n",
       "      <td>0.094676</td>\n",
       "      <td>-0.182333</td>\n",
       "      <td>-0.082853</td>\n",
       "      <td>-0.448759</td>\n",
       "      <td>-0.200988</td>\n",
       "      <td>-0.140391</td>\n",
       "      <td>0.080280</td>\n",
       "      <td>-0.032507</td>\n",
       "      <td>0.105048</td>\n",
       "      <td>-0.258126</td>\n",
       "    </tr>\n",
       "    <tr>\n",
       "      <td>Age</td>\n",
       "      <td>0.033423</td>\n",
       "      <td>-0.044794</td>\n",
       "      <td>-0.402575</td>\n",
       "      <td>0.094676</td>\n",
       "      <td>1.000000</td>\n",
       "      <td>0.098743</td>\n",
       "      <td>0.047999</td>\n",
       "      <td>0.043988</td>\n",
       "      <td>-0.355185</td>\n",
       "      <td>0.265217</td>\n",
       "      <td>-0.020042</td>\n",
       "      <td>-0.011240</td>\n",
       "      <td>0.969017</td>\n",
       "      <td>0.145953</td>\n",
       "    </tr>\n",
       "    <tr>\n",
       "      <td>Fare</td>\n",
       "      <td>0.012658</td>\n",
       "      <td>0.257307</td>\n",
       "      <td>-0.549500</td>\n",
       "      <td>-0.182333</td>\n",
       "      <td>0.098743</td>\n",
       "      <td>1.000000</td>\n",
       "      <td>0.269335</td>\n",
       "      <td>0.155832</td>\n",
       "      <td>0.217138</td>\n",
       "      <td>0.482075</td>\n",
       "      <td>-0.016002</td>\n",
       "      <td>-0.173170</td>\n",
       "      <td>0.097748</td>\n",
       "      <td>0.780401</td>\n",
       "    </tr>\n",
       "    <tr>\n",
       "      <td>Embarked</td>\n",
       "      <td>-0.001205</td>\n",
       "      <td>0.168240</td>\n",
       "      <td>-0.243292</td>\n",
       "      <td>-0.082853</td>\n",
       "      <td>0.047999</td>\n",
       "      <td>0.269335</td>\n",
       "      <td>1.000000</td>\n",
       "      <td>0.027481</td>\n",
       "      <td>-0.046215</td>\n",
       "      <td>0.208528</td>\n",
       "      <td>-0.086939</td>\n",
       "      <td>-0.115615</td>\n",
       "      <td>0.044692</td>\n",
       "      <td>0.270842</td>\n",
       "    </tr>\n",
       "    <tr>\n",
       "      <td>NameLength</td>\n",
       "      <td>-0.012986</td>\n",
       "      <td>0.332350</td>\n",
       "      <td>-0.220001</td>\n",
       "      <td>-0.448759</td>\n",
       "      <td>0.043988</td>\n",
       "      <td>0.155832</td>\n",
       "      <td>0.027481</td>\n",
       "      <td>1.000000</td>\n",
       "      <td>0.238820</td>\n",
       "      <td>0.190943</td>\n",
       "      <td>-0.017184</td>\n",
       "      <td>-0.032901</td>\n",
       "      <td>0.029812</td>\n",
       "      <td>0.284455</td>\n",
       "    </tr>\n",
       "    <tr>\n",
       "      <td>FamilySize</td>\n",
       "      <td>-0.040143</td>\n",
       "      <td>0.016639</td>\n",
       "      <td>0.065997</td>\n",
       "      <td>-0.200988</td>\n",
       "      <td>-0.355185</td>\n",
       "      <td>0.217138</td>\n",
       "      <td>-0.046215</td>\n",
       "      <td>0.238820</td>\n",
       "      <td>1.000000</td>\n",
       "      <td>-0.009175</td>\n",
       "      <td>-0.019576</td>\n",
       "      <td>-0.073068</td>\n",
       "      <td>-0.306566</td>\n",
       "      <td>0.346924</td>\n",
       "    </tr>\n",
       "    <tr>\n",
       "      <td>CabinExist</td>\n",
       "      <td>0.019919</td>\n",
       "      <td>0.316912</td>\n",
       "      <td>-0.725541</td>\n",
       "      <td>-0.140391</td>\n",
       "      <td>0.265217</td>\n",
       "      <td>0.482075</td>\n",
       "      <td>0.208528</td>\n",
       "      <td>0.190943</td>\n",
       "      <td>-0.009175</td>\n",
       "      <td>1.000000</td>\n",
       "      <td>-0.092648</td>\n",
       "      <td>-0.008180</td>\n",
       "      <td>0.279124</td>\n",
       "      <td>0.611551</td>\n",
       "    </tr>\n",
       "    <tr>\n",
       "      <td>TicketLength</td>\n",
       "      <td>-0.046022</td>\n",
       "      <td>-0.055331</td>\n",
       "      <td>0.054098</td>\n",
       "      <td>0.080280</td>\n",
       "      <td>-0.020042</td>\n",
       "      <td>-0.016002</td>\n",
       "      <td>-0.086939</td>\n",
       "      <td>-0.017184</td>\n",
       "      <td>-0.019576</td>\n",
       "      <td>-0.092648</td>\n",
       "      <td>1.000000</td>\n",
       "      <td>-0.758299</td>\n",
       "      <td>-0.025759</td>\n",
       "      <td>-0.043186</td>\n",
       "    </tr>\n",
       "    <tr>\n",
       "      <td>NumberTicket</td>\n",
       "      <td>0.072291</td>\n",
       "      <td>0.001492</td>\n",
       "      <td>0.079763</td>\n",
       "      <td>-0.032507</td>\n",
       "      <td>-0.011240</td>\n",
       "      <td>-0.173170</td>\n",
       "      <td>-0.115615</td>\n",
       "      <td>-0.032901</td>\n",
       "      <td>-0.073068</td>\n",
       "      <td>-0.008180</td>\n",
       "      <td>-0.758299</td>\n",
       "      <td>1.000000</td>\n",
       "      <td>-0.019803</td>\n",
       "      <td>-0.148858</td>\n",
       "    </tr>\n",
       "    <tr>\n",
       "      <td>Age2</td>\n",
       "      <td>0.033968</td>\n",
       "      <td>-0.046605</td>\n",
       "      <td>-0.398844</td>\n",
       "      <td>0.105048</td>\n",
       "      <td>0.969017</td>\n",
       "      <td>0.097748</td>\n",
       "      <td>0.044692</td>\n",
       "      <td>0.029812</td>\n",
       "      <td>-0.306566</td>\n",
       "      <td>0.279124</td>\n",
       "      <td>-0.025759</td>\n",
       "      <td>-0.019803</td>\n",
       "      <td>1.000000</td>\n",
       "      <td>0.159887</td>\n",
       "    </tr>\n",
       "    <tr>\n",
       "      <td>Fare2</td>\n",
       "      <td>-0.002836</td>\n",
       "      <td>0.337733</td>\n",
       "      <td>-0.753221</td>\n",
       "      <td>-0.258126</td>\n",
       "      <td>0.145953</td>\n",
       "      <td>0.780401</td>\n",
       "      <td>0.270842</td>\n",
       "      <td>0.284455</td>\n",
       "      <td>0.346924</td>\n",
       "      <td>0.611551</td>\n",
       "      <td>-0.043186</td>\n",
       "      <td>-0.148858</td>\n",
       "      <td>0.159887</td>\n",
       "      <td>1.000000</td>\n",
       "    </tr>\n",
       "  </tbody>\n",
       "</table>\n",
       "</div>"
      ],
      "text/plain": [
       "              PassengerId  Survived    Pclass       Sex       Age      Fare  \\\n",
       "PassengerId      1.000000 -0.005007 -0.035144  0.042939  0.033423  0.012658   \n",
       "Survived        -0.005007  1.000000 -0.338481 -0.543351 -0.044794  0.257307   \n",
       "Pclass          -0.035144 -0.338481  1.000000  0.131900 -0.402575 -0.549500   \n",
       "Sex              0.042939 -0.543351  0.131900  1.000000  0.094676 -0.182333   \n",
       "Age              0.033423 -0.044794 -0.402575  0.094676  1.000000  0.098743   \n",
       "Fare             0.012658  0.257307 -0.549500 -0.182333  0.098743  1.000000   \n",
       "Embarked        -0.001205  0.168240 -0.243292 -0.082853  0.047999  0.269335   \n",
       "NameLength      -0.012986  0.332350 -0.220001 -0.448759  0.043988  0.155832   \n",
       "FamilySize      -0.040143  0.016639  0.065997 -0.200988 -0.355185  0.217138   \n",
       "CabinExist       0.019919  0.316912 -0.725541 -0.140391  0.265217  0.482075   \n",
       "TicketLength    -0.046022 -0.055331  0.054098  0.080280 -0.020042 -0.016002   \n",
       "NumberTicket     0.072291  0.001492  0.079763 -0.032507 -0.011240 -0.173170   \n",
       "Age2             0.033968 -0.046605 -0.398844  0.105048  0.969017  0.097748   \n",
       "Fare2           -0.002836  0.337733 -0.753221 -0.258126  0.145953  0.780401   \n",
       "\n",
       "              Embarked  NameLength  FamilySize  CabinExist  TicketLength  \\\n",
       "PassengerId  -0.001205   -0.012986   -0.040143    0.019919     -0.046022   \n",
       "Survived      0.168240    0.332350    0.016639    0.316912     -0.055331   \n",
       "Pclass       -0.243292   -0.220001    0.065997   -0.725541      0.054098   \n",
       "Sex          -0.082853   -0.448759   -0.200988   -0.140391      0.080280   \n",
       "Age           0.047999    0.043988   -0.355185    0.265217     -0.020042   \n",
       "Fare          0.269335    0.155832    0.217138    0.482075     -0.016002   \n",
       "Embarked      1.000000    0.027481   -0.046215    0.208528     -0.086939   \n",
       "NameLength    0.027481    1.000000    0.238820    0.190943     -0.017184   \n",
       "FamilySize   -0.046215    0.238820    1.000000   -0.009175     -0.019576   \n",
       "CabinExist    0.208528    0.190943   -0.009175    1.000000     -0.092648   \n",
       "TicketLength -0.086939   -0.017184   -0.019576   -0.092648      1.000000   \n",
       "NumberTicket -0.115615   -0.032901   -0.073068   -0.008180     -0.758299   \n",
       "Age2          0.044692    0.029812   -0.306566    0.279124     -0.025759   \n",
       "Fare2         0.270842    0.284455    0.346924    0.611551     -0.043186   \n",
       "\n",
       "              NumberTicket      Age2     Fare2  \n",
       "PassengerId       0.072291  0.033968 -0.002836  \n",
       "Survived          0.001492 -0.046605  0.337733  \n",
       "Pclass            0.079763 -0.398844 -0.753221  \n",
       "Sex              -0.032507  0.105048 -0.258126  \n",
       "Age              -0.011240  0.969017  0.145953  \n",
       "Fare             -0.173170  0.097748  0.780401  \n",
       "Embarked         -0.115615  0.044692  0.270842  \n",
       "NameLength       -0.032901  0.029812  0.284455  \n",
       "FamilySize       -0.073068 -0.306566  0.346924  \n",
       "CabinExist       -0.008180  0.279124  0.611551  \n",
       "TicketLength     -0.758299 -0.025759 -0.043186  \n",
       "NumberTicket      1.000000 -0.019803 -0.148858  \n",
       "Age2             -0.019803  1.000000  0.159887  \n",
       "Fare2            -0.148858  0.159887  1.000000  "
      ]
     },
     "execution_count": 1402,
     "metadata": {},
     "output_type": "execute_result"
    }
   ],
   "source": [
    "train.corr()"
   ]
  },
  {
   "cell_type": "code",
   "execution_count": null,
   "metadata": {},
   "outputs": [],
   "source": []
  },
  {
   "cell_type": "code",
   "execution_count": null,
   "metadata": {},
   "outputs": [],
   "source": []
  },
  {
   "cell_type": "code",
   "execution_count": null,
   "metadata": {},
   "outputs": [],
   "source": []
  },
  {
   "cell_type": "code",
   "execution_count": 1403,
   "metadata": {},
   "outputs": [],
   "source": [
    "x = train[[\"Sex\", \"Pclass\", \"Fare2\", \"CabinExist\", \"Embarked\"]]\n",
    "y = train[\"Survived\"]"
   ]
  },
  {
   "cell_type": "code",
   "execution_count": 1404,
   "metadata": {},
   "outputs": [
    {
     "name": "stdout",
     "output_type": "stream",
     "text": [
      "[0.73333333 0.78651685 0.85393258 0.84269663 0.74157303 0.78651685\n",
      " 0.75280899 0.78651685 0.84269663 0.80898876]\n"
     ]
    },
    {
     "name": "stderr",
     "output_type": "stream",
     "text": [
      "/Users/skyepodium/opt/anaconda3/lib/python3.7/site-packages/sklearn/ensemble/forest.py:245: FutureWarning: The default value of n_estimators will change from 10 in version 0.20 to 100 in 0.22.\n",
      "  \"10 in version 0.20 to 100 in 0.22.\", FutureWarning)\n"
     ]
    },
    {
     "data": {
      "text/plain": [
       "79.36"
      ]
     },
     "execution_count": 1404,
     "metadata": {},
     "output_type": "execute_result"
    }
   ],
   "source": [
    "lf = RandomForestClassifier()\n",
    "lf.fit(x, y)\n",
    "scoring = 'accuracy'\n",
    "score = cross_val_score(lf, x, y, cv=k_fold, n_jobs=1, scoring=scoring)\n",
    "print(score)\n",
    "\n",
    "round(np.mean(score)*100, 2)"
   ]
  },
  {
   "cell_type": "code",
   "execution_count": 1405,
   "metadata": {},
   "outputs": [
    {
     "name": "stdout",
     "output_type": "stream",
     "text": [
      "[0.7        0.78651685 0.82022472 0.83146067 0.78651685 0.7752809\n",
      " 0.73033708 0.79775281 0.84269663 0.75280899]\n"
     ]
    },
    {
     "data": {
      "text/plain": [
       "78.24"
      ]
     },
     "execution_count": 1405,
     "metadata": {},
     "output_type": "execute_result"
    }
   ],
   "source": [
    "lf = KNeighborsClassifier()\n",
    "lf.fit(x, y)\n",
    "scoring = 'accuracy'\n",
    "score = cross_val_score(lf, x, y, cv=k_fold, n_jobs=1, scoring=scoring)\n",
    "print(score)\n",
    "\n",
    "round(np.mean(score)*100, 2)"
   ]
  },
  {
   "cell_type": "code",
   "execution_count": 1406,
   "metadata": {},
   "outputs": [
    {
     "name": "stdout",
     "output_type": "stream",
     "text": [
      "[0.74444444 0.78651685 0.87640449 0.84269663 0.75280899 0.78651685\n",
      " 0.75280899 0.78651685 0.78651685 0.78651685]\n"
     ]
    },
    {
     "data": {
      "text/plain": [
       "79.02"
      ]
     },
     "execution_count": 1406,
     "metadata": {},
     "output_type": "execute_result"
    }
   ],
   "source": [
    "lf = DecisionTreeClassifier()\n",
    "lf.fit(x, y)\n",
    "scoring = 'accuracy'\n",
    "score = cross_val_score(lf, x, y, cv=k_fold, n_jobs=1, scoring=scoring)\n",
    "print(score)\n",
    "\n",
    "round(np.mean(score)*100, 2)"
   ]
  },
  {
   "cell_type": "code",
   "execution_count": 1407,
   "metadata": {},
   "outputs": [
    {
     "name": "stdout",
     "output_type": "stream",
     "text": [
      "[0.7        0.80898876 0.83146067 0.79775281 0.70786517 0.73033708\n",
      " 0.73033708 0.76404494 0.6741573  0.71910112]\n"
     ]
    },
    {
     "data": {
      "text/plain": [
       "74.64"
      ]
     },
     "execution_count": 1407,
     "metadata": {},
     "output_type": "execute_result"
    }
   ],
   "source": [
    "lf = GaussianNB()\n",
    "lf.fit(x, y)\n",
    "scoring = 'accuracy'\n",
    "score = cross_val_score(lf, x, y, cv=k_fold, n_jobs=1, scoring=scoring)\n",
    "print(score)\n",
    "\n",
    "round(np.mean(score)*100, 2)"
   ]
  },
  {
   "cell_type": "code",
   "execution_count": 1408,
   "metadata": {},
   "outputs": [
    {
     "name": "stdout",
     "output_type": "stream",
     "text": [
      "[0.75555556 0.80898876 0.86516854 0.84269663 0.78651685 0.80898876\n",
      " 0.75280899 0.80898876 0.83146067 0.82022472]\n"
     ]
    },
    {
     "name": "stderr",
     "output_type": "stream",
     "text": [
      "/Users/skyepodium/opt/anaconda3/lib/python3.7/site-packages/sklearn/svm/base.py:193: FutureWarning: The default value of gamma will change from 'auto' to 'scale' in version 0.22 to account better for unscaled features. Set gamma explicitly to 'auto' or 'scale' to avoid this warning.\n",
      "  \"avoid this warning.\", FutureWarning)\n",
      "/Users/skyepodium/opt/anaconda3/lib/python3.7/site-packages/sklearn/svm/base.py:193: FutureWarning: The default value of gamma will change from 'auto' to 'scale' in version 0.22 to account better for unscaled features. Set gamma explicitly to 'auto' or 'scale' to avoid this warning.\n",
      "  \"avoid this warning.\", FutureWarning)\n",
      "/Users/skyepodium/opt/anaconda3/lib/python3.7/site-packages/sklearn/svm/base.py:193: FutureWarning: The default value of gamma will change from 'auto' to 'scale' in version 0.22 to account better for unscaled features. Set gamma explicitly to 'auto' or 'scale' to avoid this warning.\n",
      "  \"avoid this warning.\", FutureWarning)\n",
      "/Users/skyepodium/opt/anaconda3/lib/python3.7/site-packages/sklearn/svm/base.py:193: FutureWarning: The default value of gamma will change from 'auto' to 'scale' in version 0.22 to account better for unscaled features. Set gamma explicitly to 'auto' or 'scale' to avoid this warning.\n",
      "  \"avoid this warning.\", FutureWarning)\n",
      "/Users/skyepodium/opt/anaconda3/lib/python3.7/site-packages/sklearn/svm/base.py:193: FutureWarning: The default value of gamma will change from 'auto' to 'scale' in version 0.22 to account better for unscaled features. Set gamma explicitly to 'auto' or 'scale' to avoid this warning.\n",
      "  \"avoid this warning.\", FutureWarning)\n",
      "/Users/skyepodium/opt/anaconda3/lib/python3.7/site-packages/sklearn/svm/base.py:193: FutureWarning: The default value of gamma will change from 'auto' to 'scale' in version 0.22 to account better for unscaled features. Set gamma explicitly to 'auto' or 'scale' to avoid this warning.\n",
      "  \"avoid this warning.\", FutureWarning)\n",
      "/Users/skyepodium/opt/anaconda3/lib/python3.7/site-packages/sklearn/svm/base.py:193: FutureWarning: The default value of gamma will change from 'auto' to 'scale' in version 0.22 to account better for unscaled features. Set gamma explicitly to 'auto' or 'scale' to avoid this warning.\n",
      "  \"avoid this warning.\", FutureWarning)\n",
      "/Users/skyepodium/opt/anaconda3/lib/python3.7/site-packages/sklearn/svm/base.py:193: FutureWarning: The default value of gamma will change from 'auto' to 'scale' in version 0.22 to account better for unscaled features. Set gamma explicitly to 'auto' or 'scale' to avoid this warning.\n",
      "  \"avoid this warning.\", FutureWarning)\n",
      "/Users/skyepodium/opt/anaconda3/lib/python3.7/site-packages/sklearn/svm/base.py:193: FutureWarning: The default value of gamma will change from 'auto' to 'scale' in version 0.22 to account better for unscaled features. Set gamma explicitly to 'auto' or 'scale' to avoid this warning.\n",
      "  \"avoid this warning.\", FutureWarning)\n",
      "/Users/skyepodium/opt/anaconda3/lib/python3.7/site-packages/sklearn/svm/base.py:193: FutureWarning: The default value of gamma will change from 'auto' to 'scale' in version 0.22 to account better for unscaled features. Set gamma explicitly to 'auto' or 'scale' to avoid this warning.\n",
      "  \"avoid this warning.\", FutureWarning)\n",
      "/Users/skyepodium/opt/anaconda3/lib/python3.7/site-packages/sklearn/svm/base.py:193: FutureWarning: The default value of gamma will change from 'auto' to 'scale' in version 0.22 to account better for unscaled features. Set gamma explicitly to 'auto' or 'scale' to avoid this warning.\n",
      "  \"avoid this warning.\", FutureWarning)\n"
     ]
    },
    {
     "data": {
      "text/plain": [
       "80.81"
      ]
     },
     "execution_count": 1408,
     "metadata": {},
     "output_type": "execute_result"
    }
   ],
   "source": [
    "lf = SVC()\n",
    "lf.fit(x, y)\n",
    "scoring = 'accuracy'\n",
    "score = cross_val_score(lf, x, y, cv=k_fold, n_jobs=1, scoring=scoring)\n",
    "print(score)\n",
    "\n",
    "round(np.mean(score)*100, 2)"
   ]
  },
  {
   "cell_type": "code",
   "execution_count": 1409,
   "metadata": {},
   "outputs": [
    {
     "name": "stderr",
     "output_type": "stream",
     "text": [
      "/Users/skyepodium/opt/anaconda3/lib/python3.7/site-packages/sklearn/linear_model/logistic.py:432: FutureWarning: Default solver will be changed to 'lbfgs' in 0.22. Specify a solver to silence this warning.\n",
      "  FutureWarning)\n",
      "/Users/skyepodium/opt/anaconda3/lib/python3.7/site-packages/sklearn/linear_model/logistic.py:432: FutureWarning: Default solver will be changed to 'lbfgs' in 0.22. Specify a solver to silence this warning.\n",
      "  FutureWarning)\n",
      "/Users/skyepodium/opt/anaconda3/lib/python3.7/site-packages/sklearn/linear_model/logistic.py:432: FutureWarning: Default solver will be changed to 'lbfgs' in 0.22. Specify a solver to silence this warning.\n",
      "  FutureWarning)\n",
      "/Users/skyepodium/opt/anaconda3/lib/python3.7/site-packages/sklearn/linear_model/logistic.py:432: FutureWarning: Default solver will be changed to 'lbfgs' in 0.22. Specify a solver to silence this warning.\n",
      "  FutureWarning)\n",
      "/Users/skyepodium/opt/anaconda3/lib/python3.7/site-packages/sklearn/linear_model/logistic.py:432: FutureWarning: Default solver will be changed to 'lbfgs' in 0.22. Specify a solver to silence this warning.\n",
      "  FutureWarning)\n",
      "/Users/skyepodium/opt/anaconda3/lib/python3.7/site-packages/sklearn/linear_model/logistic.py:432: FutureWarning: Default solver will be changed to 'lbfgs' in 0.22. Specify a solver to silence this warning.\n",
      "  FutureWarning)\n",
      "/Users/skyepodium/opt/anaconda3/lib/python3.7/site-packages/sklearn/linear_model/logistic.py:432: FutureWarning: Default solver will be changed to 'lbfgs' in 0.22. Specify a solver to silence this warning.\n",
      "  FutureWarning)\n",
      "/Users/skyepodium/opt/anaconda3/lib/python3.7/site-packages/sklearn/linear_model/logistic.py:432: FutureWarning: Default solver will be changed to 'lbfgs' in 0.22. Specify a solver to silence this warning.\n",
      "  FutureWarning)\n"
     ]
    },
    {
     "name": "stdout",
     "output_type": "stream",
     "text": [
      "[0.74444444 0.79775281 0.85393258 0.80898876 0.75280899 0.79775281\n",
      " 0.74157303 0.78651685 0.80898876 0.78651685]\n"
     ]
    },
    {
     "name": "stderr",
     "output_type": "stream",
     "text": [
      "/Users/skyepodium/opt/anaconda3/lib/python3.7/site-packages/sklearn/linear_model/logistic.py:432: FutureWarning: Default solver will be changed to 'lbfgs' in 0.22. Specify a solver to silence this warning.\n",
      "  FutureWarning)\n",
      "/Users/skyepodium/opt/anaconda3/lib/python3.7/site-packages/sklearn/linear_model/logistic.py:432: FutureWarning: Default solver will be changed to 'lbfgs' in 0.22. Specify a solver to silence this warning.\n",
      "  FutureWarning)\n",
      "/Users/skyepodium/opt/anaconda3/lib/python3.7/site-packages/sklearn/linear_model/logistic.py:432: FutureWarning: Default solver will be changed to 'lbfgs' in 0.22. Specify a solver to silence this warning.\n",
      "  FutureWarning)\n"
     ]
    },
    {
     "data": {
      "text/plain": [
       "78.79"
      ]
     },
     "execution_count": 1409,
     "metadata": {},
     "output_type": "execute_result"
    }
   ],
   "source": [
    "lf = LogisticRegression()\n",
    "lf.fit(x, y)\n",
    "scoring = 'accuracy'\n",
    "score = cross_val_score(lf, x, y, cv=k_fold, n_jobs=1, scoring=scoring)\n",
    "print(score)\n",
    "\n",
    "round(np.mean(score)*100, 2)"
   ]
  },
  {
   "cell_type": "code",
   "execution_count": null,
   "metadata": {},
   "outputs": [],
   "source": []
  },
  {
   "cell_type": "code",
   "execution_count": 1410,
   "metadata": {},
   "outputs": [
    {
     "data": {
      "text/plain": [
       "PassengerId      0\n",
       "Pclass           0\n",
       "Name             0\n",
       "Sex              0\n",
       "Age             86\n",
       "SibSp            0\n",
       "Parch            0\n",
       "Ticket           0\n",
       "Fare             1\n",
       "Cabin          327\n",
       "Embarked         0\n",
       "dtype: int64"
      ]
     },
     "execution_count": 1410,
     "metadata": {},
     "output_type": "execute_result"
    }
   ],
   "source": [
    "test.isnull().sum()"
   ]
  },
  {
   "cell_type": "code",
   "execution_count": 1411,
   "metadata": {},
   "outputs": [],
   "source": [
    "test[\"Fare\"].fillna(\"14\", inplace=True)"
   ]
  },
  {
   "cell_type": "code",
   "execution_count": 1412,
   "metadata": {},
   "outputs": [],
   "source": [
    "test[\"FamilySize\"] = test[\"SibSp\"] + test[\"Parch\"]\n",
    "test = test.drop([\"SibSp\", \"Parch\"], axis=1)"
   ]
  },
  {
   "cell_type": "code",
   "execution_count": 1413,
   "metadata": {},
   "outputs": [],
   "source": [
    "TicketLength = []\n",
    "for ticket in test[\"Ticket\"]:\n",
    "    TicketLength.append(len(ticket))\n",
    "test[\"TicketLength\"] = TicketLength"
   ]
  },
  {
   "cell_type": "code",
   "execution_count": 1414,
   "metadata": {},
   "outputs": [],
   "source": [
    "CabinExist = []\n",
    "cnt = 0\n",
    "for cabin in test[\"Cabin\"]:\n",
    "    result = 0\n",
    "    if type(cabin) is str:\n",
    "        result = 1\n",
    "    CabinExist.append(result)\n",
    "test[\"CabinExist\"] = CabinExist\n",
    "test = test.drop([\"Cabin\"], axis=1)"
   ]
  },
  {
   "cell_type": "code",
   "execution_count": 1415,
   "metadata": {},
   "outputs": [],
   "source": [
    "SexList = []\n",
    "for sex in test[\"Sex\"]:\n",
    "    result = 0\n",
    "    if sex == \"male\":\n",
    "        result = 1\n",
    "    SexList.append(result)\n",
    "test[\"Sex\"] = SexList"
   ]
  },
  {
   "cell_type": "code",
   "execution_count": 1416,
   "metadata": {},
   "outputs": [],
   "source": [
    "EmbarkedList = []\n",
    "for embarked in test[\"Embarked\"]:\n",
    "    result = 3\n",
    "    if embarked == \"Q\":\n",
    "        result = 0\n",
    "    elif embarked == \"C\":\n",
    "        result = 1\n",
    "    else:\n",
    "        result = 0\n",
    "    EmbarkedList.append(result)\n",
    "test[\"Embarked\"] = EmbarkedList"
   ]
  },
  {
   "cell_type": "code",
   "execution_count": 1417,
   "metadata": {},
   "outputs": [],
   "source": [
    "nameLength = []\n",
    "for name in test[\"Name\"]:\n",
    "    nameLength.append(len(name))\n",
    "test[\"NameLength\"] = nameLength"
   ]
  },
  {
   "cell_type": "code",
   "execution_count": null,
   "metadata": {},
   "outputs": [],
   "source": []
  },
  {
   "cell_type": "code",
   "execution_count": 1418,
   "metadata": {},
   "outputs": [],
   "source": [
    "test_age_no = test[test[\"Age\"].isnull()]\n",
    "test_age_yes = test[test[\"Age\"].notnull()]"
   ]
  },
  {
   "cell_type": "code",
   "execution_count": 1419,
   "metadata": {},
   "outputs": [],
   "source": [
    "age_predict = lm.predict(test_age_no[[\"Pclass\", \"FamilySize\", \"CabinExist\"]])"
   ]
  },
  {
   "cell_type": "code",
   "execution_count": 1420,
   "metadata": {},
   "outputs": [
    {
     "name": "stderr",
     "output_type": "stream",
     "text": [
      "/Users/skyepodium/opt/anaconda3/lib/python3.7/site-packages/ipykernel_launcher.py:1: SettingWithCopyWarning: \n",
      "A value is trying to be set on a copy of a slice from a DataFrame.\n",
      "Try using .loc[row_indexer,col_indexer] = value instead\n",
      "\n",
      "See the caveats in the documentation: http://pandas.pydata.org/pandas-docs/stable/user_guide/indexing.html#returning-a-view-versus-a-copy\n",
      "  \"\"\"Entry point for launching an IPython kernel.\n"
     ]
    }
   ],
   "source": [
    "test_age_no[\"Age\"] = age_predict"
   ]
  },
  {
   "cell_type": "code",
   "execution_count": 1421,
   "metadata": {},
   "outputs": [],
   "source": [
    "test = pd.concat([test_age_no, test_age_yes])"
   ]
  },
  {
   "cell_type": "code",
   "execution_count": 1422,
   "metadata": {},
   "outputs": [
    {
     "data": {
      "text/html": [
       "<div>\n",
       "<style scoped>\n",
       "    .dataframe tbody tr th:only-of-type {\n",
       "        vertical-align: middle;\n",
       "    }\n",
       "\n",
       "    .dataframe tbody tr th {\n",
       "        vertical-align: top;\n",
       "    }\n",
       "\n",
       "    .dataframe thead th {\n",
       "        text-align: right;\n",
       "    }\n",
       "</style>\n",
       "<table border=\"1\" class=\"dataframe\">\n",
       "  <thead>\n",
       "    <tr style=\"text-align: right;\">\n",
       "      <th></th>\n",
       "      <th>PassengerId</th>\n",
       "      <th>Pclass</th>\n",
       "      <th>Name</th>\n",
       "      <th>Sex</th>\n",
       "      <th>Age</th>\n",
       "      <th>Ticket</th>\n",
       "      <th>Fare</th>\n",
       "      <th>Embarked</th>\n",
       "      <th>FamilySize</th>\n",
       "      <th>TicketLength</th>\n",
       "      <th>CabinExist</th>\n",
       "      <th>NameLength</th>\n",
       "    </tr>\n",
       "  </thead>\n",
       "  <tbody>\n",
       "    <tr>\n",
       "      <td>10</td>\n",
       "      <td>902</td>\n",
       "      <td>3</td>\n",
       "      <td>Ilieff, Mr. Ylio</td>\n",
       "      <td>1</td>\n",
       "      <td>27.586516</td>\n",
       "      <td>349220</td>\n",
       "      <td>7.8958</td>\n",
       "      <td>0</td>\n",
       "      <td>0</td>\n",
       "      <td>6</td>\n",
       "      <td>0</td>\n",
       "      <td>16</td>\n",
       "    </tr>\n",
       "    <tr>\n",
       "      <td>22</td>\n",
       "      <td>914</td>\n",
       "      <td>1</td>\n",
       "      <td>Flegenheim, Mrs. Alfred (Antoinette)</td>\n",
       "      <td>0</td>\n",
       "      <td>40.570481</td>\n",
       "      <td>PC 17598</td>\n",
       "      <td>31.6833</td>\n",
       "      <td>0</td>\n",
       "      <td>0</td>\n",
       "      <td>8</td>\n",
       "      <td>0</td>\n",
       "      <td>36</td>\n",
       "    </tr>\n",
       "    <tr>\n",
       "      <td>29</td>\n",
       "      <td>921</td>\n",
       "      <td>3</td>\n",
       "      <td>Samaan, Mr. Elias</td>\n",
       "      <td>1</td>\n",
       "      <td>22.089172</td>\n",
       "      <td>2662</td>\n",
       "      <td>21.6792</td>\n",
       "      <td>1</td>\n",
       "      <td>2</td>\n",
       "      <td>4</td>\n",
       "      <td>0</td>\n",
       "      <td>17</td>\n",
       "    </tr>\n",
       "    <tr>\n",
       "      <td>33</td>\n",
       "      <td>925</td>\n",
       "      <td>3</td>\n",
       "      <td>Johnston, Mrs. Andrew G (Elizabeth Lily\" Watson)\"</td>\n",
       "      <td>0</td>\n",
       "      <td>19.340500</td>\n",
       "      <td>W./C. 6607</td>\n",
       "      <td>23.45</td>\n",
       "      <td>0</td>\n",
       "      <td>3</td>\n",
       "      <td>10</td>\n",
       "      <td>0</td>\n",
       "      <td>49</td>\n",
       "    </tr>\n",
       "    <tr>\n",
       "      <td>36</td>\n",
       "      <td>928</td>\n",
       "      <td>3</td>\n",
       "      <td>Roth, Miss. Sarah A</td>\n",
       "      <td>0</td>\n",
       "      <td>27.586516</td>\n",
       "      <td>342712</td>\n",
       "      <td>8.05</td>\n",
       "      <td>0</td>\n",
       "      <td>0</td>\n",
       "      <td>6</td>\n",
       "      <td>0</td>\n",
       "      <td>19</td>\n",
       "    </tr>\n",
       "  </tbody>\n",
       "</table>\n",
       "</div>"
      ],
      "text/plain": [
       "    PassengerId  Pclass                                               Name  \\\n",
       "10          902       3                                   Ilieff, Mr. Ylio   \n",
       "22          914       1               Flegenheim, Mrs. Alfred (Antoinette)   \n",
       "29          921       3                                  Samaan, Mr. Elias   \n",
       "33          925       3  Johnston, Mrs. Andrew G (Elizabeth Lily\" Watson)\"   \n",
       "36          928       3                                Roth, Miss. Sarah A   \n",
       "\n",
       "    Sex        Age      Ticket     Fare  Embarked  FamilySize  TicketLength  \\\n",
       "10    1  27.586516      349220   7.8958         0           0             6   \n",
       "22    0  40.570481    PC 17598  31.6833         0           0             8   \n",
       "29    1  22.089172        2662  21.6792         1           2             4   \n",
       "33    0  19.340500  W./C. 6607    23.45         0           3            10   \n",
       "36    0  27.586516      342712     8.05         0           0             6   \n",
       "\n",
       "    CabinExist  NameLength  \n",
       "10           0          16  \n",
       "22           0          36  \n",
       "29           0          17  \n",
       "33           0          49  \n",
       "36           0          19  "
      ]
     },
     "execution_count": 1422,
     "metadata": {},
     "output_type": "execute_result"
    }
   ],
   "source": [
    "test.head()"
   ]
  },
  {
   "cell_type": "code",
   "execution_count": null,
   "metadata": {},
   "outputs": [],
   "source": []
  },
  {
   "cell_type": "code",
   "execution_count": 1423,
   "metadata": {},
   "outputs": [],
   "source": [
    "FareList = []\n",
    "for age in test[\"Fare\"]:\n",
    "    age = int(age)\n",
    "    result = 0\n",
    "    if age > 100:\n",
    "        result = 6    \n",
    "    elif age > 70:\n",
    "        result = 5        \n",
    "    elif age > 40:\n",
    "        result = 4\n",
    "    elif age > 25:\n",
    "        result = 3\n",
    "    elif age > 10:\n",
    "        result = 2\n",
    "    elif age > 5:\n",
    "        result = 1\n",
    "    else:\n",
    "        result = 0\n",
    "    FareList.append(result)\n",
    "test[\"Fare2\"] = FareList"
   ]
  },
  {
   "cell_type": "code",
   "execution_count": 1424,
   "metadata": {},
   "outputs": [],
   "source": [
    "AgeList = []\n",
    "for age in test[\"Age\"]:\n",
    "    result = 0\n",
    "    if age > 65:\n",
    "        result = 6        \n",
    "    elif age > 55:\n",
    "        result = 5        \n",
    "    elif age > 45:\n",
    "        result = 4        \n",
    "    elif age > 35:\n",
    "        result = 3        \n",
    "    elif age > 25:\n",
    "        result = 2   \n",
    "    elif age > 15:\n",
    "        result = 1\n",
    "    else:\n",
    "        result = 0\n",
    "    AgeList.append(result)\n",
    "test[\"Age2\"] = AgeList"
   ]
  },
  {
   "cell_type": "code",
   "execution_count": 1425,
   "metadata": {},
   "outputs": [
    {
     "data": {
      "text/html": [
       "<div>\n",
       "<style scoped>\n",
       "    .dataframe tbody tr th:only-of-type {\n",
       "        vertical-align: middle;\n",
       "    }\n",
       "\n",
       "    .dataframe tbody tr th {\n",
       "        vertical-align: top;\n",
       "    }\n",
       "\n",
       "    .dataframe thead th {\n",
       "        text-align: right;\n",
       "    }\n",
       "</style>\n",
       "<table border=\"1\" class=\"dataframe\">\n",
       "  <thead>\n",
       "    <tr style=\"text-align: right;\">\n",
       "      <th></th>\n",
       "      <th>PassengerId</th>\n",
       "      <th>Pclass</th>\n",
       "      <th>Name</th>\n",
       "      <th>Sex</th>\n",
       "      <th>Age</th>\n",
       "      <th>Ticket</th>\n",
       "      <th>Fare</th>\n",
       "      <th>Embarked</th>\n",
       "      <th>FamilySize</th>\n",
       "      <th>TicketLength</th>\n",
       "      <th>CabinExist</th>\n",
       "      <th>NameLength</th>\n",
       "      <th>Fare2</th>\n",
       "      <th>Age2</th>\n",
       "    </tr>\n",
       "  </thead>\n",
       "  <tbody>\n",
       "    <tr>\n",
       "      <td>10</td>\n",
       "      <td>902</td>\n",
       "      <td>3</td>\n",
       "      <td>Ilieff, Mr. Ylio</td>\n",
       "      <td>1</td>\n",
       "      <td>27.586516</td>\n",
       "      <td>349220</td>\n",
       "      <td>7.8958</td>\n",
       "      <td>0</td>\n",
       "      <td>0</td>\n",
       "      <td>6</td>\n",
       "      <td>0</td>\n",
       "      <td>16</td>\n",
       "      <td>1</td>\n",
       "      <td>2</td>\n",
       "    </tr>\n",
       "    <tr>\n",
       "      <td>22</td>\n",
       "      <td>914</td>\n",
       "      <td>1</td>\n",
       "      <td>Flegenheim, Mrs. Alfred (Antoinette)</td>\n",
       "      <td>0</td>\n",
       "      <td>40.570481</td>\n",
       "      <td>PC 17598</td>\n",
       "      <td>31.6833</td>\n",
       "      <td>0</td>\n",
       "      <td>0</td>\n",
       "      <td>8</td>\n",
       "      <td>0</td>\n",
       "      <td>36</td>\n",
       "      <td>3</td>\n",
       "      <td>3</td>\n",
       "    </tr>\n",
       "    <tr>\n",
       "      <td>29</td>\n",
       "      <td>921</td>\n",
       "      <td>3</td>\n",
       "      <td>Samaan, Mr. Elias</td>\n",
       "      <td>1</td>\n",
       "      <td>22.089172</td>\n",
       "      <td>2662</td>\n",
       "      <td>21.6792</td>\n",
       "      <td>1</td>\n",
       "      <td>2</td>\n",
       "      <td>4</td>\n",
       "      <td>0</td>\n",
       "      <td>17</td>\n",
       "      <td>2</td>\n",
       "      <td>1</td>\n",
       "    </tr>\n",
       "    <tr>\n",
       "      <td>33</td>\n",
       "      <td>925</td>\n",
       "      <td>3</td>\n",
       "      <td>Johnston, Mrs. Andrew G (Elizabeth Lily\" Watson)\"</td>\n",
       "      <td>0</td>\n",
       "      <td>19.340500</td>\n",
       "      <td>W./C. 6607</td>\n",
       "      <td>23.45</td>\n",
       "      <td>0</td>\n",
       "      <td>3</td>\n",
       "      <td>10</td>\n",
       "      <td>0</td>\n",
       "      <td>49</td>\n",
       "      <td>2</td>\n",
       "      <td>1</td>\n",
       "    </tr>\n",
       "    <tr>\n",
       "      <td>36</td>\n",
       "      <td>928</td>\n",
       "      <td>3</td>\n",
       "      <td>Roth, Miss. Sarah A</td>\n",
       "      <td>0</td>\n",
       "      <td>27.586516</td>\n",
       "      <td>342712</td>\n",
       "      <td>8.05</td>\n",
       "      <td>0</td>\n",
       "      <td>0</td>\n",
       "      <td>6</td>\n",
       "      <td>0</td>\n",
       "      <td>19</td>\n",
       "      <td>1</td>\n",
       "      <td>2</td>\n",
       "    </tr>\n",
       "  </tbody>\n",
       "</table>\n",
       "</div>"
      ],
      "text/plain": [
       "    PassengerId  Pclass                                               Name  \\\n",
       "10          902       3                                   Ilieff, Mr. Ylio   \n",
       "22          914       1               Flegenheim, Mrs. Alfred (Antoinette)   \n",
       "29          921       3                                  Samaan, Mr. Elias   \n",
       "33          925       3  Johnston, Mrs. Andrew G (Elizabeth Lily\" Watson)\"   \n",
       "36          928       3                                Roth, Miss. Sarah A   \n",
       "\n",
       "    Sex        Age      Ticket     Fare  Embarked  FamilySize  TicketLength  \\\n",
       "10    1  27.586516      349220   7.8958         0           0             6   \n",
       "22    0  40.570481    PC 17598  31.6833         0           0             8   \n",
       "29    1  22.089172        2662  21.6792         1           2             4   \n",
       "33    0  19.340500  W./C. 6607    23.45         0           3            10   \n",
       "36    0  27.586516      342712     8.05         0           0             6   \n",
       "\n",
       "    CabinExist  NameLength  Fare2  Age2  \n",
       "10           0          16      1     2  \n",
       "22           0          36      3     3  \n",
       "29           0          17      2     1  \n",
       "33           0          49      2     1  \n",
       "36           0          19      1     2  "
      ]
     },
     "execution_count": 1425,
     "metadata": {},
     "output_type": "execute_result"
    }
   ],
   "source": [
    "test.head()"
   ]
  },
  {
   "cell_type": "code",
   "execution_count": 1426,
   "metadata": {},
   "outputs": [],
   "source": [
    "x_test = test[[\"Pclass\", \"Sex\", \"Fare2\", \"CabinExist\", \"Embarked\"]]"
   ]
  },
  {
   "cell_type": "code",
   "execution_count": 1427,
   "metadata": {},
   "outputs": [
    {
     "name": "stdout",
     "output_type": "stream",
     "text": [
      "[0.75555556 0.80898876 0.86516854 0.84269663 0.78651685 0.80898876\n",
      " 0.75280899 0.80898876 0.83146067 0.82022472]\n"
     ]
    },
    {
     "name": "stderr",
     "output_type": "stream",
     "text": [
      "/Users/skyepodium/opt/anaconda3/lib/python3.7/site-packages/sklearn/svm/base.py:193: FutureWarning: The default value of gamma will change from 'auto' to 'scale' in version 0.22 to account better for unscaled features. Set gamma explicitly to 'auto' or 'scale' to avoid this warning.\n",
      "  \"avoid this warning.\", FutureWarning)\n",
      "/Users/skyepodium/opt/anaconda3/lib/python3.7/site-packages/sklearn/svm/base.py:193: FutureWarning: The default value of gamma will change from 'auto' to 'scale' in version 0.22 to account better for unscaled features. Set gamma explicitly to 'auto' or 'scale' to avoid this warning.\n",
      "  \"avoid this warning.\", FutureWarning)\n",
      "/Users/skyepodium/opt/anaconda3/lib/python3.7/site-packages/sklearn/svm/base.py:193: FutureWarning: The default value of gamma will change from 'auto' to 'scale' in version 0.22 to account better for unscaled features. Set gamma explicitly to 'auto' or 'scale' to avoid this warning.\n",
      "  \"avoid this warning.\", FutureWarning)\n",
      "/Users/skyepodium/opt/anaconda3/lib/python3.7/site-packages/sklearn/svm/base.py:193: FutureWarning: The default value of gamma will change from 'auto' to 'scale' in version 0.22 to account better for unscaled features. Set gamma explicitly to 'auto' or 'scale' to avoid this warning.\n",
      "  \"avoid this warning.\", FutureWarning)\n",
      "/Users/skyepodium/opt/anaconda3/lib/python3.7/site-packages/sklearn/svm/base.py:193: FutureWarning: The default value of gamma will change from 'auto' to 'scale' in version 0.22 to account better for unscaled features. Set gamma explicitly to 'auto' or 'scale' to avoid this warning.\n",
      "  \"avoid this warning.\", FutureWarning)\n",
      "/Users/skyepodium/opt/anaconda3/lib/python3.7/site-packages/sklearn/svm/base.py:193: FutureWarning: The default value of gamma will change from 'auto' to 'scale' in version 0.22 to account better for unscaled features. Set gamma explicitly to 'auto' or 'scale' to avoid this warning.\n",
      "  \"avoid this warning.\", FutureWarning)\n",
      "/Users/skyepodium/opt/anaconda3/lib/python3.7/site-packages/sklearn/svm/base.py:193: FutureWarning: The default value of gamma will change from 'auto' to 'scale' in version 0.22 to account better for unscaled features. Set gamma explicitly to 'auto' or 'scale' to avoid this warning.\n",
      "  \"avoid this warning.\", FutureWarning)\n",
      "/Users/skyepodium/opt/anaconda3/lib/python3.7/site-packages/sklearn/svm/base.py:193: FutureWarning: The default value of gamma will change from 'auto' to 'scale' in version 0.22 to account better for unscaled features. Set gamma explicitly to 'auto' or 'scale' to avoid this warning.\n",
      "  \"avoid this warning.\", FutureWarning)\n",
      "/Users/skyepodium/opt/anaconda3/lib/python3.7/site-packages/sklearn/svm/base.py:193: FutureWarning: The default value of gamma will change from 'auto' to 'scale' in version 0.22 to account better for unscaled features. Set gamma explicitly to 'auto' or 'scale' to avoid this warning.\n",
      "  \"avoid this warning.\", FutureWarning)\n",
      "/Users/skyepodium/opt/anaconda3/lib/python3.7/site-packages/sklearn/svm/base.py:193: FutureWarning: The default value of gamma will change from 'auto' to 'scale' in version 0.22 to account better for unscaled features. Set gamma explicitly to 'auto' or 'scale' to avoid this warning.\n",
      "  \"avoid this warning.\", FutureWarning)\n",
      "/Users/skyepodium/opt/anaconda3/lib/python3.7/site-packages/sklearn/svm/base.py:193: FutureWarning: The default value of gamma will change from 'auto' to 'scale' in version 0.22 to account better for unscaled features. Set gamma explicitly to 'auto' or 'scale' to avoid this warning.\n",
      "  \"avoid this warning.\", FutureWarning)\n"
     ]
    },
    {
     "data": {
      "text/plain": [
       "80.81"
      ]
     },
     "execution_count": 1427,
     "metadata": {},
     "output_type": "execute_result"
    }
   ],
   "source": [
    "lf = SVC()\n",
    "lf.fit(x, y)\n",
    "scoring = 'accuracy'\n",
    "score = cross_val_score(lf, x, y, cv=k_fold, n_jobs=1, scoring=scoring)\n",
    "print(score)\n",
    "\n",
    "round(np.mean(score)*100, 2)"
   ]
  },
  {
   "cell_type": "code",
   "execution_count": 1428,
   "metadata": {},
   "outputs": [],
   "source": [
    "result = lf.predict(x_test)"
   ]
  },
  {
   "cell_type": "code",
   "execution_count": 1429,
   "metadata": {},
   "outputs": [],
   "source": [
    "submission = pd.DataFrame({\n",
    "    \"PassengerId\": test[\"PassengerId\"],\n",
    "    \"Survived\": result\n",
    "})\n",
    "submission.to_csv('03142140.csv', index=False)  "
   ]
  },
  {
   "cell_type": "code",
   "execution_count": 1430,
   "metadata": {},
   "outputs": [
    {
     "data": {
      "text/html": [
       "<div>\n",
       "<style scoped>\n",
       "    .dataframe tbody tr th:only-of-type {\n",
       "        vertical-align: middle;\n",
       "    }\n",
       "\n",
       "    .dataframe tbody tr th {\n",
       "        vertical-align: top;\n",
       "    }\n",
       "\n",
       "    .dataframe thead th {\n",
       "        text-align: right;\n",
       "    }\n",
       "</style>\n",
       "<table border=\"1\" class=\"dataframe\">\n",
       "  <thead>\n",
       "    <tr style=\"text-align: right;\">\n",
       "      <th></th>\n",
       "      <th>PassengerId</th>\n",
       "      <th>Survived</th>\n",
       "    </tr>\n",
       "  </thead>\n",
       "  <tbody>\n",
       "    <tr>\n",
       "      <td>10</td>\n",
       "      <td>902</td>\n",
       "      <td>0</td>\n",
       "    </tr>\n",
       "    <tr>\n",
       "      <td>22</td>\n",
       "      <td>914</td>\n",
       "      <td>0</td>\n",
       "    </tr>\n",
       "    <tr>\n",
       "      <td>29</td>\n",
       "      <td>921</td>\n",
       "      <td>0</td>\n",
       "    </tr>\n",
       "    <tr>\n",
       "      <td>33</td>\n",
       "      <td>925</td>\n",
       "      <td>0</td>\n",
       "    </tr>\n",
       "    <tr>\n",
       "      <td>36</td>\n",
       "      <td>928</td>\n",
       "      <td>0</td>\n",
       "    </tr>\n",
       "  </tbody>\n",
       "</table>\n",
       "</div>"
      ],
      "text/plain": [
       "    PassengerId  Survived\n",
       "10          902         0\n",
       "22          914         0\n",
       "29          921         0\n",
       "33          925         0\n",
       "36          928         0"
      ]
     },
     "execution_count": 1430,
     "metadata": {},
     "output_type": "execute_result"
    }
   ],
   "source": [
    "submission.head()"
   ]
  },
  {
   "cell_type": "code",
   "execution_count": null,
   "metadata": {},
   "outputs": [],
   "source": []
  },
  {
   "cell_type": "code",
   "execution_count": null,
   "metadata": {},
   "outputs": [],
   "source": []
  },
  {
   "cell_type": "code",
   "execution_count": null,
   "metadata": {},
   "outputs": [],
   "source": []
  },
  {
   "cell_type": "code",
   "execution_count": null,
   "metadata": {},
   "outputs": [],
   "source": []
  },
  {
   "cell_type": "code",
   "execution_count": null,
   "metadata": {},
   "outputs": [],
   "source": []
  },
  {
   "cell_type": "code",
   "execution_count": null,
   "metadata": {},
   "outputs": [],
   "source": []
  },
  {
   "cell_type": "code",
   "execution_count": null,
   "metadata": {},
   "outputs": [],
   "source": []
  },
  {
   "cell_type": "code",
   "execution_count": null,
   "metadata": {},
   "outputs": [],
   "source": []
  }
 ],
 "metadata": {
  "kernelspec": {
   "display_name": "Python 3",
   "language": "python",
   "name": "python3"
  },
  "language_info": {
   "codemirror_mode": {
    "name": "ipython",
    "version": 3
   },
   "file_extension": ".py",
   "mimetype": "text/x-python",
   "name": "python",
   "nbconvert_exporter": "python",
   "pygments_lexer": "ipython3",
   "version": "3.7.4"
  }
 },
 "nbformat": 4,
 "nbformat_minor": 2
}
